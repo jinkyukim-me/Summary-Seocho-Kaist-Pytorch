{
 "cells": [
  {
   "cell_type": "code",
   "execution_count": 1,
   "metadata": {
    "ExecuteTime": {
     "end_time": "2019-10-03T08:30:42.343608Z",
     "start_time": "2019-10-03T08:30:41.998531Z"
    }
   },
   "outputs": [],
   "source": [
    "import matplotlib.pyplot as plt"
   ]
  },
  {
   "cell_type": "code",
   "execution_count": 2,
   "metadata": {
    "ExecuteTime": {
     "end_time": "2019-10-03T08:30:48.836198Z",
     "start_time": "2019-10-03T08:30:48.831246Z"
    }
   },
   "outputs": [],
   "source": [
    "study_time_lst = [5, 2, 12, 8, 15, 10, 11, 17, 7.5, 3]\n",
    "score_lst = [60, 40, 96, 72, 100, 98, 89, 96, 80, 30]"
   ]
  },
  {
   "cell_type": "code",
   "execution_count": 3,
   "metadata": {
    "ExecuteTime": {
     "end_time": "2019-10-03T08:31:15.399923Z",
     "start_time": "2019-10-03T08:31:15.222364Z"
    }
   },
   "outputs": [
    {
     "data": {
      "image/png": "[encoded data removed]",
      "text/plain": [
       "<Figure size 432x288 with 1 Axes>"
      ]
     },
     "metadata": {
      "needs_background": "light"
     },
     "output_type": "display_data"
    }
   ],
   "source": [
    "plt.plot(study_time_lst, score_lst, 'ro')\n",
    "plt.show()"
   ]
  },
  {
   "cell_type": "code",
   "execution_count": 4,
   "metadata": {
    "ExecuteTime": {
     "end_time": "2019-10-03T08:40:04.914785Z",
     "start_time": "2019-10-03T08:40:04.910797Z"
    }
   },
   "outputs": [],
   "source": [
    "import random\n",
    "theta = [random.random(), random.random()]\n",
    "data_cnt = len(study_time_lst)"
   ]
  },
  {
   "cell_type": "markdown",
   "metadata": {},
   "source": [
    "### Hyper Parameters"
   ]
  },
  {
   "cell_type": "code",
   "execution_count": 20,
   "metadata": {
    "ExecuteTime": {
     "end_time": "2019-10-03T10:14:46.691263Z",
     "start_time": "2019-10-03T10:14:46.686276Z"
    }
   },
   "outputs": [],
   "source": [
    "lr = 0.001\n",
    "total_epoch = 200"
   ]
  },
  {
   "cell_type": "code",
   "execution_count": 25,
   "metadata": {
    "ExecuteTime": {
     "end_time": "2019-10-03T10:24:06.058271Z",
     "start_time": "2019-10-03T10:24:06.048328Z"
    }
   },
   "outputs": [
    {
     "name": "stdout",
     "output_type": "stream",
     "text": [
      "MSE =  345.43413541169883\n"
     ]
    }
   ],
   "source": [
    "for i in range(total_epoch):\n",
    "    theta_0 = theta[0]\n",
    "    theta_1 = theta[1]\n",
    "    \n",
    "    # Mean Squared Error\n",
    "    MSE = sum([(y - theta_0 - theta_1 * x) ** 2 \n",
    "               for x,y in zip(study_time_lst, score_lst)]) / data_cnt\n",
    "    if (i +1) % 10 == 0:\n",
    "        print(\"MSE = \", MSE)\n",
    "        \n",
    "    # theta0 gradient\n",
    "    err_lst = []\n",
    "    for x, y in zip(study_time_lst, score_lst):\n",
    "        err_lst.append(y - theta_0 - (theta_1 * x))\n",
    "    theta_0_grad = (-2 / data_cnt) * sum(err_lst)\n",
    "    \n",
    "    # theta1 gadient\n",
    "    err_lst = []\n",
    "    for x, y in zip(study_time_lst, score_lst):\n",
    "        err_lst.append((y - theta_0 - (theta_1 * x))*x)\n",
    "    theta_1_grad = (-2 / data_cnt) * sum(err_lst)\n",
    "    \n",
    "    # Gradient Descent\n",
    "    theta[0] = theta[0] - lr * theta_0_grad\n",
    "    theta[1] = theta[1] - lr * theta_1_grad"
   ]
  },
  {
   "cell_type": "code",
   "execution_count": 27,
   "metadata": {
    "ExecuteTime": {
     "end_time": "2019-10-03T10:25:33.142245Z",
     "start_time": "2019-10-03T10:25:33.138222Z"
    }
   },
   "outputs": [
    {
     "name": "stdout",
     "output_type": "stream",
     "text": [
      "theta_0 = 1.3137528479435265, theta_1 = 7.4908823967610925\n"
     ]
    }
   ],
   "source": [
    "print(\"theta_0 = {}, theta_1 = {}\".format(theta[0], theta[1]))"
   ]
  },
  {
   "cell_type": "code",
   "execution_count": 28,
   "metadata": {
    "ExecuteTime": {
     "end_time": "2019-10-03T10:25:56.321773Z",
     "start_time": "2019-10-03T10:25:56.315789Z"
    }
   },
   "outputs": [],
   "source": [
    "study_time_lst = [5, 2, 12, 8, 15, 10, 11, 17, 7.5, 3]\n",
    "score_lst = [60, 40, 96, 72, 100, 98, 89, 96, 80, 30]"
   ]
  },
  {
   "cell_type": "code",
   "execution_count": 31,
   "metadata": {
    "ExecuteTime": {
     "end_time": "2019-10-03T10:28:39.753391Z",
     "start_time": "2019-10-03T10:28:39.608779Z"
    }
   },
   "outputs": [
    {
     "data": {
      "image/png": "[encoded data removed]",
      "text/plain": [
       "<Figure size 432x288 with 1 Axes>"
      ]
     },
     "metadata": {
      "needs_background": "light"
     },
     "output_type": "display_data"
    }
   ],
   "source": [
    "plt.plot(study_time_lst, score_lst, 'ro')\n",
    "plt.plot(study_time_lst, [s * theta[1] + theta[0] for s in study_time_lst])\n",
    "plt.show()"
   ]
  },
  {
   "cell_type": "code",
   "execution_count": 35,
   "metadata": {
    "ExecuteTime": {
     "end_time": "2019-10-03T11:26:01.326637Z",
     "start_time": "2019-10-03T11:26:01.134153Z"
    }
   },
   "outputs": [
    {
     "data": {
      "image/png": "[encoded data removed]",
      "text/plain": [
       "<Figure size 432x288 with 1 Axes>"
      ]
     },
     "metadata": {
      "needs_background": "light"
     },
     "output_type": "display_data"
    }
   ],
   "source": [
    "predicted = [s * theta[1] + theta[0] for s in study_time_lst]\n",
    "\n",
    "plt.clf()\n",
    "plt.title(\"Linear Regression\")\n",
    "plt.plot(study_time_lst, score_lst, 'ro', label='True data', alpha=0.5)\n",
    "plt.plot(study_time_lst, predicted, '--', label='Predictions', alpha=0.5)\n",
    "plt.legend(loc='best')\n",
    "plt.show()"
   ]
  },
  {
   "cell_type": "code",
   "execution_count": null,
   "metadata": {},
   "outputs": [],
   "source": []
  }
 ],
 "metadata": {
  "hide_input": false,
  "kernelspec": {
   "display_name": "Python 3",
   "language": "python",
   "name": "python3"
  },
  "language_info": {
   "codemirror_mode": {
    "name": "ipython",
    "version": 3
   },
   "file_extension": ".py",
   "mimetype": "text/x-python",
   "name": "python",
   "nbconvert_exporter": "python",
   "pygments_lexer": "ipython3",
   "version": "3.6.9"
  },
  "toc": {
   "base_numbering": 1,
   "nav_menu": {},
   "number_sections": true,
   "sideBar": true,
   "skip_h1_title": false,
   "title_cell": "Table of Contents",
   "title_sidebar": "Contents",
   "toc_cell": false,
   "toc_position": {},
   "toc_section_display": true,
   "toc_window_display": false
  },
  "varInspector": {
   "cols": {
    "lenName": 16,
    "lenType": 16,
    "lenVar": 40
   },
   "kernels_config": {
    "python": {
     "delete_cmd_postfix": "",
     "delete_cmd_prefix": "del ",
     "library": "var_list.py",
     "varRefreshCmd": "print(var_dic_list())"
    },
    "r": {
     "delete_cmd_postfix": ") ",
     "delete_cmd_prefix": "rm(",
     "library": "var_list.r",
     "varRefreshCmd": "cat(var_dic_list()) "
    }
   },
   "types_to_exclude": [
    "module",
    "function",
    "builtin_function_or_method",
    "instance",
    "_Feature"
   ],
   "window_display": false
  }
 },
 "nbformat": 4,
 "nbformat_minor": 2
}
