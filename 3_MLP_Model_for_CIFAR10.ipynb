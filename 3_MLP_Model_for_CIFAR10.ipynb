{
 "cells": [
  {
   "cell_type": "code",
   "execution_count": 1,
   "metadata": {
    "ExecuteTime": {
     "end_time": "2019-10-04T14:40:14.406873Z",
     "start_time": "2019-10-04T14:40:12.963650Z"
    }
   },
   "outputs": [],
   "source": [
    "import torch\n",
    "import torch.nn as nn\n",
    "import torchvision.datasets as dsets\n",
    "import torchvision.transforms as transforms\n",
    "import torch.optim as optim\n",
    "import torch.nn.functional as F\n",
    "from torch.autograd import Variable\n",
    "from torchsummary import summary"
   ]
  },
  {
   "cell_type": "code",
   "execution_count": 2,
   "metadata": {
    "ExecuteTime": {
     "end_time": "2019-10-04T14:40:14.742977Z",
     "start_time": "2019-10-04T14:40:14.414851Z"
    }
   },
   "outputs": [
    {
     "name": "stdout",
     "output_type": "stream",
     "text": [
      "True\n"
     ]
    }
   ],
   "source": [
    "batch_size = 128\n",
    "total_epoch = 30\n",
    "learning_rate = 0.01\n",
    "use_cuda = torch.cuda.is_available()\n",
    "criterion = nn.CrossEntropyLoss()\n",
    "print(use_cuda)"
   ]
  },
  {
   "cell_type": "code",
   "execution_count": 3,
   "metadata": {
    "ExecuteTime": {
     "end_time": "2019-10-04T14:40:18.476979Z",
     "start_time": "2019-10-04T14:40:14.749954Z"
    }
   },
   "outputs": [
    {
     "name": "stdout",
     "output_type": "stream",
     "text": [
      "Files already downloaded and verified\n",
      "Files already downloaded and verified\n"
     ]
    }
   ],
   "source": [
    "# dataset\n",
    "train_dataset = dsets.CIFAR10(root='./data', train=True, transform=transforms.ToTensor(), download=True)\n",
    "\n",
    "train_loader = torch.utils.data.DataLoader(dataset=train_dataset, batch_size=batch_size, shuffle=True)\n",
    "\n",
    "test_dataset = dsets.CIFAR10(root='./data', train=False, transform=transforms.ToTensor(), download=True)\n",
    "\n",
    "test_loader = torch.utils.data.DataLoader(dataset=test_dataset, batch_size=batch_size, shuffle=False)"
   ]
  },
  {
   "cell_type": "code",
   "execution_count": 4,
   "metadata": {
    "ExecuteTime": {
     "end_time": "2019-10-04T14:40:18.492935Z",
     "start_time": "2019-10-04T14:40:18.479971Z"
    }
   },
   "outputs": [],
   "source": [
    "# Training Function\n",
    "def train(model,train_loader):\n",
    "    model.train()\n",
    "    \n",
    "    optimizer = torch.optim.SGD(model.parameters(), lr=learning_rate)\n",
    "    losses = []\n",
    "    for i, (image, label) in enumerate(train_loader):\n",
    "        \n",
    "        if use_cuda:\n",
    "            image = image.cuda()\n",
    "            label = label.cuda()\n",
    "        \n",
    "        pred_label = model(image)\n",
    "        loss = criterion(pred_label, label)\n",
    "        losses.append(loss.item())\n",
    "\n",
    "        optimizer.zero_grad()\n",
    "        loss.backward()\n",
    "        optimizer.step()\n",
    "    avg_loss = sum(losses)/len(losses)\n",
    "    return avg_loss"
   ]
  },
  {
   "cell_type": "code",
   "execution_count": 5,
   "metadata": {
    "ExecuteTime": {
     "end_time": "2019-10-04T14:40:18.513881Z",
     "start_time": "2019-10-04T14:40:18.498919Z"
    }
   },
   "outputs": [],
   "source": [
    "# Evaluation Fuction\n",
    "def eval(model, test_loader):\n",
    "    model.eval()\n",
    "    device = next(model.parameters()).device.index\n",
    "    \n",
    "    total_cnt = 0\n",
    "    correct_cnt = 0\n",
    "    \n",
    "    for i, (image, label) in enumerate(test_loader):\n",
    "        if use_cuda:\n",
    "            image = image.cuda()\n",
    "            label = label.cuda()\n",
    "\n",
    "        out = model(image)\n",
    "        _, pred_label = torch.max(out.data, 1)\n",
    "        total_cnt += image.data.size()[0]\n",
    "        correct_cnt += (pred_label == label.data).sum().item()\n",
    "        \n",
    "    return correct_cnt / total_cnt"
   ]
  },
  {
   "cell_type": "code",
   "execution_count": 6,
   "metadata": {
    "ExecuteTime": {
     "end_time": "2019-10-04T14:40:18.537818Z",
     "start_time": "2019-10-04T14:40:18.518867Z"
    }
   },
   "outputs": [],
   "source": [
    "# CIFAR10 MLP Model\n",
    "class SimpleMLP(nn.Module):\n",
    "    def __init__(self):\n",
    "        super(SimpleMLP, self).__init__()\n",
    "        self.fc1 = nn.Linear(3*32*32, 6272)\n",
    "        self.fc2 = nn.Linear(6272, 4608)\n",
    "        self.fc3 = nn.Linear(4608, 2048)\n",
    "        self.fc4 = nn.Linear(2048, 256)\n",
    "        self.fc5 = nn.Linear(256, 10)\n",
    "    \n",
    "    def forward(self, x):\n",
    "        x = x.view(-1, 3*32*32)\n",
    "        x = F.relu(self.fc1(x))\n",
    "        x = F.relu(self.fc2(x))\n",
    "        x = F.relu(self.fc3(x))\n",
    "        x = F.relu(self.fc4(x))\n",
    "        x = self.fc5(x)\n",
    "        return F.log_softmax(x, dim=1)\n",
    "    \n",
    "    def name(self):\n",
    "        return \"SimpleMLP\""
   ]
  },
  {
   "cell_type": "code",
   "execution_count": 7,
   "metadata": {
    "ExecuteTime": {
     "end_time": "2019-10-04T14:56:48.843137Z",
     "start_time": "2019-10-04T14:40:18.544796Z"
    }
   },
   "outputs": [
    {
     "name": "stdout",
     "output_type": "stream",
     "text": [
      "Epoch: [1/30 (3.33%)]\ttrain_loss: 2.2925621957120383\ttest_accuracy: 0.166\n",
      "Epoch: [2/30 (6.67%)]\ttrain_loss: 2.2348927347861287\ttest_accuracy: 0.1929\n",
      "Epoch: [3/30 (10.00%)]\ttrain_loss: 2.0809603966105623\ttest_accuracy: 0.2622\n",
      "Epoch: [4/30 (13.33%)]\ttrain_loss: 1.993512384117107\ttest_accuracy: 0.2864\n",
      "Epoch: [5/30 (16.67%)]\ttrain_loss: 1.9222503998090543\ttest_accuracy: 0.3117\n",
      "Epoch: [6/30 (20.00%)]\ttrain_loss: 1.87206835515054\ttest_accuracy: 0.3234\n",
      "Epoch: [7/30 (23.33%)]\ttrain_loss: 1.8407213389111297\ttest_accuracy: 0.3446\n",
      "Epoch: [8/30 (26.67%)]\ttrain_loss: 1.8074708573348688\ttest_accuracy: 0.3429\n",
      "Epoch: [9/30 (30.00%)]\ttrain_loss: 1.7724926758300312\ttest_accuracy: 0.3603\n",
      "Epoch: [10/30 (33.33%)]\ttrain_loss: 1.7319655860476482\ttest_accuracy: 0.368\n",
      "Epoch: [11/30 (36.67%)]\ttrain_loss: 1.70385106201367\ttest_accuracy: 0.3975\n",
      "Epoch: [12/30 (40.00%)]\ttrain_loss: 1.6773675356984443\ttest_accuracy: 0.4035\n",
      "Epoch: [13/30 (43.33%)]\ttrain_loss: 1.647132964695201\ttest_accuracy: 0.3924\n",
      "Epoch: [14/30 (46.67%)]\ttrain_loss: 1.6179967268043771\ttest_accuracy: 0.4298\n",
      "Epoch: [15/30 (50.00%)]\ttrain_loss: 1.6002999474020565\ttest_accuracy: 0.4204\n",
      "Epoch: [16/30 (53.33%)]\ttrain_loss: 1.5757935385569892\ttest_accuracy: 0.4391\n",
      "Epoch: [17/30 (56.67%)]\ttrain_loss: 1.5529976589295564\ttest_accuracy: 0.4482\n",
      "Epoch: [18/30 (60.00%)]\ttrain_loss: 1.5332210326133786\ttest_accuracy: 0.4536\n",
      "Epoch: [19/30 (63.33%)]\ttrain_loss: 1.5130690403301696\ttest_accuracy: 0.4536\n",
      "Epoch: [20/30 (66.67%)]\ttrain_loss: 1.4928156570400424\ttest_accuracy: 0.4251\n",
      "Epoch: [21/30 (70.00%)]\ttrain_loss: 1.4781142369560574\ttest_accuracy: 0.4544\n",
      "Epoch: [22/30 (73.33%)]\ttrain_loss: 1.4585061856852772\ttest_accuracy: 0.4686\n",
      "Epoch: [23/30 (76.67%)]\ttrain_loss: 1.4418166656323406\ttest_accuracy: 0.4593\n",
      "Epoch: [24/30 (80.00%)]\ttrain_loss: 1.4295273220447628\ttest_accuracy: 0.4818\n",
      "Epoch: [25/30 (83.33%)]\ttrain_loss: 1.408300164105642\ttest_accuracy: 0.4763\n",
      "Epoch: [26/30 (86.67%)]\ttrain_loss: 1.3929274634022237\ttest_accuracy: 0.4955\n",
      "Epoch: [27/30 (90.00%)]\ttrain_loss: 1.3784617953898046\ttest_accuracy: 0.5051\n",
      "Epoch: [28/30 (93.33%)]\ttrain_loss: 1.360601313278803\ttest_accuracy: 0.4718\n",
      "Epoch: [29/30 (96.67%)]\ttrain_loss: 1.349383113634251\ttest_accuracy: 0.4938\n",
      "Epoch: [30/30 (100.00%)]\ttrain_loss: 1.329338723131458\ttest_accuracy: 0.4909\n",
      "----------------------------------------------------------------\n",
      "        Layer (type)               Output Shape         Param #\n",
      "================================================================\n",
      "            Linear-1                 [-1, 6272]      19,273,856\n",
      "            Linear-2                 [-1, 4608]      28,905,984\n",
      "            Linear-3                 [-1, 2048]       9,439,232\n",
      "            Linear-4                  [-1, 256]         524,544\n",
      "            Linear-5                   [-1, 10]           2,570\n",
      "================================================================\n",
      "Total params: 58,146,186\n",
      "Trainable params: 58,146,186\n",
      "Non-trainable params: 0\n",
      "----------------------------------------------------------------\n",
      "Input size (MB): 0.01\n",
      "Forward/backward pass size (MB): 0.10\n",
      "Params size (MB): 221.81\n",
      "Estimated Total Size (MB): 221.92\n",
      "----------------------------------------------------------------\n"
     ]
    }
   ],
   "source": [
    "# Training & Evaludation\n",
    "mlp_model = SimpleMLP().cuda()\n",
    "train_loss_lst = []\n",
    "test_accuracy_lst = []\n",
    "for epoch in range(total_epoch):\n",
    "    train_loss = train(mlp_model, train_loader)\n",
    "    train_loss_lst.append(train_loss)\n",
    "    test_accuracy = eval(mlp_model, test_loader)\n",
    "    test_accuracy_lst.append(test_accuracy)\n",
    "    \n",
    "    print(\"Epoch: [{}/{} ({:.2f}%)]\\ttrain_loss: {}\\ttest_accuracy: {}\".\n",
    "          format(epoch + 1, total_epoch, \n",
    "                 100 * ((epoch + 1) / total_epoch),\n",
    "                 train_loss, test_accuracy))\n",
    "\n",
    "summary(mlp_model, input_size = (3,32,32))"
   ]
  },
  {
   "cell_type": "code",
   "execution_count": 8,
   "metadata": {
    "ExecuteTime": {
     "end_time": "2019-10-04T14:56:50.250859Z",
     "start_time": "2019-10-04T14:56:48.858098Z"
    }
   },
   "outputs": [],
   "source": [
    "import matplotlib.pyplot as plt\n",
    "%matplotlib inline"
   ]
  },
  {
   "cell_type": "code",
   "execution_count": 9,
   "metadata": {
    "ExecuteTime": {
     "end_time": "2019-10-04T14:56:50.986890Z",
     "start_time": "2019-10-04T14:56:50.260833Z"
    }
   },
   "outputs": [
    {
     "data": {
      "image/png": "[encoded data removed]",
      "text/plain": [
       "<Figure size 432x288 with 1 Axes>"
      ]
     },
     "metadata": {
      "needs_background": "light"
     },
     "output_type": "display_data"
    }
   ],
   "source": [
    "plt.clf()\n",
    "plt.title(\"MLP Model for CIFAR10\")\n",
    "plt.plot(train_loss_lst, '-', label='Train Loss', alpha=0.8)\n",
    "plt.legend(loc='best')\n",
    "plt.show()"
   ]
  },
  {
   "cell_type": "code",
   "execution_count": 10,
   "metadata": {
    "ExecuteTime": {
     "end_time": "2019-10-04T14:56:51.807694Z",
     "start_time": "2019-10-04T14:56:50.994867Z"
    }
   },
   "outputs": [
    {
     "data": {
      "image/png": "[encoded data removed]",
      "text/plain": [
       "<Figure size 432x288 with 1 Axes>"
      ]
     },
     "metadata": {
      "needs_background": "light"
     },
     "output_type": "display_data"
    }
   ],
   "source": [
    "plt.clf()\n",
    "plt.title(\"MLP Model for CIFAR10\")\n",
    "plt.plot(test_accuracy_lst, '-', label='Test Accuracy', alpha=0.8)\n",
    "plt.legend(loc='best')\n",
    "plt.show()"
   ]
  },
  {
   "cell_type": "code",
   "execution_count": null,
   "metadata": {},
   "outputs": [],
   "source": []
  }
 ],
 "metadata": {
  "hide_input": false,
  "kernelspec": {
   "display_name": "Python 3",
   "language": "python",
   "name": "python3"
  },
  "language_info": {
   "codemirror_mode": {
    "name": "ipython",
    "version": 3
   },
   "file_extension": ".py",
   "mimetype": "text/x-python",
   "name": "python",
   "nbconvert_exporter": "python",
   "pygments_lexer": "ipython3",
   "version": "3.6.9"
  },
  "toc": {
   "base_numbering": 1,
   "nav_menu": {},
   "number_sections": true,
   "sideBar": true,
   "skip_h1_title": false,
   "title_cell": "Table of Contents",
   "title_sidebar": "Contents",
   "toc_cell": false,
   "toc_position": {},
   "toc_section_display": true,
   "toc_window_display": false
  },
  "varInspector": {
   "cols": {
    "lenName": 16,
    "lenType": 16,
    "lenVar": 40
   },
   "kernels_config": {
    "python": {
     "delete_cmd_postfix": "",
     "delete_cmd_prefix": "del ",
     "library": "var_list.py",
     "varRefreshCmd": "print(var_dic_list())"
    },
    "r": {
     "delete_cmd_postfix": ") ",
     "delete_cmd_prefix": "rm(",
     "library": "var_list.r",
     "varRefreshCmd": "cat(var_dic_list()) "
    }
   },
   "types_to_exclude": [
    "module",
    "function",
    "builtin_function_or_method",
    "instance",
    "_Feature"
   ],
   "window_display": false
  }
 },
 "nbformat": 4,
 "nbformat_minor": 2
}
