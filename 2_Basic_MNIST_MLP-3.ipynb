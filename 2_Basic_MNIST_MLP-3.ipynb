{
 "cells": [
  {
   "cell_type": "markdown",
   "metadata": {
    "colab_type": "text",
    "id": "jYnWE9diaVBn"
   },
   "source": [
    "## 중요 모듈 import"
   ]
  },
  {
   "cell_type": "code",
   "execution_count": 1,
   "metadata": {
    "ExecuteTime": {
     "end_time": "2019-10-04T08:04:16.032647Z",
     "start_time": "2019-10-04T08:04:15.406219Z"
    },
    "colab": {},
    "colab_type": "code",
    "id": "s4G2YZLDZ_xg"
   },
   "outputs": [],
   "source": [
    "import os\n",
    "import torch\n",
    "import torch.nn as nn\n",
    "import torchvision.datasets as dset\n",
    "import torchvision.transforms as transforms\n",
    "import torch.nn.functional as F\n",
    "import torch.optim as optim"
   ]
  },
  {
   "cell_type": "markdown",
   "metadata": {
    "colab_type": "text",
    "id": "wmo2MZUOaeNA"
   },
   "source": [
    "## 데이터 셋"
   ]
  },
  {
   "cell_type": "code",
   "execution_count": 2,
   "metadata": {
    "ExecuteTime": {
     "end_time": "2019-10-04T08:04:16.038527Z",
     "start_time": "2019-10-04T08:04:16.034569Z"
    },
    "colab": {},
    "colab_type": "code",
    "id": "LDxplYYeahnL"
   },
   "outputs": [],
   "source": [
    "root = './data'\n",
    "if not os.path.exists(root):\n",
    "    os.mkdir(root)"
   ]
  },
  {
   "cell_type": "code",
   "execution_count": 3,
   "metadata": {
    "ExecuteTime": {
     "end_time": "2019-10-04T08:04:16.122443Z",
     "start_time": "2019-10-04T08:04:16.041554Z"
    },
    "colab": {},
    "colab_type": "code",
    "id": "lp1oov3Fatkw"
   },
   "outputs": [],
   "source": [
    "trans = transforms.Compose([transforms.ToTensor(), transforms.Normalize((0.5,), (1.0,))])\n",
    "train_set = dset.MNIST(root=root, train=True, transform=trans, download=True)\n",
    "test_set = dset.MNIST(root=root, train=False, transform=trans, download=True)"
   ]
  },
  {
   "cell_type": "markdown",
   "metadata": {
    "colab_type": "text",
    "id": "AhsW6kddc2_P"
   },
   "source": [
    "## Hyper Parameters"
   ]
  },
  {
   "cell_type": "code",
   "execution_count": 4,
   "metadata": {
    "ExecuteTime": {
     "end_time": "2019-10-04T08:04:16.610012Z",
     "start_time": "2019-10-04T08:04:16.125328Z"
    },
    "colab": {},
    "colab_type": "code",
    "id": "oIUka0ricnld"
   },
   "outputs": [],
   "source": [
    "# Hyper Parameters\n",
    "batch_size = 100\n",
    "total_epoch = 10\n",
    "learning_rate = 0.1\n",
    "use_cuda = torch.cuda.is_available()"
   ]
  },
  {
   "cell_type": "markdown",
   "metadata": {
    "colab_type": "text",
    "id": "XuE7fKPjc8_3"
   },
   "source": [
    "## Data Loader"
   ]
  },
  {
   "cell_type": "code",
   "execution_count": 5,
   "metadata": {
    "ExecuteTime": {
     "end_time": "2019-10-04T08:04:16.655875Z",
     "start_time": "2019-10-04T08:04:16.611991Z"
    },
    "colab": {
     "base_uri": "https://localhost:8080/",
     "height": 50
    },
    "colab_type": "code",
    "executionInfo": {
     "elapsed": 1881,
     "status": "ok",
     "timestamp": 1570121649083,
     "user": {
      "displayName": "Jinkyu Kim",
      "photoUrl": "https://lh3.googleusercontent.com/a-/AAuE7mBI3V4v2jgGjDWZ9LguiZGukfMnweTODPPC0mGktMA=s64",
      "userId": "17799218152297571837"
     },
     "user_tz": -540
    },
    "id": "3NDBfZEKc0PL",
    "outputId": "9b2e0fe4-dcad-4dbf-feb3-725f31680179"
   },
   "outputs": [
    {
     "name": "stdout",
     "output_type": "stream",
     "text": [
      "==>> total trainning batch number: 600\n",
      "==>> total testing batch number: 600\n"
     ]
    }
   ],
   "source": [
    "# Data Loader\n",
    "train_loader = torch.utils.data.DataLoader(dataset=train_set, batch_size=batch_size, shuffle=True)\n",
    "test_loader = torch.utils.data.DataLoader(dataset=test_set, batch_size=batch_size, shuffle=False)\n",
    "print('==>> total trainning batch number: {}'.format(len(train_loader)))\n",
    "print('==>> total testing batch number: {}'.format(len(train_loader)))"
   ]
  },
  {
   "cell_type": "markdown",
   "metadata": {
    "colab_type": "text",
    "id": "7Kji_bGNdISE"
   },
   "source": [
    "## MNIST MLP Model"
   ]
  },
  {
   "cell_type": "code",
   "execution_count": 6,
   "metadata": {
    "ExecuteTime": {
     "end_time": "2019-10-04T08:04:16.673837Z",
     "start_time": "2019-10-04T08:04:16.659866Z"
    },
    "colab": {},
    "colab_type": "code",
    "id": "01sIPAuRc_fa"
   },
   "outputs": [],
   "source": [
    "# MNIST MLP Model\n",
    "\n",
    "class MLPNet(nn.Module):\n",
    "    def __init__(self):\n",
    "        super(MLPNet, self).__init__()\n",
    "        self.fc1 = nn.Linear(28*28, 512)\n",
    "        self.fc2 = nn.Linear(512, 256)\n",
    "        self.fc3 = nn.Linear(256, 128)\n",
    "        self.fc4 = nn.Linear(128, 10)\n",
    "        \n",
    "    def forward(self, x):\n",
    "        x = x.view(-1, 28*28)\n",
    "        x = F.relu(self.fc1(x))\n",
    "        x = F.relu(self.fc2(x))\n",
    "        x = F.relu(self.fc3(x))\n",
    "\n",
    "        x = self.fc4(x)\n",
    "        \n",
    "        return F.log_softmax(x, dim=1)\n",
    "    \n",
    "    def name(self):\n",
    "        return \"MLP\""
   ]
  },
  {
   "cell_type": "code",
   "execution_count": 7,
   "metadata": {
    "ExecuteTime": {
     "end_time": "2019-10-04T08:04:18.577775Z",
     "start_time": "2019-10-04T08:04:16.676820Z"
    },
    "colab": {},
    "colab_type": "code",
    "id": "eTyE1uUEdWN-"
   },
   "outputs": [],
   "source": [
    "model = MLPNet()\n",
    "if use_cuda:\n",
    "    model = model.cuda()"
   ]
  },
  {
   "cell_type": "code",
   "execution_count": 8,
   "metadata": {
    "ExecuteTime": {
     "end_time": "2019-10-04T08:04:18.586741Z",
     "start_time": "2019-10-04T08:04:18.581722Z"
    },
    "colab": {},
    "colab_type": "code",
    "id": "MOeHT7KRhlMR"
   },
   "outputs": [],
   "source": [
    "optimizer = optim.SGD(model.parameters(), lr=learning_rate)\n",
    "criterion = nn.CrossEntropyLoss() # 이미지 분류 모델은 일반적으로 CrossEntropy Loss Function을 사용"
   ]
  },
  {
   "cell_type": "markdown",
   "metadata": {
    "colab_type": "text",
    "id": "B-V6stbBh2Bn"
   },
   "source": [
    "## 모델 학습"
   ]
  },
  {
   "cell_type": "code",
   "execution_count": 9,
   "metadata": {
    "ExecuteTime": {
     "end_time": "2019-10-04T08:06:29.202165Z",
     "start_time": "2019-10-04T08:04:18.590710Z"
    },
    "colab": {
     "base_uri": "https://localhost:8080/",
     "height": 1000
    },
    "colab_type": "code",
    "executionInfo": {
     "elapsed": 125964,
     "status": "ok",
     "timestamp": 1570121773227,
     "user": {
      "displayName": "Jinkyu Kim",
      "photoUrl": "https://lh3.googleusercontent.com/a-/AAuE7mBI3V4v2jgGjDWZ9LguiZGukfMnweTODPPC0mGktMA=s64",
      "userId": "17799218152297571837"
     },
     "user_tz": -540
    },
    "id": "f5j0WT7hh6r8",
    "outputId": "ef2c1dec-5c3e-407a-e0a8-58e9225dea93"
   },
   "outputs": [
    {
     "name": "stdout",
     "output_type": "stream",
     "text": [
      "==>>> epoch : 0, batch index : 100, train loss : 2.088962\n",
      "==>>> epoch : 0, batch index : 200, train loss : 1.571905\n",
      "==>>> epoch : 0, batch index : 300, train loss : 1.236523\n",
      "==>>> epoch : 0, batch index : 400, train loss : 1.041320\n",
      "==>>> epoch : 0, batch index : 500, train loss : 0.905584\n",
      "==>>> epoch : 0, batch index : 600, train loss : 0.808665\n",
      "==>>> epoch : 0, batch index : 100, train loss : 0.332237, acc: 0.893\n",
      "==>>> epoch : 1, batch index : 100, train loss : 0.305665\n",
      "==>>> epoch : 1, batch index : 200, train loss : 0.280823\n",
      "==>>> epoch : 1, batch index : 300, train loss : 0.272787\n",
      "==>>> epoch : 1, batch index : 400, train loss : 0.262217\n",
      "==>>> epoch : 1, batch index : 500, train loss : 0.252192\n",
      "==>>> epoch : 1, batch index : 600, train loss : 0.241923\n",
      "==>>> epoch : 1, batch index : 100, train loss : 0.169000, acc: 0.949\n",
      "==>>> epoch : 2, batch index : 100, train loss : 0.174982\n",
      "==>>> epoch : 2, batch index : 200, train loss : 0.175613\n",
      "==>>> epoch : 2, batch index : 300, train loss : 0.172847\n",
      "==>>> epoch : 2, batch index : 400, train loss : 0.168932\n",
      "==>>> epoch : 2, batch index : 500, train loss : 0.165354\n",
      "==>>> epoch : 2, batch index : 600, train loss : 0.162932\n",
      "==>>> epoch : 2, batch index : 100, train loss : 0.154517, acc: 0.951\n",
      "==>>> epoch : 3, batch index : 100, train loss : 0.135592\n",
      "==>>> epoch : 3, batch index : 200, train loss : 0.130159\n",
      "==>>> epoch : 3, batch index : 300, train loss : 0.132513\n",
      "==>>> epoch : 3, batch index : 400, train loss : 0.131019\n",
      "==>>> epoch : 3, batch index : 500, train loss : 0.127837\n",
      "==>>> epoch : 3, batch index : 600, train loss : 0.124024\n",
      "==>>> epoch : 3, batch index : 100, train loss : 0.112804, acc: 0.966\n",
      "==>>> epoch : 4, batch index : 100, train loss : 0.102114\n",
      "==>>> epoch : 4, batch index : 200, train loss : 0.103135\n",
      "==>>> epoch : 4, batch index : 300, train loss : 0.102687\n",
      "==>>> epoch : 4, batch index : 400, train loss : 0.101277\n",
      "==>>> epoch : 4, batch index : 500, train loss : 0.101233\n",
      "==>>> epoch : 4, batch index : 600, train loss : 0.100889\n",
      "==>>> epoch : 4, batch index : 100, train loss : 0.095686, acc: 0.971\n",
      "==>>> epoch : 5, batch index : 100, train loss : 0.088909\n",
      "==>>> epoch : 5, batch index : 200, train loss : 0.086332\n",
      "==>>> epoch : 5, batch index : 300, train loss : 0.083982\n",
      "==>>> epoch : 5, batch index : 400, train loss : 0.086111\n",
      "==>>> epoch : 5, batch index : 500, train loss : 0.086814\n",
      "==>>> epoch : 5, batch index : 600, train loss : 0.084933\n",
      "==>>> epoch : 5, batch index : 100, train loss : 0.088093, acc: 0.971\n",
      "==>>> epoch : 6, batch index : 100, train loss : 0.069527\n",
      "==>>> epoch : 6, batch index : 200, train loss : 0.068912\n",
      "==>>> epoch : 6, batch index : 300, train loss : 0.070739\n",
      "==>>> epoch : 6, batch index : 400, train loss : 0.072624\n",
      "==>>> epoch : 6, batch index : 500, train loss : 0.070863\n",
      "==>>> epoch : 6, batch index : 600, train loss : 0.071179\n",
      "==>>> epoch : 6, batch index : 100, train loss : 0.076040, acc: 0.975\n",
      "==>>> epoch : 7, batch index : 100, train loss : 0.057575\n",
      "==>>> epoch : 7, batch index : 200, train loss : 0.056844\n",
      "==>>> epoch : 7, batch index : 300, train loss : 0.059674\n",
      "==>>> epoch : 7, batch index : 400, train loss : 0.061123\n",
      "==>>> epoch : 7, batch index : 500, train loss : 0.061660\n",
      "==>>> epoch : 7, batch index : 600, train loss : 0.061686\n",
      "==>>> epoch : 7, batch index : 100, train loss : 0.083744, acc: 0.972\n",
      "==>>> epoch : 8, batch index : 100, train loss : 0.058183\n",
      "==>>> epoch : 8, batch index : 200, train loss : 0.053792\n",
      "==>>> epoch : 8, batch index : 300, train loss : 0.050921\n",
      "==>>> epoch : 8, batch index : 400, train loss : 0.051284\n",
      "==>>> epoch : 8, batch index : 500, train loss : 0.053409\n",
      "==>>> epoch : 8, batch index : 600, train loss : 0.052895\n",
      "==>>> epoch : 8, batch index : 100, train loss : 0.078385, acc: 0.976\n",
      "==>>> epoch : 9, batch index : 100, train loss : 0.045235\n",
      "==>>> epoch : 9, batch index : 200, train loss : 0.044329\n",
      "==>>> epoch : 9, batch index : 300, train loss : 0.043709\n",
      "==>>> epoch : 9, batch index : 400, train loss : 0.044515\n",
      "==>>> epoch : 9, batch index : 500, train loss : 0.045201\n",
      "==>>> epoch : 9, batch index : 600, train loss : 0.045967\n",
      "==>>> epoch : 9, batch index : 100, train loss : 0.070644, acc: 0.977\n"
     ]
    }
   ],
   "source": [
    "for epoch in range(total_epoch):\n",
    "    # trainning\n",
    "    total_loss = 0\n",
    "    total_batch = 0\n",
    "    for batch_idx, (x, target) in enumerate(train_loader):\n",
    "        optimizer.zero_grad()\n",
    "        if use_cuda:\n",
    "            x, target = x.cuda(), target.cuda()\n",
    "\n",
    "        out = model(x)\n",
    "        loss = criterion(out, target)\n",
    "        total_loss += loss.item()\n",
    "        total_batch += 1\n",
    "        loss.backward()\n",
    "        optimizer.step()\n",
    "        if (batch_idx + 1) % 100 == 0 or (batch_idx + 1) == len(train_loader):\n",
    "            print('==>>> epoch : {}, batch index : {}, train loss : {:.6f}'\n",
    "                  .format(epoch, batch_idx+1, total_loss/total_batch))\n",
    "    # testing\n",
    "    total_loss = 0\n",
    "    total_batch = 0\n",
    "    correct_cnt = 0\n",
    "    total_cnt = 0\n",
    "    for batch_idx, (x, target) in enumerate(test_loader):\n",
    "        if use_cuda:\n",
    "            x, target = x.cuda(), target.cuda()\n",
    "\n",
    "        out = model(x)\n",
    "        loss = criterion(out, target)\n",
    "        _, pred_label = torch.max(out.data, 1)\n",
    "        total_cnt += x.data.size()[0]\n",
    "        correct_cnt += (pred_label == target.data).sum().item()\n",
    "\n",
    "        total_loss += loss.item()\n",
    "        total_batch += 1\n",
    "\n",
    "        if (batch_idx + 1) % 100 == 0 or (batch_idx + 1) == len(test_loader):\n",
    "            print('==>>> epoch : {}, batch index : {}, train loss : {:.6f}, acc: {:.3f}'\n",
    "                  .format(epoch, batch_idx + 1, total_loss / total_batch, correct_cnt * 1.0 / total_cnt))"
   ]
  }
 ],
 "metadata": {
  "accelerator": "GPU",
  "colab": {
   "name": "2_Basic_MNIST_MLP.ipynb",
   "provenance": []
  },
  "hide_input": false,
  "kernelspec": {
   "display_name": "Python 3",
   "language": "python",
   "name": "python3"
  },
  "language_info": {
   "codemirror_mode": {
    "name": "ipython",
    "version": 3
   },
   "file_extension": ".py",
   "mimetype": "text/x-python",
   "name": "python",
   "nbconvert_exporter": "python",
   "pygments_lexer": "ipython3",
   "version": "3.6.9"
  },
  "toc": {
   "base_numbering": 1,
   "nav_menu": {},
   "number_sections": true,
   "sideBar": true,
   "skip_h1_title": false,
   "title_cell": "Table of Contents",
   "title_sidebar": "Contents",
   "toc_cell": false,
   "toc_position": {},
   "toc_section_display": true,
   "toc_window_display": false
  },
  "varInspector": {
   "cols": {
    "lenName": 16,
    "lenType": 16,
    "lenVar": 40
   },
   "kernels_config": {
    "python": {
     "delete_cmd_postfix": "",
     "delete_cmd_prefix": "del ",
     "library": "var_list.py",
     "varRefreshCmd": "print(var_dic_list())"
    },
    "r": {
     "delete_cmd_postfix": ") ",
     "delete_cmd_prefix": "rm(",
     "library": "var_list.r",
     "varRefreshCmd": "cat(var_dic_list()) "
    }
   },
   "types_to_exclude": [
    "module",
    "function",
    "builtin_function_or_method",
    "instance",
    "_Feature"
   ],
   "window_display": false
  }
 },
 "nbformat": 4,
 "nbformat_minor": 1
}
