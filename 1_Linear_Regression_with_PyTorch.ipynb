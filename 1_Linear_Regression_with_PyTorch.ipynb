{
 "cells": [
  {
   "cell_type": "markdown",
   "metadata": {},
   "source": [
    "# PyTorch를 이용한 Linear Regression\n",
    "\n",
    "    * y = 1 + 2 * x1 + 3 * x2 변수 2개의 Linear 모델\n",
    "    * 약간의 오차가 들어간 100개의 데이터를 생성\n",
    "    * 위의 linear 모델을 approximation 하기\n",
    "\n",
    "## Hyper Parameters\n",
    "## Problem Statements\n",
    "## Training\n",
    "## Loss"
   ]
  },
  {
   "cell_type": "code",
   "execution_count": 1,
   "metadata": {
    "ExecuteTime": {
     "end_time": "2019-10-03T15:49:32.198419Z",
     "start_time": "2019-10-03T15:49:31.409499Z"
    }
   },
   "outputs": [],
   "source": [
    "import torch"
   ]
  },
  {
   "cell_type": "code",
   "execution_count": 2,
   "metadata": {
    "ExecuteTime": {
     "end_time": "2019-10-03T15:49:32.204371Z",
     "start_time": "2019-10-03T15:49:32.201382Z"
    }
   },
   "outputs": [],
   "source": [
    "# Hyper Parameters\n",
    "TOTAL_EPOCH = 500\n",
    "LR = 0.005"
   ]
  },
  {
   "cell_type": "code",
   "execution_count": 3,
   "metadata": {
    "ExecuteTime": {
     "end_time": "2019-10-03T15:49:32.518527Z",
     "start_time": "2019-10-03T15:49:32.207362Z"
    }
   },
   "outputs": [
    {
     "name": "stdout",
     "output_type": "stream",
     "text": [
      "True\n"
     ]
    }
   ],
   "source": [
    "print(torch.cuda.is_available())"
   ]
  },
  {
   "cell_type": "code",
   "execution_count": 4,
   "metadata": {
    "ExecuteTime": {
     "end_time": "2019-10-03T15:49:32.526543Z",
     "start_time": "2019-10-03T15:49:32.521521Z"
    }
   },
   "outputs": [],
   "source": [
    "# GPU\n",
    "device = torch.device(\"cuda:0\")"
   ]
  },
  {
   "cell_type": "code",
   "execution_count": 5,
   "metadata": {
    "ExecuteTime": {
     "end_time": "2019-10-03T15:49:32.540504Z",
     "start_time": "2019-10-03T15:49:32.529499Z"
    }
   },
   "outputs": [],
   "source": [
    "# Problem Statements\n",
    "# y = 1 + 2 * x1 + 3 * x2\n",
    "w_true = torch.Tensor([1, 2, 3]) # coefficient 1,2,3\n",
    "X = torch.cat([torch.ones(100,1), torch.randn(100,2)], dim=1) # [100,3] 1, x1, x2\n",
    "y = torch.mv(X, w_true) + torch.rand(100) * 0.3 # [100] 'y = 1 + 2 * x1 + 3 * x2 + residual error'\n",
    "w = torch.rand(3, requires_grad=True) # [3]"
   ]
  },
  {
   "cell_type": "code",
   "execution_count": 6,
   "metadata": {
    "ExecuteTime": {
     "end_time": "2019-10-03T15:49:32.703032Z",
     "start_time": "2019-10-03T15:49:32.544460Z"
    }
   },
   "outputs": [],
   "source": [
    "loss_lst = []\n",
    "for epoch in range(TOTAL_EPOCH):\n",
    "    w.grad = None\n",
    "    y_pred = torch.mv(X, w) # [100]\n",
    "    loss = torch.mean((y - y_pred) ** 2) # Loss Function: MSE\n",
    "    loss.backward()\n",
    "    w.data = w.data - LR * w.grad.data\n",
    "    loss_lst.append(loss.item())"
   ]
  },
  {
   "cell_type": "code",
   "execution_count": 7,
   "metadata": {
    "ExecuteTime": {
     "end_time": "2019-10-03T15:49:32.791799Z",
     "start_time": "2019-10-03T15:49:32.705028Z"
    }
   },
   "outputs": [
    {
     "name": "stdout",
     "output_type": "stream",
     "text": [
      "5.6081438064575195\n",
      "4.573292255401611\n",
      "3.7366678714752197\n",
      "3.0589542388916016\n",
      "2.508882522583008\n",
      "2.061539649963379\n",
      "1.6970385313034058\n",
      "1.399476170539856\n",
      "1.1561087369918823\n",
      "0.9567068219184875\n",
      "0.7930404543876648\n",
      "0.6584776043891907\n",
      "0.5476613640785217\n",
      "0.45625704526901245\n",
      "0.38075026869773865\n",
      "0.3182857036590576\n",
      "0.2665395736694336\n",
      "0.22361606359481812\n",
      "0.1879664957523346\n",
      "0.15832361578941345\n",
      "0.13364779949188232\n",
      "0.11308520287275314\n",
      "0.09593326598405838\n",
      "0.08161300420761108\n",
      "0.06964672356843948\n",
      "0.05963917821645737\n",
      "0.051263246685266495\n",
      "0.04424813762307167\n",
      "0.03836887329816818\n",
      "0.03343842923641205\n",
      "0.029301345348358154\n",
      "0.02582809515297413\n",
      "0.022910691797733307\n",
      "0.020459212362766266\n",
      "0.01839820109307766\n",
      "0.016664870083332062\n",
      "0.01520657166838646\n",
      "0.013979213312268257\n",
      "0.012945946305990219\n",
      "0.012075806967914104\n",
      "0.01134282723069191\n",
      "0.010725278407335281\n",
      "0.010204869322478771\n",
      "0.00976616982370615\n",
      "0.009396322071552277\n",
      "0.009084425866603851\n",
      "0.00882136169821024\n",
      "0.008599475026130676\n",
      "0.008412299677729607\n",
      "0.008254354819655418\n"
     ]
    }
   ],
   "source": [
    "for i in range(len(loss_lst)):\n",
    "    if (i+1) % 10 == 0:\n",
    "        print(loss_lst[i])"
   ]
  },
  {
   "cell_type": "code",
   "execution_count": 8,
   "metadata": {
    "ExecuteTime": {
     "end_time": "2019-10-03T15:49:33.277495Z",
     "start_time": "2019-10-03T15:49:32.796785Z"
    }
   },
   "outputs": [],
   "source": [
    "import matplotlib.pyplot as plt\n",
    "%matplotlib inline"
   ]
  },
  {
   "cell_type": "code",
   "execution_count": 9,
   "metadata": {
    "ExecuteTime": {
     "end_time": "2019-10-03T15:49:33.476003Z",
     "start_time": "2019-10-03T15:49:33.279492Z"
    },
    "scrolled": false
   },
   "outputs": [
    {
     "data": {
      "image/png": "[encoded data removed]",
      "text/plain": [
       "<Figure size 432x288 with 1 Axes>"
      ]
     },
     "metadata": {
      "needs_background": "light"
     },
     "output_type": "display_data"
    }
   ],
   "source": [
    "plt.clf()\n",
    "plt.title(\"Linear Regression with Pytorch\")\n",
    "plt.plot(loss_lst, '-', label='loss', alpha=0.8)\n",
    "plt.legend(loc='best')\n",
    "plt.show()"
   ]
  },
  {
   "cell_type": "code",
   "execution_count": 10,
   "metadata": {
    "ExecuteTime": {
     "end_time": "2019-10-03T15:49:33.493920Z",
     "start_time": "2019-10-03T15:49:33.478957Z"
    }
   },
   "outputs": [
    {
     "name": "stdout",
     "output_type": "stream",
     "text": [
      "tensor([1.1668, 1.9693, 2.9833], requires_grad=True)\n",
      "accuracy: 1= 0.833214, 2= 0.984640, 3= 0.994418\n"
     ]
    }
   ],
   "source": [
    "print(w)\n",
    "print(\"accuracy: 1= {:0.6f}, 2= {:0.6f}, 3= {:0.6f}\".\n",
    "      format( 1 - (abs(w[0] - 1) / 1), \n",
    "              1 - (abs(w[1] - 2) / 2), \n",
    "              1 - (abs(w[2] - 3) / 3) ))"
   ]
  },
  {
   "cell_type": "code",
   "execution_count": 11,
   "metadata": {
    "ExecuteTime": {
     "end_time": "2019-10-03T15:49:33.511871Z",
     "start_time": "2019-10-03T15:49:33.496910Z"
    }
   },
   "outputs": [
    {
     "name": "stdout",
     "output_type": "stream",
     "text": [
      "tensor([1.1668, 1.9693, 2.9833], requires_grad=True)\n",
      "accuracy: 1= 83.32%, 2= 98.46%, 3= 99.44%\n"
     ]
    }
   ],
   "source": [
    "print(w)\n",
    "print(\"accuracy: 1= {:0.2f}%, 2= {:0.2f}%, 3= {:0.2f}%\".\n",
    "      format( 100 - ((abs(w[0] - 1) / 1) * 100), \n",
    "              100 - ((abs(w[1] - 2) / 2) * 100), \n",
    "              100 - ((abs(w[2] - 3) / 3) * 100) ))"
   ]
  },
  {
   "cell_type": "code",
   "execution_count": null,
   "metadata": {},
   "outputs": [],
   "source": []
  }
 ],
 "metadata": {
  "hide_input": false,
  "kernelspec": {
   "display_name": "Python 3",
   "language": "python",
   "name": "python3"
  },
  "language_info": {
   "codemirror_mode": {
    "name": "ipython",
    "version": 3
   },
   "file_extension": ".py",
   "mimetype": "text/x-python",
   "name": "python",
   "nbconvert_exporter": "python",
   "pygments_lexer": "ipython3",
   "version": "3.6.9"
  },
  "toc": {
   "base_numbering": 1,
   "nav_menu": {},
   "number_sections": true,
   "sideBar": true,
   "skip_h1_title": false,
   "title_cell": "Table of Contents",
   "title_sidebar": "Contents",
   "toc_cell": false,
   "toc_position": {},
   "toc_section_display": true,
   "toc_window_display": false
  },
  "varInspector": {
   "cols": {
    "lenName": 16,
    "lenType": 16,
    "lenVar": 40
   },
   "kernels_config": {
    "python": {
     "delete_cmd_postfix": "",
     "delete_cmd_prefix": "del ",
     "library": "var_list.py",
     "varRefreshCmd": "print(var_dic_list())"
    },
    "r": {
     "delete_cmd_postfix": ") ",
     "delete_cmd_prefix": "rm(",
     "library": "var_list.r",
     "varRefreshCmd": "cat(var_dic_list()) "
    }
   },
   "types_to_exclude": [
    "module",
    "function",
    "builtin_function_or_method",
    "instance",
    "_Feature"
   ],
   "window_display": false
  }
 },
 "nbformat": 4,
 "nbformat_minor": 2
}
