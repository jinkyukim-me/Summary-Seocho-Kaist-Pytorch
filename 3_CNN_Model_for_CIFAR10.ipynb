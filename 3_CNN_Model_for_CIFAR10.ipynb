{
 "cells": [
  {
   "cell_type": "code",
   "execution_count": 1,
   "metadata": {
    "ExecuteTime": {
     "end_time": "2019-10-04T15:28:17.122042Z",
     "start_time": "2019-10-04T15:28:08.642736Z"
    }
   },
   "outputs": [],
   "source": [
    "import torch\n",
    "import torch.nn as nn\n",
    "import torchvision.datasets as dsets\n",
    "import torchvision.transforms as transforms\n",
    "import torch.optim as optim\n",
    "import torch.nn.functional as F\n",
    "from torch.autograd import Variable\n",
    "from torchsummary import summary"
   ]
  },
  {
   "cell_type": "code",
   "execution_count": 2,
   "metadata": {
    "ExecuteTime": {
     "end_time": "2019-10-04T15:28:17.796271Z",
     "start_time": "2019-10-04T15:28:17.125034Z"
    }
   },
   "outputs": [
    {
     "name": "stdout",
     "output_type": "stream",
     "text": [
      "True\n"
     ]
    }
   ],
   "source": [
    "batch_size = 128\n",
    "total_epoch = 30\n",
    "learning_rate = 0.1\n",
    "use_cuda = torch.cuda.is_available()\n",
    "criterion = nn.CrossEntropyLoss()\n",
    "print(use_cuda)"
   ]
  },
  {
   "cell_type": "code",
   "execution_count": 3,
   "metadata": {
    "ExecuteTime": {
     "end_time": "2019-10-04T15:28:19.910581Z",
     "start_time": "2019-10-04T15:28:17.798235Z"
    }
   },
   "outputs": [
    {
     "name": "stdout",
     "output_type": "stream",
     "text": [
      "Files already downloaded and verified\n",
      "Files already downloaded and verified\n"
     ]
    }
   ],
   "source": [
    "# dataset\n",
    "train_dataset = dsets.CIFAR10(root='./data', train=True, transform=transforms.ToTensor(), download=True)\n",
    "\n",
    "train_loader = torch.utils.data.DataLoader(dataset=train_dataset, batch_size=batch_size, shuffle=True)\n",
    "\n",
    "test_dataset = dsets.CIFAR10(root='./data', train=False, transform=transforms.ToTensor(), download=True)\n",
    "\n",
    "test_loader = torch.utils.data.DataLoader(dataset=test_dataset, batch_size=batch_size, shuffle=False)"
   ]
  },
  {
   "cell_type": "code",
   "execution_count": 4,
   "metadata": {
    "ExecuteTime": {
     "end_time": "2019-10-04T15:28:19.920555Z",
     "start_time": "2019-10-04T15:28:19.912575Z"
    }
   },
   "outputs": [],
   "source": [
    "# Training Function\n",
    "def train(model,train_loader):\n",
    "    model.train()\n",
    "    \n",
    "    optimizer = torch.optim.SGD(model.parameters(), lr=learning_rate)\n",
    "    losses = []\n",
    "    for i, (image, label) in enumerate(train_loader):\n",
    "        \n",
    "        if use_cuda:\n",
    "            image = image.cuda()\n",
    "            label = label.cuda()\n",
    "        \n",
    "        pred_label = model(image)\n",
    "        loss = criterion(pred_label, label)\n",
    "        losses.append(loss.item())\n",
    "\n",
    "        optimizer.zero_grad()\n",
    "        loss.backward()\n",
    "        optimizer.step()\n",
    "    avg_loss = sum(losses)/len(losses)\n",
    "    return avg_loss"
   ]
  },
  {
   "cell_type": "code",
   "execution_count": 5,
   "metadata": {
    "ExecuteTime": {
     "end_time": "2019-10-04T15:28:19.931525Z",
     "start_time": "2019-10-04T15:28:19.923546Z"
    }
   },
   "outputs": [],
   "source": [
    "# Evaluation Fuction\n",
    "def eval(model, test_loader):\n",
    "    model.eval()\n",
    "    device = next(model.parameters()).device.index\n",
    "    \n",
    "    total_cnt = 0\n",
    "    correct_cnt = 0\n",
    "    \n",
    "    for i, (image, label) in enumerate(test_loader):\n",
    "        if use_cuda:\n",
    "            image = image.cuda()\n",
    "            label = label.cuda()\n",
    "\n",
    "        out = model(image)\n",
    "        _, pred_label = torch.max(out.data, 1)\n",
    "        total_cnt += image.data.size()[0]\n",
    "        correct_cnt += (pred_label == label.data).sum().item()\n",
    "        \n",
    "    return correct_cnt / total_cnt"
   ]
  },
  {
   "cell_type": "code",
   "execution_count": 6,
   "metadata": {
    "ExecuteTime": {
     "end_time": "2019-10-04T15:28:19.945499Z",
     "start_time": "2019-10-04T15:28:19.933526Z"
    }
   },
   "outputs": [],
   "source": [
    "class SimpleCNN(nn.Module):\n",
    "    def __init__(self):\n",
    "        super(SimpleCNN, self).__init__()\n",
    "        # Convolution layer\n",
    "        self.conv1 = nn.Conv2d(3, 64, kernel_size=3, stride=2, padding=1)\n",
    "        self.act1 = nn.ReLU()\n",
    "        self.pool1 = nn.MaxPool2d(kernel_size=2)\n",
    "        \n",
    "        self.conv2 = nn.Conv2d(64, 192, kernel_size=3, padding=1)\n",
    "        self.act2 = nn.ReLU()\n",
    "        self.pool2 = nn.MaxPool2d(kernel_size=2)\n",
    "        \n",
    "        self.conv3 = nn.Conv2d(192, 384, kernel_size=3, padding=1)\n",
    "        self.act3 = nn.ReLU()\n",
    "        \n",
    "        self.conv4 = nn.Conv2d(384, 256, kernel_size=3, padding=1)\n",
    "        self.act4 = nn.ReLU()\n",
    "        self.pool3 = nn.MaxPool2d(kernel_size=2)\n",
    "        \n",
    "        # Fully-Connected layer\n",
    "        self.fc1 = nn.Linear(256 * 2* 2, 1000)\n",
    "        self.act5 = nn.ReLU()\n",
    "        self.output = nn.Linear(1000, 10)\n",
    "        \n",
    "        \n",
    "    def forward(self, x):\n",
    "        x = self.pool1(self.act1(self.conv1(x)))\n",
    "        x = self.pool2(self.act2(self.conv2(x)))\n",
    "        x = self.act3(self.conv3(x))\n",
    "        x = self.act4(self.conv4(x))\n",
    "        x = self.pool3(x)\n",
    "        \n",
    "        x = x.view(-1, 256 * 2 * 2)\n",
    "        \n",
    "        x = self.act5(self.fc1(x))\n",
    "        out = self.output(x)\n",
    "        return out"
   ]
  },
  {
   "cell_type": "code",
   "execution_count": 7,
   "metadata": {
    "ExecuteTime": {
     "end_time": "2019-10-04T15:40:27.965883Z",
     "start_time": "2019-10-04T15:28:19.949482Z"
    }
   },
   "outputs": [
    {
     "name": "stdout",
     "output_type": "stream",
     "text": [
      "Epoch: [1/30 (3.33%)]\ttrain_loss: 2.191523819018508\ttest_accuracy: 0.2818\n",
      "Epoch: [2/30 (6.67%)]\ttrain_loss: 1.8807341951848295\ttest_accuracy: 0.3243\n",
      "Epoch: [3/30 (10.00%)]\ttrain_loss: 1.6499015406879318\ttest_accuracy: 0.3802\n",
      "Epoch: [4/30 (13.33%)]\ttrain_loss: 1.469789788851043\ttest_accuracy: 0.4426\n",
      "Epoch: [5/30 (16.67%)]\ttrain_loss: 1.3296498066324103\ttest_accuracy: 0.4997\n",
      "Epoch: [6/30 (20.00%)]\ttrain_loss: 1.2023857091089039\ttest_accuracy: 0.5791\n",
      "Epoch: [7/30 (23.33%)]\ttrain_loss: 1.0897503585156882\ttest_accuracy: 0.6037\n",
      "Epoch: [8/30 (26.67%)]\ttrain_loss: 0.99733392890457\ttest_accuracy: 0.6542\n",
      "Epoch: [9/30 (30.00%)]\ttrain_loss: 0.9047707320784059\ttest_accuracy: 0.652\n",
      "Epoch: [10/30 (33.33%)]\ttrain_loss: 0.8208299879832646\ttest_accuracy: 0.6605\n",
      "Epoch: [11/30 (36.67%)]\ttrain_loss: 0.7376748614603906\ttest_accuracy: 0.6753\n",
      "Epoch: [12/30 (40.00%)]\ttrain_loss: 0.6601719651228327\ttest_accuracy: 0.6985\n",
      "Epoch: [13/30 (43.33%)]\ttrain_loss: 0.5803006636669569\ttest_accuracy: 0.6883\n",
      "Epoch: [14/30 (46.67%)]\ttrain_loss: 0.5041361625694558\ttest_accuracy: 0.6996\n",
      "Epoch: [15/30 (50.00%)]\ttrain_loss: 0.4178277729341136\ttest_accuracy: 0.7189\n",
      "Epoch: [16/30 (53.33%)]\ttrain_loss: 0.34320569979717663\ttest_accuracy: 0.6941\n",
      "Epoch: [17/30 (56.67%)]\ttrain_loss: 0.27022692250549946\ttest_accuracy: 0.7042\n",
      "Epoch: [18/30 (60.00%)]\ttrain_loss: 0.20238149322359764\ttest_accuracy: 0.7046\n",
      "Epoch: [19/30 (63.33%)]\ttrain_loss: 0.14329421288712554\ttest_accuracy: 0.6607\n",
      "Epoch: [20/30 (66.67%)]\ttrain_loss: 0.10168512962053498\ttest_accuracy: 0.6987\n",
      "Epoch: [21/30 (70.00%)]\ttrain_loss: 0.07902400640537367\ttest_accuracy: 0.7145\n",
      "Epoch: [22/30 (73.33%)]\ttrain_loss: 0.0573156919673352\ttest_accuracy: 0.7158\n",
      "Epoch: [23/30 (76.67%)]\ttrain_loss: 0.02569206323369842\ttest_accuracy: 0.7342\n",
      "Epoch: [24/30 (80.00%)]\ttrain_loss: 0.02994475652799582\ttest_accuracy: 0.7275\n",
      "Epoch: [25/30 (83.33%)]\ttrain_loss: 0.027893806738621744\ttest_accuracy: 0.7239\n",
      "Epoch: [26/30 (86.67%)]\ttrain_loss: 0.015919236587765423\ttest_accuracy: 0.7403\n",
      "Epoch: [27/30 (90.00%)]\ttrain_loss: 0.003535304022321711\ttest_accuracy: 0.7475\n",
      "Epoch: [28/30 (93.33%)]\ttrain_loss: 0.0014956240782507068\ttest_accuracy: 0.7466\n",
      "Epoch: [29/30 (96.67%)]\ttrain_loss: 0.0005793468040429637\ttest_accuracy: 0.7475\n",
      "Epoch: [30/30 (100.00%)]\ttrain_loss: 0.0003474876245893443\ttest_accuracy: 0.7477\n",
      "----------------------------------------------------------------\n",
      "        Layer (type)               Output Shape         Param #\n",
      "================================================================\n",
      "            Conv2d-1           [-1, 64, 16, 16]           1,792\n",
      "              ReLU-2           [-1, 64, 16, 16]               0\n",
      "         MaxPool2d-3             [-1, 64, 8, 8]               0\n",
      "            Conv2d-4            [-1, 192, 8, 8]         110,784\n",
      "              ReLU-5            [-1, 192, 8, 8]               0\n",
      "         MaxPool2d-6            [-1, 192, 4, 4]               0\n",
      "            Conv2d-7            [-1, 384, 4, 4]         663,936\n",
      "              ReLU-8            [-1, 384, 4, 4]               0\n",
      "            Conv2d-9            [-1, 256, 4, 4]         884,992\n",
      "             ReLU-10            [-1, 256, 4, 4]               0\n",
      "        MaxPool2d-11            [-1, 256, 2, 2]               0\n",
      "           Linear-12                 [-1, 1000]       1,025,000\n",
      "             ReLU-13                 [-1, 1000]               0\n",
      "           Linear-14                   [-1, 10]          10,010\n",
      "================================================================\n",
      "Total params: 2,696,514\n",
      "Trainable params: 2,696,514\n",
      "Non-trainable params: 0\n",
      "----------------------------------------------------------------\n",
      "Input size (MB): 0.01\n",
      "Forward/backward pass size (MB): 0.67\n",
      "Params size (MB): 10.29\n",
      "Estimated Total Size (MB): 10.97\n",
      "----------------------------------------------------------------\n"
     ]
    }
   ],
   "source": [
    "# Training & Evaludation\n",
    "mlp_model = SimpleCNN().cuda()\n",
    "train_loss_lst = []\n",
    "test_accuracy_lst = []\n",
    "for epoch in range(total_epoch):\n",
    "    train_loss = train(mlp_model, train_loader)\n",
    "    train_loss_lst.append(train_loss)\n",
    "    test_accuracy = eval(mlp_model, test_loader)\n",
    "    test_accuracy_lst.append(test_accuracy)\n",
    "    \n",
    "    print(\"Epoch: [{}/{} ({:.2f}%)]\\ttrain_loss: {}\\ttest_accuracy: {}\".\n",
    "          format(epoch + 1, total_epoch, \n",
    "                 100 * ((epoch + 1) / total_epoch),\n",
    "                 train_loss, test_accuracy))\n",
    "\n",
    "summary(mlp_model, input_size = (3,32,32))"
   ]
  },
  {
   "cell_type": "code",
   "execution_count": 8,
   "metadata": {
    "ExecuteTime": {
     "end_time": "2019-10-04T15:40:28.582321Z",
     "start_time": "2019-10-04T15:40:27.969869Z"
    }
   },
   "outputs": [],
   "source": [
    "import matplotlib.pyplot as plt\n",
    "%matplotlib inline"
   ]
  },
  {
   "cell_type": "code",
   "execution_count": 9,
   "metadata": {
    "ExecuteTime": {
     "end_time": "2019-10-04T15:40:28.857273Z",
     "start_time": "2019-10-04T15:40:28.584282Z"
    }
   },
   "outputs": [
    {
     "data": {
      "image/png": "[encoded data removed]",
      "text/plain": [
       "<Figure size 432x288 with 1 Axes>"
      ]
     },
     "metadata": {
      "needs_background": "light"
     },
     "output_type": "display_data"
    }
   ],
   "source": [
    "plt.clf()\n",
    "plt.title(\"CNN Model for CIFAR10\")\n",
    "plt.plot(train_loss_lst, '-', label='Train Loss', alpha=0.8)\n",
    "plt.legend(loc='best')\n",
    "plt.show()"
   ]
  },
  {
   "cell_type": "code",
   "execution_count": 10,
   "metadata": {
    "ExecuteTime": {
     "end_time": "2019-10-04T15:40:29.094795Z",
     "start_time": "2019-10-04T15:40:28.861261Z"
    }
   },
   "outputs": [
    {
     "data": {
      "image/png": "[encoded data removed]",
      "text/plain": [
       "<Figure size 432x288 with 1 Axes>"
      ]
     },
     "metadata": {
      "needs_background": "light"
     },
     "output_type": "display_data"
    }
   ],
   "source": [
    "plt.clf()\n",
    "plt.title(\"CNN Model for CIFAR10\")\n",
    "plt.plot(test_accuracy_lst, '-', label='Test Accuracy', alpha=0.8)\n",
    "plt.legend(loc='best')\n",
    "plt.show()"
   ]
  },
  {
   "cell_type": "code",
   "execution_count": null,
   "metadata": {},
   "outputs": [],
   "source": []
  }
 ],
 "metadata": {
  "hide_input": false,
  "kernelspec": {
   "display_name": "Python 3",
   "language": "python",
   "name": "python3"
  },
  "language_info": {
   "codemirror_mode": {
    "name": "ipython",
    "version": 3
   },
   "file_extension": ".py",
   "mimetype": "text/x-python",
   "name": "python",
   "nbconvert_exporter": "python",
   "pygments_lexer": "ipython3",
   "version": "3.6.9"
  },
  "toc": {
   "base_numbering": 1,
   "nav_menu": {},
   "number_sections": true,
   "sideBar": true,
   "skip_h1_title": false,
   "title_cell": "Table of Contents",
   "title_sidebar": "Contents",
   "toc_cell": false,
   "toc_position": {},
   "toc_section_display": true,
   "toc_window_display": false
  },
  "varInspector": {
   "cols": {
    "lenName": 16,
    "lenType": 16,
    "lenVar": 40
   },
   "kernels_config": {
    "python": {
     "delete_cmd_postfix": "",
     "delete_cmd_prefix": "del ",
     "library": "var_list.py",
     "varRefreshCmd": "print(var_dic_list())"
    },
    "r": {
     "delete_cmd_postfix": ") ",
     "delete_cmd_prefix": "rm(",
     "library": "var_list.r",
     "varRefreshCmd": "cat(var_dic_list()) "
    }
   },
   "types_to_exclude": [
    "module",
    "function",
    "builtin_function_or_method",
    "instance",
    "_Feature"
   ],
   "window_display": false
  }
 },
 "nbformat": 4,
 "nbformat_minor": 2
}
