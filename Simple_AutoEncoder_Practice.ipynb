{
  "nbformat": 4,
  "nbformat_minor": 0,
  "metadata": {
    "colab": {
      "name": "Simple_AutoEncoder_Practice.ipynb",
      "provenance": [],
      "collapsed_sections": [],
      "include_colab_link": true
    },
    "kernelspec": {
      "name": "python3",
      "display_name": "Python 3"
    },
    "accelerator": "GPU"
  },
  "cells": [
    {
      "cell_type": "markdown",
      "metadata": {
        "id": "view-in-github",
        "colab_type": "text"
      },
      "source": [
        "<a href=\"https://colab.research.google.com/github/jinkyukim-me/Summary-Seocho-Pytorch/blob/master/Simple_AutoEncoder_Practice.ipynb\" target=\"_parent\"><img src=\"https://colab.research.google.com/assets/colab-badge.svg\" alt=\"Open In Colab\"/></a>"
      ]
    },
    {
      "cell_type": "code",
      "metadata": {
        "id": "CLfN5mR4j6D3",
        "colab_type": "code",
        "outputId": "ac708cb9-4a28-409d-c403-c8c918d577d7",
        "colab": {
          "base_uri": "https://localhost:8080/",
          "height": 67
        }
      },
      "source": [
        "from google.colab import auth\n",
        "auth.authenticate_user()\n",
        "print('Authenticated!')\n",
        "\n",
        "from google.colab import drive\n",
        "drive.mount('/content/gdrive')\n",
        "print('Mounted!')"
      ],
      "execution_count": 0,
      "outputs": [
        {
          "output_type": "stream",
          "text": [
            "Authenticated!\n",
            "Drive already mounted at /content/gdrive; to attempt to forcibly remount, call drive.mount(\"/content/gdrive\", force_remount=True).\n",
            "Mounted!\n"
          ],
          "name": "stdout"
        }
      ]
    },
    {
      "cell_type": "code",
      "metadata": {
        "id": "FvP41AJekSjo",
        "colab_type": "code",
        "colab": {}
      },
      "source": [
        "import os\n",
        "import torch\n",
        "import torchvision\n",
        "from torch import nn\n",
        "from torch.autograd import Variable\n",
        "from torch.utils.data import DataLoader\n",
        "from torchvision import transforms\n",
        "from torchvision.datasets import MNIST\n",
        "from torchvision.utils import save_image\n",
        "\n",
        "if not os.path.exists('./mlp_img'):\n",
        "    os.mkdir('./mlp_img')"
      ],
      "execution_count": 0,
      "outputs": []
    },
    {
      "cell_type": "code",
      "metadata": {
        "id": "bhbSlEmVoLM1",
        "colab_type": "code",
        "colab": {}
      },
      "source": [
        "if torch.cuda.is_available():\n",
        "    use_gpu = True"
      ],
      "execution_count": 0,
      "outputs": []
    },
    {
      "cell_type": "code",
      "metadata": {
        "id": "nETC0jYUk6PW",
        "colab_type": "code",
        "colab": {}
      },
      "source": [
        "num_epochs = 100\n",
        "batch_size = 128\n",
        "learning_rate = 1e-3\n",
        "\n",
        "img_transfrom = transforms.Compose([transforms.ToTensor()])\n",
        "\n",
        "dataset = MNIST('./data', transform=img_transfrom, download=True)\n",
        "dataloader = DataLoader(dataset, batch_size=batch_size, shuffle=True)"
      ],
      "execution_count": 0,
      "outputs": []
    },
    {
      "cell_type": "code",
      "metadata": {
        "id": "Q_SPLaLCk6NP",
        "colab_type": "code",
        "colab": {}
      },
      "source": [
        "def to_img(x):\n",
        "    x = 0.5 * (x + 1)\n",
        "    x = x.clamp(0, 1)\n",
        "    x = x.view(x.size(0), 1, 28, 28)\n",
        "    return x"
      ],
      "execution_count": 0,
      "outputs": []
    },
    {
      "cell_type": "code",
      "metadata": {
        "id": "bknPdlL-k6Kw",
        "colab_type": "code",
        "colab": {}
      },
      "source": [
        "class autoencoder(nn.Module):\n",
        "    def __init__(self):\n",
        "        super(autoencoder, self).__init__()\n",
        "        self.encoder = nn.Sequential(\n",
        "                       nn.Linear(28 * 28, 128),\n",
        "                       nn.ReLU(True),\n",
        "                       nn.Linear(128, 64),\n",
        "                       nn. ReLU(True),\n",
        "                       nn.Linear(64, 12),\n",
        "                       nn.ReLU(True),\n",
        "                       nn.Linear(12, 3))\n",
        "        \n",
        "        self.decoder = nn.Sequential(\n",
        "                       nn.Linear(3, 12),\n",
        "                       nn.ReLU(True),\n",
        "                       nn.Linear(12, 64),\n",
        "                       nn. ReLU(True),\n",
        "                       nn.Linear(64, 128),\n",
        "                       nn.ReLU(True),\n",
        "                       nn.Linear(128, 28 * 28),\n",
        "                       nn.Tanh())\n",
        "        \n",
        "    def forward(self, x):\n",
        "        x = self.encoder(x)\n",
        "        x = self.decoder(x)\n",
        "        return x"
      ],
      "execution_count": 0,
      "outputs": []
    },
    {
      "cell_type": "code",
      "metadata": {
        "id": "4IQdEC4Lk6IT",
        "colab_type": "code",
        "colab": {}
      },
      "source": [
        "model = autoencoder().cuda()\n",
        "criterion = nn.MSELoss()\n",
        "optimizer = torch.optim.Adam(model.parameters(), lr=learning_rate, weight_decay=1e-5)"
      ],
      "execution_count": 0,
      "outputs": []
    },
    {
      "cell_type": "code",
      "metadata": {
        "id": "QZ8elYrNk6F8",
        "colab_type": "code",
        "outputId": "46d8485f-0a5e-4bd2-dd3f-d0b5423f33ef",
        "colab": {
          "base_uri": "https://localhost:8080/",
          "height": 1000
        }
      },
      "source": [
        "for epoch in range(num_epochs):\n",
        "    for data in dataloader:\n",
        "        img, _ = data\n",
        "        img = img.view(img.size(0), -1)\n",
        "        img = Variable(img).cuda()\n",
        "        \n",
        "        output = model(img)\n",
        "        loss = criterion(output, img)\n",
        "        \n",
        "        optimizer.zero_grad()\n",
        "        loss.backward()\n",
        "        optimizer.step()\n",
        "        \n",
        "    print('epoch [{}/{}], loss:{:.4f}'.format(epoch + 1, num_epochs, loss.item()))\n",
        "    if epoch % 10 == 0:\n",
        "        pic = to_img(output.cpu().data)\n",
        "        save_image(pic, '/content/gdrive/My Drive/mlp_img/image_{}.png'.format(epoch))\n",
        "torch.save(model.state_dict(), '/sim_autoencoder.pth')"
      ],
      "execution_count": 0,
      "outputs": [
        {
          "output_type": "stream",
          "text": [
            "epoch [1/100], loss:0.0367\n",
            "epoch [2/100], loss:0.0361\n",
            "epoch [3/100], loss:0.0379\n",
            "epoch [4/100], loss:0.0375\n",
            "epoch [5/100], loss:0.0390\n",
            "epoch [6/100], loss:0.0386\n",
            "epoch [7/100], loss:0.0347\n",
            "epoch [8/100], loss:0.0363\n",
            "epoch [9/100], loss:0.0335\n",
            "epoch [10/100], loss:0.0375\n",
            "epoch [11/100], loss:0.0366\n",
            "epoch [12/100], loss:0.0354\n",
            "epoch [13/100], loss:0.0328\n",
            "epoch [14/100], loss:0.0333\n",
            "epoch [15/100], loss:0.0335\n",
            "epoch [16/100], loss:0.0340\n",
            "epoch [17/100], loss:0.0353\n",
            "epoch [18/100], loss:0.0320\n",
            "epoch [19/100], loss:0.0314\n",
            "epoch [20/100], loss:0.0360\n",
            "epoch [21/100], loss:0.0361\n",
            "epoch [22/100], loss:0.0337\n",
            "epoch [23/100], loss:0.0332\n",
            "epoch [24/100], loss:0.0345\n",
            "epoch [25/100], loss:0.0333\n",
            "epoch [26/100], loss:0.0298\n",
            "epoch [27/100], loss:0.0331\n",
            "epoch [28/100], loss:0.0314\n",
            "epoch [29/100], loss:0.0346\n",
            "epoch [30/100], loss:0.0337\n",
            "epoch [31/100], loss:0.0389\n",
            "epoch [32/100], loss:0.0315\n",
            "epoch [33/100], loss:0.0357\n",
            "epoch [34/100], loss:0.0342\n",
            "epoch [35/100], loss:0.0349\n",
            "epoch [36/100], loss:0.0336\n",
            "epoch [37/100], loss:0.0320\n",
            "epoch [38/100], loss:0.0317\n",
            "epoch [39/100], loss:0.0355\n",
            "epoch [40/100], loss:0.0327\n",
            "epoch [41/100], loss:0.0320\n",
            "epoch [42/100], loss:0.0332\n",
            "epoch [43/100], loss:0.0326\n",
            "epoch [44/100], loss:0.0293\n",
            "epoch [45/100], loss:0.0361\n",
            "epoch [46/100], loss:0.0338\n",
            "epoch [47/100], loss:0.0329\n",
            "epoch [48/100], loss:0.0330\n",
            "epoch [49/100], loss:0.0305\n",
            "epoch [50/100], loss:0.0352\n",
            "epoch [51/100], loss:0.0357\n",
            "epoch [52/100], loss:0.0338\n",
            "epoch [53/100], loss:0.0319\n",
            "epoch [54/100], loss:0.0297\n",
            "epoch [55/100], loss:0.0329\n",
            "epoch [56/100], loss:0.0309\n",
            "epoch [57/100], loss:0.0342\n",
            "epoch [58/100], loss:0.0319\n",
            "epoch [59/100], loss:0.0338\n",
            "epoch [60/100], loss:0.0340\n",
            "epoch [61/100], loss:0.0329\n",
            "epoch [62/100], loss:0.0303\n",
            "epoch [63/100], loss:0.0326\n",
            "epoch [64/100], loss:0.0337\n",
            "epoch [65/100], loss:0.0336\n",
            "epoch [66/100], loss:0.0366\n",
            "epoch [67/100], loss:0.0337\n",
            "epoch [68/100], loss:0.0319\n",
            "epoch [69/100], loss:0.0328\n",
            "epoch [70/100], loss:0.0317\n",
            "epoch [71/100], loss:0.0334\n",
            "epoch [72/100], loss:0.0302\n",
            "epoch [73/100], loss:0.0318\n",
            "epoch [74/100], loss:0.0321\n",
            "epoch [75/100], loss:0.0337\n",
            "epoch [76/100], loss:0.0327\n",
            "epoch [77/100], loss:0.0341\n",
            "epoch [78/100], loss:0.0348\n",
            "epoch [79/100], loss:0.0333\n",
            "epoch [80/100], loss:0.0348\n",
            "epoch [81/100], loss:0.0319\n",
            "epoch [82/100], loss:0.0307\n",
            "epoch [83/100], loss:0.0300\n",
            "epoch [84/100], loss:0.0302\n",
            "epoch [85/100], loss:0.0310\n",
            "epoch [86/100], loss:0.0330\n",
            "epoch [87/100], loss:0.0340\n",
            "epoch [88/100], loss:0.0319\n",
            "epoch [89/100], loss:0.0343\n",
            "epoch [90/100], loss:0.0331\n",
            "epoch [91/100], loss:0.0331\n",
            "epoch [92/100], loss:0.0283\n",
            "epoch [93/100], loss:0.0330\n",
            "epoch [94/100], loss:0.0311\n",
            "epoch [95/100], loss:0.0320\n",
            "epoch [96/100], loss:0.0303\n",
            "epoch [97/100], loss:0.0319\n",
            "epoch [98/100], loss:0.0329\n",
            "epoch [99/100], loss:0.0335\n",
            "epoch [100/100], loss:0.0328\n"
          ],
          "name": "stdout"
        }
      ]
    },
    {
      "cell_type": "code",
      "metadata": {
        "id": "Xj0nmr7Ik5_u",
        "colab_type": "code",
        "colab": {}
      },
      "source": [
        ""
      ],
      "execution_count": 0,
      "outputs": []
    },
    {
      "cell_type": "code",
      "metadata": {
        "id": "EWqVTm00k5zy",
        "colab_type": "code",
        "colab": {}
      },
      "source": [
        ""
      ],
      "execution_count": 0,
      "outputs": []
    }
  ]
}