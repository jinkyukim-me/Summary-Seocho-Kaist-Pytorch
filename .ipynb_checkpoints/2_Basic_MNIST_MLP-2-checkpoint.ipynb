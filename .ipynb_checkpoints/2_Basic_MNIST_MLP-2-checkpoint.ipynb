{
 "cells": [
  {
   "cell_type": "markdown",
   "metadata": {
    "colab_type": "text",
    "id": "jYnWE9diaVBn"
   },
   "source": [
    "## 중요 모듈 import"
   ]
  },
  {
   "cell_type": "code",
   "execution_count": 1,
   "metadata": {
    "ExecuteTime": {
     "end_time": "2019-10-04T07:54:57.270742Z",
     "start_time": "2019-10-04T07:54:56.615467Z"
    },
    "colab": {},
    "colab_type": "code",
    "id": "s4G2YZLDZ_xg"
   },
   "outputs": [],
   "source": [
    "import os\n",
    "import torch\n",
    "import torch.nn as nn\n",
    "import torchvision.datasets as dset\n",
    "import torchvision.transforms as transforms\n",
    "import torch.nn.functional as F\n",
    "import torch.optim as optim"
   ]
  },
  {
   "cell_type": "markdown",
   "metadata": {
    "colab_type": "text",
    "id": "wmo2MZUOaeNA"
   },
   "source": [
    "## 데이터 셋"
   ]
  },
  {
   "cell_type": "code",
   "execution_count": 2,
   "metadata": {
    "ExecuteTime": {
     "end_time": "2019-10-04T07:54:57.277724Z",
     "start_time": "2019-10-04T07:54:57.273704Z"
    },
    "colab": {},
    "colab_type": "code",
    "id": "LDxplYYeahnL"
   },
   "outputs": [],
   "source": [
    "root = './data'\n",
    "if not os.path.exists(root):\n",
    "    os.mkdir(root)"
   ]
  },
  {
   "cell_type": "code",
   "execution_count": 3,
   "metadata": {
    "ExecuteTime": {
     "end_time": "2019-10-04T07:54:57.344655Z",
     "start_time": "2019-10-04T07:54:57.280685Z"
    },
    "colab": {},
    "colab_type": "code",
    "id": "lp1oov3Fatkw"
   },
   "outputs": [],
   "source": [
    "trans = transforms.Compose([transforms.ToTensor(), transforms.Normalize((0.5,), (1.0,))])\n",
    "train_set = dset.MNIST(root=root, train=True, transform=trans, download=True)\n",
    "test_set = dset.MNIST(root=root, train=False, transform=trans, download=True)"
   ]
  },
  {
   "cell_type": "markdown",
   "metadata": {
    "colab_type": "text",
    "id": "AhsW6kddc2_P"
   },
   "source": [
    "## Hyper Parameters"
   ]
  },
  {
   "cell_type": "code",
   "execution_count": 4,
   "metadata": {
    "ExecuteTime": {
     "end_time": "2019-10-04T07:54:57.623799Z",
     "start_time": "2019-10-04T07:54:57.346545Z"
    },
    "colab": {},
    "colab_type": "code",
    "id": "oIUka0ricnld"
   },
   "outputs": [],
   "source": [
    "# Hyper Parameters\n",
    "batch_size = 100\n",
    "total_epoch = 10\n",
    "learning_rate = 0.1\n",
    "use_cuda = torch.cuda.is_available()"
   ]
  },
  {
   "cell_type": "markdown",
   "metadata": {
    "colab_type": "text",
    "id": "XuE7fKPjc8_3"
   },
   "source": [
    "## Data Loader"
   ]
  },
  {
   "cell_type": "code",
   "execution_count": 5,
   "metadata": {
    "ExecuteTime": {
     "end_time": "2019-10-04T07:54:57.665686Z",
     "start_time": "2019-10-04T07:54:57.626796Z"
    },
    "colab": {
     "base_uri": "https://localhost:8080/",
     "height": 50
    },
    "colab_type": "code",
    "executionInfo": {
     "elapsed": 1881,
     "status": "ok",
     "timestamp": 1570121649083,
     "user": {
      "displayName": "Jinkyu Kim",
      "photoUrl": "https://lh3.googleusercontent.com/a-/AAuE7mBI3V4v2jgGjDWZ9LguiZGukfMnweTODPPC0mGktMA=s64",
      "userId": "17799218152297571837"
     },
     "user_tz": -540
    },
    "id": "3NDBfZEKc0PL",
    "outputId": "9b2e0fe4-dcad-4dbf-feb3-725f31680179"
   },
   "outputs": [
    {
     "name": "stdout",
     "output_type": "stream",
     "text": [
      "==>> total trainning batch number: 600\n",
      "==>> total testing batch number: 600\n"
     ]
    }
   ],
   "source": [
    "# Data Loader\n",
    "train_loader = torch.utils.data.DataLoader(dataset=train_set, batch_size=batch_size, shuffle=True)\n",
    "test_loader = torch.utils.data.DataLoader(dataset=test_set, batch_size=batch_size, shuffle=False)\n",
    "print('==>> total trainning batch number: {}'.format(len(train_loader)))\n",
    "print('==>> total testing batch number: {}'.format(len(train_loader)))"
   ]
  },
  {
   "cell_type": "markdown",
   "metadata": {
    "colab_type": "text",
    "id": "7Kji_bGNdISE"
   },
   "source": [
    "## MNIST MLP Model"
   ]
  },
  {
   "cell_type": "code",
   "execution_count": 6,
   "metadata": {
    "ExecuteTime": {
     "end_time": "2019-10-04T07:54:57.676625Z",
     "start_time": "2019-10-04T07:54:57.667660Z"
    },
    "colab": {},
    "colab_type": "code",
    "id": "01sIPAuRc_fa"
   },
   "outputs": [],
   "source": [
    "# MNIST MLP Model\n",
    "\n",
    "class MLPNet(nn.Module):\n",
    "    def __init__(self):\n",
    "        super(MLPNet, self).__init__()\n",
    "        self.fc1 = nn.Linear(28*28, 512)\n",
    "        self.fc2 = nn.Linear(512, 256)\n",
    "        self.fc3 = nn.Linear(256, 128)\n",
    "        self.fc4 = nn.Linear(128, 10)\n",
    "        \n",
    "    def forward(self, x):\n",
    "        x = x.view(-1, 28*28)\n",
    "        x = torch.sigmoid(self.fc1(x))\n",
    "        x = torch.sigmoid(self.fc2(x))\n",
    "        x = torch.sigmoid(self.fc3(x))\n",
    "\n",
    "        x = self.fc4(x)\n",
    "        \n",
    "        return F.log_softmax(x, dim=1)\n",
    "    \n",
    "    def name(self):\n",
    "        return \"MLP\""
   ]
  },
  {
   "cell_type": "code",
   "execution_count": 7,
   "metadata": {
    "ExecuteTime": {
     "end_time": "2019-10-04T07:55:00.052384Z",
     "start_time": "2019-10-04T07:54:57.678619Z"
    },
    "colab": {},
    "colab_type": "code",
    "id": "eTyE1uUEdWN-"
   },
   "outputs": [],
   "source": [
    "model = MLPNet()\n",
    "if use_cuda:\n",
    "    model = model.cuda()"
   ]
  },
  {
   "cell_type": "code",
   "execution_count": 8,
   "metadata": {
    "ExecuteTime": {
     "end_time": "2019-10-04T07:55:00.059248Z",
     "start_time": "2019-10-04T07:55:00.055284Z"
    },
    "colab": {},
    "colab_type": "code",
    "id": "MOeHT7KRhlMR"
   },
   "outputs": [],
   "source": [
    "optimizer = optim.SGD(model.parameters(), lr=learning_rate)\n",
    "criterion = nn.CrossEntropyLoss() # 이미지 분류 모델은 일반적으로 CrossEntropy Loss Function을 사용"
   ]
  },
  {
   "cell_type": "markdown",
   "metadata": {
    "colab_type": "text",
    "id": "B-V6stbBh2Bn"
   },
   "source": [
    "## 모델 학습"
   ]
  },
  {
   "cell_type": "code",
   "execution_count": 9,
   "metadata": {
    "ExecuteTime": {
     "end_time": "2019-10-04T07:57:18.288347Z",
     "start_time": "2019-10-04T07:55:00.061266Z"
    },
    "colab": {
     "base_uri": "https://localhost:8080/",
     "height": 1000
    },
    "colab_type": "code",
    "executionInfo": {
     "elapsed": 125964,
     "status": "ok",
     "timestamp": 1570121773227,
     "user": {
      "displayName": "Jinkyu Kim",
      "photoUrl": "https://lh3.googleusercontent.com/a-/AAuE7mBI3V4v2jgGjDWZ9LguiZGukfMnweTODPPC0mGktMA=s64",
      "userId": "17799218152297571837"
     },
     "user_tz": -540
    },
    "id": "f5j0WT7hh6r8",
    "outputId": "ef2c1dec-5c3e-407a-e0a8-58e9225dea93"
   },
   "outputs": [
    {
     "name": "stdout",
     "output_type": "stream",
     "text": [
      "==>>> epoch : 0, batch index : 100, train loss : 2.311269\n",
      "==>>> epoch : 0, batch index : 200, train loss : 2.310656\n",
      "==>>> epoch : 0, batch index : 300, train loss : 2.310002\n",
      "==>>> epoch : 0, batch index : 400, train loss : 2.309495\n",
      "==>>> epoch : 0, batch index : 500, train loss : 2.308900\n",
      "==>>> epoch : 0, batch index : 600, train loss : 2.308591\n",
      "==>>> epoch : 0, batch index : 100, train loss : 2.307865, acc: 0.089\n",
      "==>>> epoch : 1, batch index : 100, train loss : 2.306478\n",
      "==>>> epoch : 1, batch index : 200, train loss : 2.306491\n",
      "==>>> epoch : 1, batch index : 300, train loss : 2.306355\n",
      "==>>> epoch : 1, batch index : 400, train loss : 2.305756\n",
      "==>>> epoch : 1, batch index : 500, train loss : 2.305622\n",
      "==>>> epoch : 1, batch index : 600, train loss : 2.305267\n",
      "==>>> epoch : 1, batch index : 100, train loss : 2.303234, acc: 0.101\n",
      "==>>> epoch : 2, batch index : 100, train loss : 2.304673\n",
      "==>>> epoch : 2, batch index : 200, train loss : 2.304257\n",
      "==>>> epoch : 2, batch index : 300, train loss : 2.304042\n",
      "==>>> epoch : 2, batch index : 400, train loss : 2.303363\n",
      "==>>> epoch : 2, batch index : 500, train loss : 2.303104\n",
      "==>>> epoch : 2, batch index : 600, train loss : 2.302324\n",
      "==>>> epoch : 2, batch index : 100, train loss : 2.303402, acc: 0.103\n",
      "==>>> epoch : 3, batch index : 100, train loss : 2.300015\n",
      "==>>> epoch : 3, batch index : 200, train loss : 2.298716\n",
      "==>>> epoch : 3, batch index : 300, train loss : 2.297618\n",
      "==>>> epoch : 3, batch index : 400, train loss : 2.296491\n",
      "==>>> epoch : 3, batch index : 500, train loss : 2.295328\n",
      "==>>> epoch : 3, batch index : 600, train loss : 2.293839\n",
      "==>>> epoch : 3, batch index : 100, train loss : 2.283007, acc: 0.209\n",
      "==>>> epoch : 4, batch index : 100, train loss : 2.278682\n",
      "==>>> epoch : 4, batch index : 200, train loss : 2.270053\n",
      "==>>> epoch : 4, batch index : 300, train loss : 2.252510\n",
      "==>>> epoch : 4, batch index : 400, train loss : 2.219814\n",
      "==>>> epoch : 4, batch index : 500, train loss : 2.170416\n",
      "==>>> epoch : 4, batch index : 600, train loss : 2.116678\n",
      "==>>> epoch : 4, batch index : 100, train loss : 1.788074, acc: 0.340\n",
      "==>>> epoch : 5, batch index : 100, train loss : 1.765988\n",
      "==>>> epoch : 5, batch index : 200, train loss : 1.741200\n",
      "==>>> epoch : 5, batch index : 300, train loss : 1.711785\n",
      "==>>> epoch : 5, batch index : 400, train loss : 1.686073\n",
      "==>>> epoch : 5, batch index : 500, train loss : 1.658195\n",
      "==>>> epoch : 5, batch index : 600, train loss : 1.624386\n",
      "==>>> epoch : 5, batch index : 100, train loss : 1.377836, acc: 0.507\n",
      "==>>> epoch : 6, batch index : 100, train loss : 1.334235\n",
      "==>>> epoch : 6, batch index : 200, train loss : 1.264677\n",
      "==>>> epoch : 6, batch index : 300, train loss : 1.194144\n",
      "==>>> epoch : 6, batch index : 400, train loss : 1.134630\n",
      "==>>> epoch : 6, batch index : 500, train loss : 1.083564\n",
      "==>>> epoch : 6, batch index : 600, train loss : 1.045294\n",
      "==>>> epoch : 6, batch index : 100, train loss : 0.804567, acc: 0.727\n",
      "==>>> epoch : 7, batch index : 100, train loss : 0.806172\n",
      "==>>> epoch : 7, batch index : 200, train loss : 0.796019\n",
      "==>>> epoch : 7, batch index : 300, train loss : 0.780697\n",
      "==>>> epoch : 7, batch index : 400, train loss : 0.772408\n",
      "==>>> epoch : 7, batch index : 500, train loss : 0.764768\n",
      "==>>> epoch : 7, batch index : 600, train loss : 0.758792\n",
      "==>>> epoch : 7, batch index : 100, train loss : 0.695941, acc: 0.774\n",
      "==>>> epoch : 8, batch index : 100, train loss : 0.699217\n",
      "==>>> epoch : 8, batch index : 200, train loss : 0.708677\n",
      "==>>> epoch : 8, batch index : 300, train loss : 0.699796\n",
      "==>>> epoch : 8, batch index : 400, train loss : 0.699602\n",
      "==>>> epoch : 8, batch index : 500, train loss : 0.689904\n",
      "==>>> epoch : 8, batch index : 600, train loss : 0.675673\n",
      "==>>> epoch : 8, batch index : 100, train loss : 0.634619, acc: 0.799\n",
      "==>>> epoch : 9, batch index : 100, train loss : 0.633583\n",
      "==>>> epoch : 9, batch index : 200, train loss : 0.627891\n",
      "==>>> epoch : 9, batch index : 300, train loss : 0.620655\n",
      "==>>> epoch : 9, batch index : 400, train loss : 0.619588\n",
      "==>>> epoch : 9, batch index : 500, train loss : 0.611033\n",
      "==>>> epoch : 9, batch index : 600, train loss : 0.601988\n",
      "==>>> epoch : 9, batch index : 100, train loss : 0.554905, acc: 0.834\n"
     ]
    }
   ],
   "source": [
    "for epoch in range(total_epoch):\n",
    "    # trainning\n",
    "    total_loss = 0\n",
    "    total_batch = 0\n",
    "    for batch_idx, (x, target) in enumerate(train_loader):\n",
    "        optimizer.zero_grad()\n",
    "        if use_cuda:\n",
    "            x, target = x.cuda(), target.cuda()\n",
    "\n",
    "        out = model(x)\n",
    "        loss = criterion(out, target)\n",
    "        total_loss += loss.item()\n",
    "        total_batch += 1\n",
    "        loss.backward()\n",
    "        optimizer.step()\n",
    "        if (batch_idx + 1) % 100 == 0 or (batch_idx + 1) == len(train_loader):\n",
    "            print('==>>> epoch : {}, batch index : {}, train loss : {:.6f}'\n",
    "                  .format(epoch, batch_idx+1, total_loss/total_batch))\n",
    "    # testing\n",
    "    total_loss = 0\n",
    "    total_batch = 0\n",
    "    correct_cnt = 0\n",
    "    total_cnt = 0\n",
    "    for batch_idx, (x, target) in enumerate(test_loader):\n",
    "        if use_cuda:\n",
    "            x, target = x.cuda(), target.cuda()\n",
    "\n",
    "        out = model(x)\n",
    "        loss = criterion(out, target)\n",
    "        _, pred_label = torch.max(out.data, 1)\n",
    "        total_cnt += x.data.size()[0]\n",
    "        correct_cnt += (pred_label == target.data).sum().item()\n",
    "\n",
    "        total_loss += loss.item()\n",
    "        total_batch += 1\n",
    "\n",
    "        if (batch_idx + 1) % 100 == 0 or (batch_idx + 1) == len(test_loader):\n",
    "            print('==>>> epoch : {}, batch index : {}, train loss : {:.6f}, acc: {:.3f}'\n",
    "                  .format(epoch, batch_idx + 1, total_loss / total_batch, correct_cnt * 1.0 / total_cnt))"
   ]
  }
 ],
 "metadata": {
  "accelerator": "GPU",
  "colab": {
   "name": "2_Basic_MNIST_MLP.ipynb",
   "provenance": []
  },
  "hide_input": false,
  "kernelspec": {
   "display_name": "Python 3",
   "language": "python",
   "name": "python3"
  },
  "language_info": {
   "codemirror_mode": {
    "name": "ipython",
    "version": 3
   },
   "file_extension": ".py",
   "mimetype": "text/x-python",
   "name": "python",
   "nbconvert_exporter": "python",
   "pygments_lexer": "ipython3",
   "version": "3.6.9"
  },
  "toc": {
   "base_numbering": 1,
   "nav_menu": {},
   "number_sections": true,
   "sideBar": true,
   "skip_h1_title": false,
   "title_cell": "Table of Contents",
   "title_sidebar": "Contents",
   "toc_cell": false,
   "toc_position": {},
   "toc_section_display": true,
   "toc_window_display": false
  },
  "varInspector": {
   "cols": {
    "lenName": 16,
    "lenType": 16,
    "lenVar": 40
   },
   "kernels_config": {
    "python": {
     "delete_cmd_postfix": "",
     "delete_cmd_prefix": "del ",
     "library": "var_list.py",
     "varRefreshCmd": "print(var_dic_list())"
    },
    "r": {
     "delete_cmd_postfix": ") ",
     "delete_cmd_prefix": "rm(",
     "library": "var_list.r",
     "varRefreshCmd": "cat(var_dic_list()) "
    }
   },
   "types_to_exclude": [
    "module",
    "function",
    "builtin_function_or_method",
    "instance",
    "_Feature"
   ],
   "window_display": false
  }
 },
 "nbformat": 4,
 "nbformat_minor": 1
}
