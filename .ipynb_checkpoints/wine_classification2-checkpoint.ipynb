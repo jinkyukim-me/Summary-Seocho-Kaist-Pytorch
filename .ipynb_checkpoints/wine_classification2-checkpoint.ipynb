{
 "cells": [
  {
   "cell_type": "code",
   "execution_count": 1,
   "metadata": {
    "ExecuteTime": {
     "end_time": "2019-10-04T06:26:47.609632Z",
     "start_time": "2019-10-04T06:26:45.594042Z"
    }
   },
   "outputs": [],
   "source": [
    "import torch\n",
    "from torch.autograd import Variable\n",
    "import torch.nn as nn\n",
    "import torch.nn.functional as F\n",
    "import torch.optim as optim\n",
    "from torch.utils.data import DataLoader, TensorDataset\n",
    "\n",
    "from sklearn.datasets import load_wine\n",
    "from sklearn.model_selection import train_test_split\n",
    "\n",
    "import pandas as pd"
   ]
  },
  {
   "cell_type": "code",
   "execution_count": 2,
   "metadata": {
    "ExecuteTime": {
     "end_time": "2019-10-04T06:26:47.622589Z",
     "start_time": "2019-10-04T06:26:47.612499Z"
    }
   },
   "outputs": [],
   "source": [
    "wine = load_wine()\n",
    "wine_data = wine.data[0:130]\n",
    "wine_target = wine.target[0:130]"
   ]
  },
  {
   "cell_type": "code",
   "execution_count": 3,
   "metadata": {
    "ExecuteTime": {
     "end_time": "2019-10-04T06:26:47.655350Z",
     "start_time": "2019-10-04T06:26:47.624464Z"
    }
   },
   "outputs": [],
   "source": [
    "train_X, test_X, train_Y, test_Y = train_test_split(wine_data, \n",
    "                                                    wine_target, \n",
    "                                                    test_size=0.2)"
   ]
  },
  {
   "cell_type": "code",
   "execution_count": 4,
   "metadata": {
    "ExecuteTime": {
     "end_time": "2019-10-04T06:26:47.671313Z",
     "start_time": "2019-10-04T06:26:47.657344Z"
    }
   },
   "outputs": [],
   "source": [
    "# 데이터를 텐서 형태로 변환\n",
    "train_X = torch.from_numpy(train_X).float()\n",
    "train_Y = torch.from_numpy(train_Y).long()\n",
    "\n",
    "test_X = torch.from_numpy(test_X).float()\n",
    "test_Y = torch.from_numpy(test_Y).float()\n",
    "\n",
    "train = TensorDataset(train_X, train_Y)\n",
    "train_loader = DataLoader(train, batch_size=16, shuffle=True)"
   ]
  },
  {
   "cell_type": "code",
   "execution_count": 5,
   "metadata": {
    "ExecuteTime": {
     "end_time": "2019-10-04T06:26:47.694279Z",
     "start_time": "2019-10-04T06:26:47.676295Z"
    }
   },
   "outputs": [],
   "source": [
    "# 신경망 구성\n",
    "class Net(nn.Module):\n",
    "    \n",
    "    def __init__(self):\n",
    "        \n",
    "        super(Net, self).__init__()\n",
    "        self.fc1 = nn.Linear(13, 96)\n",
    "        self.fc2 = nn.Linear(96, 96)\n",
    "        self.fc3 = nn.Linear(96, 96)\n",
    "        self.fc4 = nn.Linear(96, 96)\n",
    "        self.fc5 = nn.Linear(96, 96)\n",
    "        self.fc6 = nn.Linear(96, 2)\n",
    "\n",
    "    def forward(self, x):\n",
    "        x = F.relu(self.fc1(x))\n",
    "        x = F.relu(self.fc2(x)) \n",
    "        x = F.relu(self.fc3(x))\n",
    "        x = F.relu(self.fc4(x))\n",
    "        x = F.relu(self.fc5(x))\n",
    "\n",
    "        x = self.fc6(x)\n",
    "        return F.log_softmax(x, dim=1)\n",
    "\n",
    "\n",
    "model = Net()"
   ]
  },
  {
   "cell_type": "code",
   "execution_count": 6,
   "metadata": {
    "ExecuteTime": {
     "end_time": "2019-10-04T06:26:47.705218Z",
     "start_time": "2019-10-04T06:26:47.696243Z"
    }
   },
   "outputs": [],
   "source": [
    "#오차함수\n",
    "criterion = nn.CrossEntropyLoss()"
   ]
  },
  {
   "cell_type": "code",
   "execution_count": 7,
   "metadata": {
    "ExecuteTime": {
     "end_time": "2019-10-04T06:26:47.716188Z",
     "start_time": "2019-10-04T06:26:47.710215Z"
    }
   },
   "outputs": [],
   "source": [
    "#최적화 담당\n",
    "optimizer = optim.SGD(model.parameters(), lr=0.01)"
   ]
  },
  {
   "cell_type": "code",
   "execution_count": 8,
   "metadata": {
    "ExecuteTime": {
     "end_time": "2019-10-04T06:26:51.603935Z",
     "start_time": "2019-10-04T06:26:47.720181Z"
    }
   },
   "outputs": [
    {
     "name": "stdout",
     "output_type": "stream",
     "text": [
      "10 4.1218357384204865\n",
      "20 3.138661891222\n",
      "30 3.64332115650177\n",
      "40 2.7002440989017487\n",
      "50 3.593239277601242\n",
      "60 5.087172329425812\n",
      "70 2.7422373294830322\n",
      "80 3.0029089152812958\n",
      "90 2.287327215075493\n",
      "100 2.046235054731369\n",
      "110 2.5580506324768066\n",
      "120 1.8554191291332245\n",
      "130 1.7711554169654846\n",
      "140 1.5086041912436485\n",
      "150 1.784321814775467\n",
      "160 1.5675443708896637\n",
      "170 1.703890711069107\n",
      "180 1.5514112412929535\n",
      "190 1.5075144469738007\n",
      "200 1.8952373713254929\n",
      "210 1.7592565417289734\n",
      "220 1.9253981783986092\n",
      "230 1.401431068778038\n",
      "240 1.6575833186507225\n",
      "250 1.4886344447731972\n",
      "260 1.56826601177454\n",
      "270 1.387528896331787\n",
      "280 1.5204885005950928\n",
      "290 1.4569556415081024\n",
      "300 1.5496127530932426\n"
     ]
    }
   ],
   "source": [
    "#학습 300회 ㄱㄱ 씽\n",
    "for epoch in range(300):\n",
    "    \n",
    "    # 누적 오차를 담당할 변수\n",
    "    total_loss = 0\n",
    "  \n",
    "    # 아까 만들어놓은 미니 배치에서 각각 변수를 꺼내온다.\n",
    "    for train_x, train_y in train_loader:\n",
    "        # 각각의 값을 변수로 만든다.\n",
    "        train_x, train_y = Variable(train_x), Variable(train_y)\n",
    "\n",
    "        # 경사 초기화\n",
    "        optimizer.zero_grad()\n",
    "\n",
    "        # 순전파\n",
    "        output = model(train_x)\n",
    "\n",
    "        # 오차계산. ouutput 과 train_y 비교\n",
    "        loss = criterion(output, train_y)\n",
    "\n",
    "        # 역전파 계산\n",
    "        loss.backward()\n",
    "\n",
    "        # 가중치 업데이트. learning rate만큼 \n",
    "        optimizer.step()\n",
    "\n",
    "        #총 오차 업데이트\n",
    "        total_loss += loss.data.item()\n",
    "\n",
    "    # 10 회 마다 현재 오차를 출력\n",
    "    if (epoch + 1) % 10 == 0:\n",
    "        print(epoch + 1, total_loss)"
   ]
  },
  {
   "cell_type": "code",
   "execution_count": 9,
   "metadata": {
    "ExecuteTime": {
     "end_time": "2019-10-04T06:26:51.616900Z",
     "start_time": "2019-10-04T06:26:51.605930Z"
    }
   },
   "outputs": [
    {
     "name": "stdout",
     "output_type": "stream",
     "text": [
      "accuracy=  0.9615384615384616\n"
     ]
    }
   ],
   "source": [
    "# 테스트 데이터를 집어 넣는다.\n",
    "test_x, test_y = Variable(test_X), Variable(test_Y)\n",
    "# 테스트 데이터를 집어 넣어서 학습 시킨 다음, max 값(확률이 더 높은 값)을 출력한다.\n",
    "result = torch.max(model(test_x).data, 1)[1]\n",
    "# 정확도 계산\n",
    "accuracy = sum(test_y.data.numpy() == result.numpy()) / len(test_y.data.numpy())\n",
    "print(\"accuracy= \",accuracy)"
   ]
  },
  {
   "cell_type": "code",
   "execution_count": null,
   "metadata": {},
   "outputs": [],
   "source": []
  }
 ],
 "metadata": {
  "hide_input": false,
  "kernelspec": {
   "display_name": "Python 3",
   "language": "python",
   "name": "python3"
  },
  "language_info": {
   "codemirror_mode": {
    "name": "ipython",
    "version": 3
   },
   "file_extension": ".py",
   "mimetype": "text/x-python",
   "name": "python",
   "nbconvert_exporter": "python",
   "pygments_lexer": "ipython3",
   "version": "3.6.9"
  },
  "toc": {
   "base_numbering": 1,
   "nav_menu": {},
   "number_sections": true,
   "sideBar": true,
   "skip_h1_title": false,
   "title_cell": "Table of Contents",
   "title_sidebar": "Contents",
   "toc_cell": false,
   "toc_position": {},
   "toc_section_display": true,
   "toc_window_display": false
  },
  "varInspector": {
   "cols": {
    "lenName": 16,
    "lenType": 16,
    "lenVar": 40
   },
   "kernels_config": {
    "python": {
     "delete_cmd_postfix": "",
     "delete_cmd_prefix": "del ",
     "library": "var_list.py",
     "varRefreshCmd": "print(var_dic_list())"
    },
    "r": {
     "delete_cmd_postfix": ") ",
     "delete_cmd_prefix": "rm(",
     "library": "var_list.r",
     "varRefreshCmd": "cat(var_dic_list()) "
    }
   },
   "types_to_exclude": [
    "module",
    "function",
    "builtin_function_or_method",
    "instance",
    "_Feature"
   ],
   "window_display": false
  }
 },
 "nbformat": 4,
 "nbformat_minor": 2
}
