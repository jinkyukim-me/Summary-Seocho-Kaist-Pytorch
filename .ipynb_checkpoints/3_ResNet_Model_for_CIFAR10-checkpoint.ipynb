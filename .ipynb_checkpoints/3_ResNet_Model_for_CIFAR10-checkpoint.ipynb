{
 "cells": [
  {
   "cell_type": "code",
   "execution_count": 1,
   "metadata": {
    "ExecuteTime": {
     "end_time": "2019-10-04T17:45:45.630002Z",
     "start_time": "2019-10-04T17:45:44.159937Z"
    }
   },
   "outputs": [],
   "source": [
    "import torch\n",
    "import torch.nn as nn\n",
    "import torchvision.datasets as dsets\n",
    "import torchvision.transforms as transforms\n",
    "import torch.optim as optim\n",
    "import torch.nn.functional as F\n",
    "from torch.autograd import Variable\n",
    "from torchsummary import summary"
   ]
  },
  {
   "cell_type": "code",
   "execution_count": 2,
   "metadata": {
    "ExecuteTime": {
     "end_time": "2019-10-04T17:45:45.918254Z",
     "start_time": "2019-10-04T17:45:45.634989Z"
    }
   },
   "outputs": [
    {
     "name": "stdout",
     "output_type": "stream",
     "text": [
      "True\n"
     ]
    }
   ],
   "source": [
    "batch_size = 32\n",
    "total_epoch = 30\n",
    "learning_rate = 0.1\n",
    "use_cuda = torch.cuda.is_available()\n",
    "criterion = nn.CrossEntropyLoss()\n",
    "print(use_cuda)"
   ]
  },
  {
   "cell_type": "code",
   "execution_count": 3,
   "metadata": {
    "ExecuteTime": {
     "end_time": "2019-10-04T17:45:51.305812Z",
     "start_time": "2019-10-04T17:45:45.925215Z"
    }
   },
   "outputs": [
    {
     "name": "stdout",
     "output_type": "stream",
     "text": [
      "Files already downloaded and verified\n",
      "Files already downloaded and verified\n"
     ]
    }
   ],
   "source": [
    "# dataset\n",
    "train_dataset = dsets.CIFAR10(root='./data', train=True, transform=transforms.ToTensor(), download=True)\n",
    "\n",
    "train_loader = torch.utils.data.DataLoader(dataset=train_dataset, batch_size=batch_size, shuffle=True)\n",
    "\n",
    "test_dataset = dsets.CIFAR10(root='./data', train=False, transform=transforms.ToTensor(), download=True)\n",
    "\n",
    "test_loader = torch.utils.data.DataLoader(dataset=test_dataset, batch_size=batch_size, shuffle=False)"
   ]
  },
  {
   "cell_type": "code",
   "execution_count": 4,
   "metadata": {
    "ExecuteTime": {
     "end_time": "2019-10-04T17:45:51.338725Z",
     "start_time": "2019-10-04T17:45:51.313792Z"
    }
   },
   "outputs": [],
   "source": [
    "# Training Function\n",
    "def train(model,train_loader):\n",
    "    model.train()\n",
    "    \n",
    "    optimizer = torch.optim.SGD(model.parameters(), lr=learning_rate)\n",
    "    losses = []\n",
    "    for i, (image, label) in enumerate(train_loader):\n",
    "        \n",
    "        if use_cuda:\n",
    "            image = image.cuda()\n",
    "            label = label.cuda()\n",
    "        \n",
    "        pred_label = model(image)\n",
    "        loss = criterion(pred_label, label)\n",
    "        losses.append(loss.item())\n",
    "\n",
    "        optimizer.zero_grad()\n",
    "        loss.backward()\n",
    "        optimizer.step()\n",
    "    avg_loss = sum(losses)/len(losses)\n",
    "    return avg_loss"
   ]
  },
  {
   "cell_type": "code",
   "execution_count": 5,
   "metadata": {
    "ExecuteTime": {
     "end_time": "2019-10-04T17:45:51.369643Z",
     "start_time": "2019-10-04T17:45:51.346703Z"
    }
   },
   "outputs": [],
   "source": [
    "# Evaluation Fuction\n",
    "def eval(model, test_loader):\n",
    "    model.eval()\n",
    "    device = next(model.parameters()).device.index\n",
    "    \n",
    "    total_cnt = 0\n",
    "    correct_cnt = 0\n",
    "    \n",
    "    for i, (image, label) in enumerate(test_loader):\n",
    "        if use_cuda:\n",
    "            image = image.cuda()\n",
    "            label = label.cuda()\n",
    "\n",
    "        out = model(image)\n",
    "        _, pred_label = torch.max(out.data, 1)\n",
    "        total_cnt += image.data.size()[0]\n",
    "        correct_cnt += (pred_label == label.data).sum().item()\n",
    "        \n",
    "    return correct_cnt / total_cnt"
   ]
  },
  {
   "cell_type": "code",
   "execution_count": 6,
   "metadata": {
    "ExecuteTime": {
     "end_time": "2019-10-04T17:45:51.450425Z",
     "start_time": "2019-10-04T17:45:51.378619Z"
    }
   },
   "outputs": [],
   "source": [
    "class SimpleResNet(nn.Module):\n",
    "    def __init__(self):\n",
    "        super(SimpleResNet, self).__init__()\n",
    "        self.conv1 = nn.Conv2d(3, 64, kernel_size=(3,3), padding=(1,1))\n",
    "        self.act1 = nn.ReLU()\n",
    "        self.pool1 = nn.MaxPool2d(kernel_size=2, stride=2)\n",
    "        \n",
    "        \n",
    "        self.conv2 = nn.Conv2d(64, 128, kernel_size=(3,3), padding=(1,1))\n",
    "        self.act2 = nn.ReLU()\n",
    "        self.pool2 = nn.MaxPool2d(kernel_size=2, stride=2)\n",
    "        \n",
    "        self.conv3_1 = nn.Conv2d(128, 256, kernel_size=(3,3), padding=(1,1))\n",
    "        self.act3_1 = nn.ReLU()\n",
    "        self.conv3_2 = nn.Conv2d(256, 256, kernel_size=(3,3), padding=(1,1))\n",
    "        self.act3_2 = nn.ReLU()\n",
    "        self.conv3_3 = nn.Conv2d(256, 256, kernel_size=(3,3), padding=(1,1))\n",
    "        self.act3_3 = nn.ReLU()\n",
    "        self.pool3 = nn.MaxPool2d(kernel_size=2, stride=2)\n",
    "        \n",
    "        self.conv4_1 = nn.Conv2d(256, 512, kernel_size=(3,3), padding=(1,1))\n",
    "        self.act4_1 = nn.ReLU()\n",
    "        self.conv4_2 = nn.Conv2d(512, 512, kernel_size=(3,3), padding=(1,1))\n",
    "        self.act4_2 = nn.ReLU()\n",
    "        self.conv4_3 = nn.Conv2d(512, 512, kernel_size=(3,3), padding=(1,1))\n",
    "        self.act4_3 = nn.ReLU()\n",
    "        self.pool4 = nn.AvgPool2d(kernel_size=2, stride=2)\n",
    "        \n",
    "        # Output layer\n",
    "        self.fc1 = nn.Linear(512 * 2 * 2, 512)\n",
    "        self.act5 = nn.ReLU()\n",
    "        self.out = nn.Linear(512, 10)\n",
    "        \n",
    "    def forward(self, x):\n",
    "        x1 = x\n",
    "        x2 = self.act1(self.conv1(x1))\n",
    "        x3 = self.pool1(x2)\n",
    "        \n",
    "        x4 = self.act2(self.conv2(x3))\n",
    "        x5 = self.pool2(x4)\n",
    "        \n",
    "        x6 = self.act3_1(self.conv3_1(x5))\n",
    "        x7 = self.act3_2(self.conv3_2(x6))\n",
    "        x8 = self.act3_3(self.conv3_2(x7) + x6)\n",
    "        x9 = self.pool3(x8)\n",
    "        \n",
    "        x10 = self.act4_1(self.conv4_1(x9))\n",
    "        x11 = self.act4_2(self.conv4_2(x10))\n",
    "        x12 = self.act4_3(self.conv4_2(x11) + x10)\n",
    "        x13 = self.pool4(x12)\n",
    "        \n",
    "        x14 = x13.view(-1, 512 * 2 * 2)\n",
    "        \n",
    "        x15 = self.act5(self.fc1(x14))\n",
    "        \n",
    "        out = self.out(x15)        \n",
    "        \n",
    "        return F.log_softmax(out, dim=1)"
   ]
  },
  {
   "cell_type": "code",
   "execution_count": 7,
   "metadata": {
    "ExecuteTime": {
     "end_time": "2019-10-04T19:20:43.036988Z",
     "start_time": "2019-10-04T17:45:51.458405Z"
    }
   },
   "outputs": [
    {
     "name": "stdout",
     "output_type": "stream",
     "text": [
      "Epoch: [1/30 (3.33%)]\ttrain_loss: 1.9950219410318484\ttest_accuracy: 0.3762\n",
      "Epoch: [2/30 (6.67%)]\ttrain_loss: 1.4495261545297204\ttest_accuracy: 0.5277\n",
      "Epoch: [3/30 (10.00%)]\ttrain_loss: 1.126700343055292\ttest_accuracy: 0.6296\n",
      "Epoch: [4/30 (13.33%)]\ttrain_loss: 0.8854724429237941\ttest_accuracy: 0.7006\n",
      "Epoch: [5/30 (16.67%)]\ttrain_loss: 0.7076395013282029\ttest_accuracy: 0.7135\n",
      "Epoch: [6/30 (20.00%)]\ttrain_loss: 0.5672788409300515\ttest_accuracy: 0.6827\n",
      "Epoch: [7/30 (23.33%)]\ttrain_loss: 0.43724743638638114\ttest_accuracy: 0.7541\n",
      "Epoch: [8/30 (26.67%)]\ttrain_loss: 0.33412198768600926\ttest_accuracy: 0.7385\n",
      "Epoch: [9/30 (30.00%)]\ttrain_loss: 0.2434993543800965\ttest_accuracy: 0.7069\n",
      "Epoch: [10/30 (33.33%)]\ttrain_loss: 0.1759466340277351\ttest_accuracy: 0.7139\n",
      "Epoch: [11/30 (36.67%)]\ttrain_loss: 0.13572298738225383\ttest_accuracy: 0.7799\n",
      "Epoch: [12/30 (40.00%)]\ttrain_loss: 0.10388829417467732\ttest_accuracy: 0.7605\n",
      "Epoch: [13/30 (43.33%)]\ttrain_loss: 0.09794721655280675\ttest_accuracy: 0.7621\n",
      "Epoch: [14/30 (46.67%)]\ttrain_loss: 0.08202373066889354\ttest_accuracy: 0.759\n",
      "Epoch: [15/30 (50.00%)]\ttrain_loss: 0.07505414809009238\ttest_accuracy: 0.7671\n",
      "Epoch: [16/30 (53.33%)]\ttrain_loss: 0.06506108467266623\ttest_accuracy: 0.7552\n",
      "Epoch: [17/30 (56.67%)]\ttrain_loss: 0.05809245634146922\ttest_accuracy: 0.7751\n",
      "Epoch: [18/30 (60.00%)]\ttrain_loss: 0.05242255855138733\ttest_accuracy: 0.7454\n",
      "Epoch: [19/30 (63.33%)]\ttrain_loss: 0.040586423692783556\ttest_accuracy: 0.7706\n",
      "Epoch: [20/30 (66.67%)]\ttrain_loss: 0.04931908671035975\ttest_accuracy: 0.7733\n",
      "Epoch: [21/30 (70.00%)]\ttrain_loss: 0.04297084984501707\ttest_accuracy: 0.7639\n",
      "Epoch: [22/30 (73.33%)]\ttrain_loss: 0.04214367209022155\ttest_accuracy: 0.7691\n",
      "Epoch: [23/30 (76.67%)]\ttrain_loss: 0.0402881671956515\ttest_accuracy: 0.7709\n",
      "Epoch: [24/30 (80.00%)]\ttrain_loss: 0.034690073866012944\ttest_accuracy: 0.7741\n",
      "Epoch: [25/30 (83.33%)]\ttrain_loss: 0.027502585614045807\ttest_accuracy: 0.7513\n",
      "Epoch: [26/30 (86.67%)]\ttrain_loss: 0.02299667033104077\ttest_accuracy: 0.7705\n",
      "Epoch: [27/30 (90.00%)]\ttrain_loss: 0.028721965024779982\ttest_accuracy: 0.7504\n",
      "Epoch: [28/30 (93.33%)]\ttrain_loss: 0.026113626538999662\ttest_accuracy: 0.78\n",
      "Epoch: [29/30 (96.67%)]\ttrain_loss: 0.02294193641072218\ttest_accuracy: 0.7809\n",
      "Epoch: [30/30 (100.00%)]\ttrain_loss: 0.021205872361488118\ttest_accuracy: 0.7869\n",
      "----------------------------------------------------------------\n",
      "        Layer (type)               Output Shape         Param #\n",
      "================================================================\n",
      "            Conv2d-1           [-1, 64, 32, 32]           1,792\n",
      "              ReLU-2           [-1, 64, 32, 32]               0\n",
      "         MaxPool2d-3           [-1, 64, 16, 16]               0\n",
      "            Conv2d-4          [-1, 128, 16, 16]          73,856\n",
      "              ReLU-5          [-1, 128, 16, 16]               0\n",
      "         MaxPool2d-6            [-1, 128, 8, 8]               0\n",
      "            Conv2d-7            [-1, 256, 8, 8]         295,168\n",
      "              ReLU-8            [-1, 256, 8, 8]               0\n",
      "            Conv2d-9            [-1, 256, 8, 8]         590,080\n",
      "             ReLU-10            [-1, 256, 8, 8]               0\n",
      "           Conv2d-11            [-1, 256, 8, 8]         590,080\n",
      "             ReLU-12            [-1, 256, 8, 8]               0\n",
      "        MaxPool2d-13            [-1, 256, 4, 4]               0\n",
      "           Conv2d-14            [-1, 512, 4, 4]       1,180,160\n",
      "             ReLU-15            [-1, 512, 4, 4]               0\n",
      "           Conv2d-16            [-1, 512, 4, 4]       2,359,808\n",
      "             ReLU-17            [-1, 512, 4, 4]               0\n",
      "           Conv2d-18            [-1, 512, 4, 4]       2,359,808\n",
      "             ReLU-19            [-1, 512, 4, 4]               0\n",
      "        AvgPool2d-20            [-1, 512, 2, 2]               0\n",
      "           Linear-21                  [-1, 512]       1,049,088\n",
      "             ReLU-22                  [-1, 512]               0\n",
      "           Linear-23                   [-1, 10]           5,130\n",
      "================================================================\n",
      "Total params: 8,504,970\n",
      "Trainable params: 8,504,970\n",
      "Non-trainable params: 0\n",
      "----------------------------------------------------------------\n",
      "Input size (MB): 0.01\n",
      "Forward/backward pass size (MB): 2.87\n",
      "Params size (MB): 32.44\n",
      "Estimated Total Size (MB): 35.32\n",
      "----------------------------------------------------------------\n"
     ]
    }
   ],
   "source": [
    "# Training & Evaludation\n",
    "resnet_model = SimpleResNet().cuda()\n",
    "train_loss_lst = []\n",
    "test_accuracy_lst = []\n",
    "for epoch in range(total_epoch):\n",
    "    train_loss = train(resnet_model, train_loader)\n",
    "    train_loss_lst.append(train_loss)\n",
    "    test_accuracy = eval(resnet_model, test_loader)\n",
    "    test_accuracy_lst.append(test_accuracy)\n",
    "    \n",
    "    print(\"Epoch: [{}/{} ({:.2f}%)]\\ttrain_loss: {}\\ttest_accuracy: {}\".\n",
    "          format(epoch + 1, total_epoch, \n",
    "                 100 * ((epoch + 1) / total_epoch),\n",
    "                 train_loss, test_accuracy))\n",
    "\n",
    "summary(resnet_model, input_size = (3,32,32))"
   ]
  },
  {
   "cell_type": "code",
   "execution_count": 8,
   "metadata": {
    "ExecuteTime": {
     "end_time": "2019-10-04T19:20:44.387307Z",
     "start_time": "2019-10-04T19:20:43.057926Z"
    }
   },
   "outputs": [],
   "source": [
    "import matplotlib.pyplot as plt\n",
    "%matplotlib inline"
   ]
  },
  {
   "cell_type": "code",
   "execution_count": 9,
   "metadata": {
    "ExecuteTime": {
     "end_time": "2019-10-04T19:20:45.110894Z",
     "start_time": "2019-10-04T19:20:44.400276Z"
    }
   },
   "outputs": [
    {
     "data": {
      "image/png": "[encoded data removed]",
      "text/plain": [
       "<Figure size 432x288 with 1 Axes>"
      ]
     },
     "metadata": {
      "needs_background": "light"
     },
     "output_type": "display_data"
    }
   ],
   "source": [
    "plt.clf()\n",
    "plt.title(\"CNN Model for CIFAR10\")\n",
    "plt.plot(train_loss_lst, '-', label='Train Loss', alpha=0.8)\n",
    "plt.legend(loc='best')\n",
    "plt.show()"
   ]
  },
  {
   "cell_type": "code",
   "execution_count": 10,
   "metadata": {
    "ExecuteTime": {
     "end_time": "2019-10-04T19:20:45.715284Z",
     "start_time": "2019-10-04T19:20:45.120873Z"
    }
   },
   "outputs": [
    {
     "data": {
      "image/png": "[encoded data removed]",
      "text/plain": [
       "<Figure size 432x288 with 1 Axes>"
      ]
     },
     "metadata": {
      "needs_background": "light"
     },
     "output_type": "display_data"
    }
   ],
   "source": [
    "plt.clf()\n",
    "plt.title(\"CNN Model for CIFAR10\")\n",
    "plt.plot(test_accuracy_lst, '-', label='Test Accuracy', alpha=0.8)\n",
    "plt.legend(loc='best')\n",
    "plt.show()"
   ]
  },
  {
   "cell_type": "code",
   "execution_count": null,
   "metadata": {},
   "outputs": [],
   "source": []
  }
 ],
 "metadata": {
  "hide_input": false,
  "kernelspec": {
   "display_name": "Python 3",
   "language": "python",
   "name": "python3"
  },
  "language_info": {
   "codemirror_mode": {
    "name": "ipython",
    "version": 3
   },
   "file_extension": ".py",
   "mimetype": "text/x-python",
   "name": "python",
   "nbconvert_exporter": "python",
   "pygments_lexer": "ipython3",
   "version": "3.6.9"
  },
  "toc": {
   "base_numbering": 1,
   "nav_menu": {},
   "number_sections": true,
   "sideBar": true,
   "skip_h1_title": false,
   "title_cell": "Table of Contents",
   "title_sidebar": "Contents",
   "toc_cell": false,
   "toc_position": {},
   "toc_section_display": true,
   "toc_window_display": false
  },
  "varInspector": {
   "cols": {
    "lenName": 16,
    "lenType": 16,
    "lenVar": 40
   },
   "kernels_config": {
    "python": {
     "delete_cmd_postfix": "",
     "delete_cmd_prefix": "del ",
     "library": "var_list.py",
     "varRefreshCmd": "print(var_dic_list())"
    },
    "r": {
     "delete_cmd_postfix": ") ",
     "delete_cmd_prefix": "rm(",
     "library": "var_list.r",
     "varRefreshCmd": "cat(var_dic_list()) "
    }
   },
   "types_to_exclude": [
    "module",
    "function",
    "builtin_function_or_method",
    "instance",
    "_Feature"
   ],
   "window_display": false
  }
 },
 "nbformat": 4,
 "nbformat_minor": 2
}
