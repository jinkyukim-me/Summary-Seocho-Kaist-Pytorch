{
 "cells": [
  {
   "cell_type": "code",
   "execution_count": 1,
   "metadata": {
    "ExecuteTime": {
     "end_time": "2019-10-04T23:57:34.380158Z",
     "start_time": "2019-10-04T23:57:33.611080Z"
    }
   },
   "outputs": [],
   "source": [
    "import torch\n",
    "import torch.nn as nn\n",
    "import torchvision.datasets as dsets\n",
    "import torchvision.transforms as transforms\n",
    "import torch.optim as optim\n",
    "import torch.nn.functional as F\n",
    "from torch.autograd import Variable\n",
    "from torchsummary import summary"
   ]
  },
  {
   "cell_type": "code",
   "execution_count": 2,
   "metadata": {
    "ExecuteTime": {
     "end_time": "2019-10-04T23:57:34.679222Z",
     "start_time": "2019-10-04T23:57:34.383015Z"
    }
   },
   "outputs": [
    {
     "name": "stdout",
     "output_type": "stream",
     "text": [
      "True\n"
     ]
    }
   ],
   "source": [
    "batch_size = 64\n",
    "total_epoch = 30\n",
    "learning_rate = 0.001\n",
    "use_cuda = torch.cuda.is_available()\n",
    "criterion = nn.CrossEntropyLoss()\n",
    "print(use_cuda)"
   ]
  },
  {
   "cell_type": "code",
   "execution_count": 3,
   "metadata": {
    "ExecuteTime": {
     "end_time": "2019-10-04T23:57:36.823517Z",
     "start_time": "2019-10-04T23:57:34.681217Z"
    }
   },
   "outputs": [
    {
     "name": "stdout",
     "output_type": "stream",
     "text": [
      "Files already downloaded and verified\n",
      "Files already downloaded and verified\n"
     ]
    }
   ],
   "source": [
    "# dataset\n",
    "train_dataset = dsets.CIFAR10(root='./data', train=True, transform=transforms.ToTensor(), download=True)\n",
    "\n",
    "train_loader = torch.utils.data.DataLoader(dataset=train_dataset, batch_size=batch_size, shuffle=True)\n",
    "\n",
    "test_dataset = dsets.CIFAR10(root='./data', train=False, transform=transforms.ToTensor(), download=True)\n",
    "\n",
    "test_loader = torch.utils.data.DataLoader(dataset=test_dataset, batch_size=batch_size, shuffle=False)"
   ]
  },
  {
   "cell_type": "code",
   "execution_count": 4,
   "metadata": {
    "ExecuteTime": {
     "end_time": "2019-10-04T23:57:36.833456Z",
     "start_time": "2019-10-04T23:57:36.825478Z"
    }
   },
   "outputs": [],
   "source": [
    "# Training Function\n",
    "def train(model,train_loader):\n",
    "    model.train()\n",
    "    \n",
    "    optimizer = torch.optim.Adam(model.parameters(), weight_decay=1e-4, lr=learning_rate)\n",
    "    losses = []\n",
    "    for i, (image, label) in enumerate(train_loader):\n",
    "        \n",
    "        if use_cuda:\n",
    "            image = image.cuda()\n",
    "            label = label.cuda()\n",
    "        \n",
    "        pred_label = model(image)\n",
    "        loss = criterion(pred_label, label)\n",
    "        losses.append(loss.item())\n",
    "\n",
    "        optimizer.zero_grad()\n",
    "        loss.backward()\n",
    "        optimizer.step()\n",
    "    avg_loss = sum(losses)/len(losses)\n",
    "    return avg_loss"
   ]
  },
  {
   "cell_type": "code",
   "execution_count": 5,
   "metadata": {
    "ExecuteTime": {
     "end_time": "2019-10-04T23:57:36.858391Z",
     "start_time": "2019-10-04T23:57:36.836449Z"
    }
   },
   "outputs": [],
   "source": [
    "# Evaluation Fuction\n",
    "def eval(model, test_loader):\n",
    "    model.eval()\n",
    "    device = next(model.parameters()).device.index\n",
    "    \n",
    "    total_cnt = 0\n",
    "    correct_cnt = 0\n",
    "    \n",
    "    for i, (image, label) in enumerate(test_loader):\n",
    "        if use_cuda:\n",
    "            image = image.cuda()\n",
    "            label = label.cuda()\n",
    "\n",
    "        out = model(image)\n",
    "        _, pred_label = torch.max(out.data, 1)\n",
    "        total_cnt += image.data.size()[0]\n",
    "        correct_cnt += (pred_label == label.data).sum().item()\n",
    "        \n",
    "    return correct_cnt / total_cnt"
   ]
  },
  {
   "cell_type": "code",
   "execution_count": 6,
   "metadata": {
    "ExecuteTime": {
     "end_time": "2019-10-04T23:57:36.884321Z",
     "start_time": "2019-10-04T23:57:36.862378Z"
    }
   },
   "outputs": [],
   "source": [
    "class SimpleVGG(nn.Module):\n",
    "    def __init__(self, dropout):\n",
    "        super(SimpleVGG, self).__init__()\n",
    "        \n",
    "        self.conv1 = nn.Conv2d(3, 64, kernel_size=(3,3), padding=(1,1))\n",
    "        self.conv1_bn = nn.BatchNorm2d(64)\n",
    "        self.act1 = nn.ReLU()\n",
    "        self.pool1 = nn.MaxPool2d(kernel_size=2, stride=2)\n",
    "        \n",
    "        self.conv2 = nn.Conv2d(64, 128, kernel_size=(3,3), padding=(1,1))\n",
    "        self.conv2_bn = nn.BatchNorm2d(128)\n",
    "        self.act2 = nn.ReLU()\n",
    "        self.pool2 = nn.MaxPool2d(kernel_size=2, stride=2)\n",
    "        \n",
    "        self.conv3_1 = nn.Conv2d(128, 256, kernel_size=(3,3), padding=(1,1))\n",
    "        self.conv3_1_bn = nn.BatchNorm2d(256)\n",
    "        self.act3_1 = nn.ReLU()        \n",
    "        self.conv3_2 = nn.Conv2d(256, 256, kernel_size=(3,3), padding=(1,1))\n",
    "        self.conv3_2_bn = nn.BatchNorm2d(256)\n",
    "        self.act3_2 = nn.ReLU()        \n",
    "        self.conv3_3 = nn.Conv2d(256, 256, kernel_size=(3,3), padding=(1,1))\n",
    "        self.conv3_3_bn = nn.BatchNorm2d(256)\n",
    "        self.act3_3 = nn.ReLU()\n",
    "        self.pool3 = nn.MaxPool2d(kernel_size=2, stride=2)\n",
    "        \n",
    "        self.conv4_1 = nn.Conv2d(256, 512, kernel_size=(3,3), padding=(1,1))\n",
    "        self.conv4_1_bn = nn.BatchNorm2d(512)\n",
    "        self.act4_1 = nn.ReLU()\n",
    "        self.conv4_2 = nn.Conv2d(512, 512, kernel_size=(3,3), padding=(1,1))\n",
    "        self.conv4_2_bn = nn.BatchNorm2d(512)\n",
    "        self.act4_2 = nn.ReLU()\n",
    "        self.conv4_3 = nn.Conv2d(512, 512, kernel_size=(3,3), padding=(1,1))\n",
    "        self.conv4_3_bn = nn.BatchNorm2d(512)\n",
    "        self.act4_3 = nn.ReLU()\n",
    "        self.pool4 = nn.AvgPool2d(kernel_size=2, stride=2)\n",
    "        \n",
    "        # Output layer\n",
    "        self.fc1 = nn.Linear(512 * 2 * 2, 512)\n",
    "        self.fc1_bn = nn.BatchNorm1d(512)\n",
    "        self.dropout = nn.Dropout(dropout)\n",
    "        self.act5 = nn.ReLU()\n",
    "        self.output = nn.Linear(512, 10)\n",
    "        \n",
    "    def forward(self, x):\n",
    "        x1 = x\n",
    "        x2 = self.act1(self.conv1_bn(self.conv1(x1)))\n",
    "        x3 = self.pool1(x2)\n",
    "        \n",
    "        x4 = self.act2(self.conv2_bn(self.conv2(x3)))\n",
    "        x5 = self.pool2(x4)\n",
    "        \n",
    "        x6 = self.act3_1(self.conv3_1_bn(self.conv3_1(x5)))\n",
    "        x7 = self.act3_2(self.conv3_2_bn(self.conv3_2(x6)))\n",
    "        x8 = self.act3_3(self.conv3_3_bn(self.conv3_2(x7)))\n",
    "        x9 = self.pool3(x8)\n",
    "        \n",
    "        x10 = self.act4_1(self.conv4_1_bn(self.conv4_1(x9)))\n",
    "        x11 = self.act4_2(self.conv4_2_bn(self.conv4_2(x10)))\n",
    "        x12 = self.act4_3(self.conv4_3_bn(self.conv4_2(x11)))\n",
    "        x13 = self.pool4(x12)\n",
    "        \n",
    "        x14 = x13.view(-1, 512 * 2 * 2)\n",
    "        \n",
    "        x15 = self.act5(self.fc1_bn(self.fc1(x14)))\n",
    "        x = self.dropout(x15)\n",
    "        out = self.output(x)        \n",
    "        return F.log_softmax(out, dim=1)"
   ]
  },
  {
   "cell_type": "code",
   "execution_count": 7,
   "metadata": {
    "ExecuteTime": {
     "end_time": "2019-10-05T00:35:02.130156Z",
     "start_time": "2019-10-04T23:57:36.887311Z"
    }
   },
   "outputs": [
    {
     "name": "stdout",
     "output_type": "stream",
     "text": [
      "Epoch: [1/30 (3.33%)]\ttrain_loss: 1.2902205506401598\ttest_accuracy: 0.5871\n",
      "Epoch: [2/30 (6.67%)]\ttrain_loss: 0.9065524510410435\ttest_accuracy: 0.65\n",
      "Epoch: [3/30 (10.00%)]\ttrain_loss: 0.725069577355519\ttest_accuracy: 0.6265\n",
      "Epoch: [4/30 (13.33%)]\ttrain_loss: 0.6129813847868034\ttest_accuracy: 0.7434\n",
      "Epoch: [5/30 (16.67%)]\ttrain_loss: 0.532563657426011\ttest_accuracy: 0.7487\n",
      "Epoch: [6/30 (20.00%)]\ttrain_loss: 0.4657234628982556\ttest_accuracy: 0.7429\n",
      "Epoch: [7/30 (23.33%)]\ttrain_loss: 0.40206589111510443\ttest_accuracy: 0.7852\n",
      "Epoch: [8/30 (26.67%)]\ttrain_loss: 0.3523923657129488\ttest_accuracy: 0.7846\n",
      "Epoch: [9/30 (30.00%)]\ttrain_loss: 0.30023434225593687\ttest_accuracy: 0.7915\n",
      "Epoch: [10/30 (33.33%)]\ttrain_loss: 0.26657199009281135\ttest_accuracy: 0.7894\n",
      "Epoch: [11/30 (36.67%)]\ttrain_loss: 0.2394725840938899\ttest_accuracy: 0.7721\n",
      "Epoch: [12/30 (40.00%)]\ttrain_loss: 0.20969040410788467\ttest_accuracy: 0.8243\n",
      "Epoch: [13/30 (43.33%)]\ttrain_loss: 0.18510140294728378\ttest_accuracy: 0.8274\n",
      "Epoch: [14/30 (46.67%)]\ttrain_loss: 0.17243478058949305\ttest_accuracy: 0.7955\n",
      "Epoch: [15/30 (50.00%)]\ttrain_loss: 0.16116802365092747\ttest_accuracy: 0.8021\n",
      "Epoch: [16/30 (53.33%)]\ttrain_loss: 0.14960309954317252\ttest_accuracy: 0.8053\n",
      "Epoch: [17/30 (56.67%)]\ttrain_loss: 0.13944203896409907\ttest_accuracy: 0.8214\n",
      "Epoch: [18/30 (60.00%)]\ttrain_loss: 0.13404267036196443\ttest_accuracy: 0.8089\n",
      "Epoch: [19/30 (63.33%)]\ttrain_loss: 0.12824191967301699\ttest_accuracy: 0.8036\n",
      "Epoch: [20/30 (66.67%)]\ttrain_loss: 0.12637914446970958\ttest_accuracy: 0.8084\n",
      "Epoch: [21/30 (70.00%)]\ttrain_loss: 0.12302551673525168\ttest_accuracy: 0.8142\n",
      "Epoch: [22/30 (73.33%)]\ttrain_loss: 0.11332700131258563\ttest_accuracy: 0.8274\n",
      "Epoch: [23/30 (76.67%)]\ttrain_loss: 0.1139273430474455\ttest_accuracy: 0.8212\n",
      "Epoch: [24/30 (80.00%)]\ttrain_loss: 0.11628313744774141\ttest_accuracy: 0.8332\n",
      "Epoch: [25/30 (83.33%)]\ttrain_loss: 0.10892195808594032\ttest_accuracy: 0.8368\n",
      "Epoch: [26/30 (86.67%)]\ttrain_loss: 0.10414127753618771\ttest_accuracy: 0.8348\n",
      "Epoch: [27/30 (90.00%)]\ttrain_loss: 0.10263810937693033\ttest_accuracy: 0.8303\n",
      "Epoch: [28/30 (93.33%)]\ttrain_loss: 0.10499054335934274\ttest_accuracy: 0.8231\n",
      "Epoch: [29/30 (96.67%)]\ttrain_loss: 0.10188909811551308\ttest_accuracy: 0.8221\n",
      "Epoch: [30/30 (100.00%)]\ttrain_loss: 0.0968739569831468\ttest_accuracy: 0.8127\n",
      "----------------------------------------------------------------\n",
      "        Layer (type)               Output Shape         Param #\n",
      "================================================================\n",
      "            Conv2d-1           [-1, 64, 32, 32]           1,792\n",
      "       BatchNorm2d-2           [-1, 64, 32, 32]             128\n",
      "              ReLU-3           [-1, 64, 32, 32]               0\n",
      "         MaxPool2d-4           [-1, 64, 16, 16]               0\n",
      "            Conv2d-5          [-1, 128, 16, 16]          73,856\n",
      "       BatchNorm2d-6          [-1, 128, 16, 16]             256\n",
      "              ReLU-7          [-1, 128, 16, 16]               0\n",
      "         MaxPool2d-8            [-1, 128, 8, 8]               0\n",
      "            Conv2d-9            [-1, 256, 8, 8]         295,168\n",
      "      BatchNorm2d-10            [-1, 256, 8, 8]             512\n",
      "             ReLU-11            [-1, 256, 8, 8]               0\n",
      "           Conv2d-12            [-1, 256, 8, 8]         590,080\n",
      "      BatchNorm2d-13            [-1, 256, 8, 8]             512\n",
      "             ReLU-14            [-1, 256, 8, 8]               0\n",
      "           Conv2d-15            [-1, 256, 8, 8]         590,080\n",
      "      BatchNorm2d-16            [-1, 256, 8, 8]             512\n",
      "             ReLU-17            [-1, 256, 8, 8]               0\n",
      "        MaxPool2d-18            [-1, 256, 4, 4]               0\n",
      "           Conv2d-19            [-1, 512, 4, 4]       1,180,160\n",
      "      BatchNorm2d-20            [-1, 512, 4, 4]           1,024\n",
      "             ReLU-21            [-1, 512, 4, 4]               0\n",
      "           Conv2d-22            [-1, 512, 4, 4]       2,359,808\n",
      "      BatchNorm2d-23            [-1, 512, 4, 4]           1,024\n",
      "             ReLU-24            [-1, 512, 4, 4]               0\n",
      "           Conv2d-25            [-1, 512, 4, 4]       2,359,808\n",
      "      BatchNorm2d-26            [-1, 512, 4, 4]           1,024\n",
      "             ReLU-27            [-1, 512, 4, 4]               0\n",
      "        AvgPool2d-28            [-1, 512, 2, 2]               0\n",
      "           Linear-29                  [-1, 512]       1,049,088\n",
      "      BatchNorm1d-30                  [-1, 512]           1,024\n",
      "             ReLU-31                  [-1, 512]               0\n",
      "          Dropout-32                  [-1, 512]               0\n",
      "           Linear-33                   [-1, 10]           5,130\n",
      "================================================================\n",
      "Total params: 8,510,986\n",
      "Trainable params: 8,510,986\n",
      "Non-trainable params: 0\n",
      "----------------------------------------------------------------\n",
      "Input size (MB): 0.01\n",
      "Forward/backward pass size (MB): 4.19\n",
      "Params size (MB): 32.47\n",
      "Estimated Total Size (MB): 36.67\n",
      "----------------------------------------------------------------\n"
     ]
    }
   ],
   "source": [
    "# Training & Evaludation\n",
    "dropout = 0.5\n",
    "vgg_model = SimpleVGG(dropout).cuda()\n",
    "train_loss_lst = []\n",
    "test_accuracy_lst = []\n",
    "for epoch in range(total_epoch):\n",
    "    train_loss = train(vgg_model, train_loader)\n",
    "    train_loss_lst.append(train_loss)\n",
    "    test_accuracy = eval(vgg_model, test_loader)\n",
    "    test_accuracy_lst.append(test_accuracy)\n",
    "    \n",
    "    print(\"Epoch: [{}/{} ({:.2f}%)]\\ttrain_loss: {}\\ttest_accuracy: {}\".\n",
    "          format(epoch + 1, total_epoch, \n",
    "                 100 * ((epoch + 1) / total_epoch),\n",
    "                 train_loss, test_accuracy))\n",
    "\n",
    "summary(vgg_model, input_size = (3,32,32))"
   ]
  },
  {
   "cell_type": "code",
   "execution_count": 8,
   "metadata": {
    "ExecuteTime": {
     "end_time": "2019-10-05T00:35:02.572969Z",
     "start_time": "2019-10-05T00:35:02.132146Z"
    }
   },
   "outputs": [],
   "source": [
    "import matplotlib.pyplot as plt\n",
    "%matplotlib inline"
   ]
  },
  {
   "cell_type": "code",
   "execution_count": 9,
   "metadata": {
    "ExecuteTime": {
     "end_time": "2019-10-05T00:35:02.764489Z",
     "start_time": "2019-10-05T00:35:02.575959Z"
    }
   },
   "outputs": [
    {
     "data": {
      "image/png": "[encoded data removed]",
      "text/plain": [
       "<Figure size 432x288 with 1 Axes>"
      ]
     },
     "metadata": {
      "needs_background": "light"
     },
     "output_type": "display_data"
    }
   ],
   "source": [
    "plt.clf()\n",
    "plt.title(\"CNN Model for CIFAR10\")\n",
    "plt.plot(train_loss_lst, '-', label='Train Loss', alpha=0.8)\n",
    "plt.legend(loc='best')\n",
    "plt.show()"
   ]
  },
  {
   "cell_type": "code",
   "execution_count": 10,
   "metadata": {
    "ExecuteTime": {
     "end_time": "2019-10-05T00:35:02.927021Z",
     "start_time": "2019-10-05T00:35:02.765453Z"
    }
   },
   "outputs": [
    {
     "data": {
      "image/png": "[encoded data removed]",
      "text/plain": [
       "<Figure size 432x288 with 1 Axes>"
      ]
     },
     "metadata": {
      "needs_background": "light"
     },
     "output_type": "display_data"
    }
   ],
   "source": [
    "plt.clf()\n",
    "plt.title(\"CNN Model for CIFAR10\")\n",
    "plt.plot(test_accuracy_lst, '-', label='Test Accuracy', alpha=0.8)\n",
    "plt.legend(loc='best')\n",
    "plt.show()"
   ]
  },
  {
   "cell_type": "code",
   "execution_count": null,
   "metadata": {},
   "outputs": [],
   "source": []
  }
 ],
 "metadata": {
  "hide_input": false,
  "kernelspec": {
   "display_name": "Python 3",
   "language": "python",
   "name": "python3"
  },
  "language_info": {
   "codemirror_mode": {
    "name": "ipython",
    "version": 3
   },
   "file_extension": ".py",
   "mimetype": "text/x-python",
   "name": "python",
   "nbconvert_exporter": "python",
   "pygments_lexer": "ipython3",
   "version": "3.6.9"
  },
  "toc": {
   "base_numbering": 1,
   "nav_menu": {},
   "number_sections": true,
   "sideBar": true,
   "skip_h1_title": false,
   "title_cell": "Table of Contents",
   "title_sidebar": "Contents",
   "toc_cell": false,
   "toc_position": {},
   "toc_section_display": true,
   "toc_window_display": false
  },
  "varInspector": {
   "cols": {
    "lenName": 16,
    "lenType": 16,
    "lenVar": 40
   },
   "kernels_config": {
    "python": {
     "delete_cmd_postfix": "",
     "delete_cmd_prefix": "del ",
     "library": "var_list.py",
     "varRefreshCmd": "print(var_dic_list())"
    },
    "r": {
     "delete_cmd_postfix": ") ",
     "delete_cmd_prefix": "rm(",
     "library": "var_list.r",
     "varRefreshCmd": "cat(var_dic_list()) "
    }
   },
   "types_to_exclude": [
    "module",
    "function",
    "builtin_function_or_method",
    "instance",
    "_Feature"
   ],
   "window_display": false
  }
 },
 "nbformat": 4,
 "nbformat_minor": 2
}
