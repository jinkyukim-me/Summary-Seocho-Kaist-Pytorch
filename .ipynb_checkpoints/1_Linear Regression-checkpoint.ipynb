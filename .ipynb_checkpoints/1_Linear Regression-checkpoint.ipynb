{
 "cells": [
  {
   "cell_type": "markdown",
   "metadata": {},
   "source": [
    "**1. 공부시간과 점수 구현**\n",
    "<br>\n",
    "\n",
    "**2. 데이터를 직접 생성**"
   ]
  },
  {
   "cell_type": "markdown",
   "metadata": {},
   "source": [
    "# 공부시간과 점수 구현"
   ]
  },
  {
   "cell_type": "code",
   "execution_count": 1,
   "metadata": {
    "ExecuteTime": {
     "end_time": "2019-10-03T13:48:51.395889Z",
     "start_time": "2019-10-03T13:48:50.786521Z"
    }
   },
   "outputs": [],
   "source": [
    "import matplotlib.pyplot as plt"
   ]
  },
  {
   "cell_type": "code",
   "execution_count": 2,
   "metadata": {
    "ExecuteTime": {
     "end_time": "2019-10-03T13:48:51.403877Z",
     "start_time": "2019-10-03T13:48:51.397883Z"
    }
   },
   "outputs": [],
   "source": [
    "study_time_lst = [5, 2, 12, 8, 15, 10, 11, 17, 7.5, 3]\n",
    "score_lst = [60, 40, 96, 72, 100, 98, 89, 96, 80, 30]"
   ]
  },
  {
   "cell_type": "code",
   "execution_count": 3,
   "metadata": {
    "ExecuteTime": {
     "end_time": "2019-10-03T13:48:51.583389Z",
     "start_time": "2019-10-03T13:48:51.406860Z"
    }
   },
   "outputs": [
    {
     "data": {
      "image/png": "[encoded data removed]",
      "text/plain": [
       "<Figure size 432x288 with 1 Axes>"
      ]
     },
     "metadata": {
      "needs_background": "light"
     },
     "output_type": "display_data"
    }
   ],
   "source": [
    "plt.plot(study_time_lst, score_lst, 'ro')\n",
    "plt.show()"
   ]
  },
  {
   "cell_type": "code",
   "execution_count": 4,
   "metadata": {
    "ExecuteTime": {
     "end_time": "2019-10-03T13:48:51.590401Z",
     "start_time": "2019-10-03T13:48:51.586381Z"
    }
   },
   "outputs": [],
   "source": [
    "import random\n",
    "theta = [random.random(), random.random()]\n",
    "data_cnt = len(study_time_lst)"
   ]
  },
  {
   "cell_type": "code",
   "execution_count": 5,
   "metadata": {
    "ExecuteTime": {
     "end_time": "2019-10-03T13:48:51.601351Z",
     "start_time": "2019-10-03T13:48:51.593361Z"
    }
   },
   "outputs": [],
   "source": [
    "lr = 0.001\n",
    "total_epoch = 200"
   ]
  },
  {
   "cell_type": "code",
   "execution_count": 6,
   "metadata": {
    "ExecuteTime": {
     "end_time": "2019-10-03T13:48:51.627273Z",
     "start_time": "2019-10-03T13:48:51.605330Z"
    }
   },
   "outputs": [
    {
     "name": "stdout",
     "output_type": "stream",
     "text": [
      "MSE =  427.2492570761575\n",
      "MSE =  344.9147678262715\n",
      "MSE =  342.2519660767615\n",
      "MSE =  340.33696707736243\n",
      "MSE =  338.44456506661265\n",
      "MSE =  336.5679667496189\n",
      "MSE =  334.7069799761176\n",
      "MSE =  332.8614743198484\n",
      "MSE =  331.03132099190964\n",
      "MSE =  329.2163922798394\n",
      "MSE =  327.416561533632\n",
      "MSE =  325.63170315685403\n",
      "MSE =  323.86169259787937\n",
      "MSE =  322.1064063411973\n",
      "MSE =  320.3657218987942\n",
      "MSE =  318.63951780160494\n",
      "MSE =  316.92767359103726\n",
      "MSE =  315.2300698105659\n",
      "MSE =  313.5465879973959\n",
      "MSE =  311.8771106741967\n"
     ]
    }
   ],
   "source": [
    "for i in range(total_epoch):\n",
    "    theta_0 = theta[0]\n",
    "    theta_1 = theta[1]\n",
    "    \n",
    "    # Mean Squared Error\n",
    "    MSE = sum([(y - theta_0 - theta_1 * x) ** 2 \n",
    "               for x,y in zip(study_time_lst, score_lst)]) / data_cnt\n",
    "    if (i +1) % 10 == 0:\n",
    "        print(\"MSE = \", MSE)\n",
    "        \n",
    "    # theta0 gradient\n",
    "    err_lst = []\n",
    "    for x, y in zip(study_time_lst, score_lst):\n",
    "        err_lst.append(y - theta_0 - (theta_1 * x))\n",
    "    theta_0_grad = (-2 / data_cnt) * sum(err_lst)\n",
    "    \n",
    "    # theta1 gadient\n",
    "    err_lst = []\n",
    "    for x, y in zip(study_time_lst, score_lst):\n",
    "        err_lst.append((y - theta_0 - (theta_1 * x))*x)\n",
    "    theta_1_grad = (-2 / data_cnt) * sum(err_lst)\n",
    "    \n",
    "    # Gradient Descent\n",
    "    theta[0] = theta[0] - lr * theta_0_grad\n",
    "    theta[1] = theta[1] - lr * theta_1_grad"
   ]
  },
  {
   "cell_type": "code",
   "execution_count": 7,
   "metadata": {
    "ExecuteTime": {
     "end_time": "2019-10-03T13:48:51.638258Z",
     "start_time": "2019-10-03T13:48:51.631260Z"
    }
   },
   "outputs": [
    {
     "name": "stdout",
     "output_type": "stream",
     "text": [
      "theta_0 = 3.804791163324438, theta_1 = 7.279130716984023\n"
     ]
    }
   ],
   "source": [
    "print(\"theta_0 = {}, theta_1 = {}\".format(theta[0], theta[1]))"
   ]
  },
  {
   "cell_type": "code",
   "execution_count": 8,
   "metadata": {
    "ExecuteTime": {
     "end_time": "2019-10-03T13:48:51.649243Z",
     "start_time": "2019-10-03T13:48:51.642231Z"
    }
   },
   "outputs": [],
   "source": [
    "study_time_lst = [5, 2, 12, 8, 15, 10, 11, 17, 7.5, 3]\n",
    "score_lst = [60, 40, 96, 72, 100, 98, 89, 96, 80, 30]"
   ]
  },
  {
   "cell_type": "code",
   "execution_count": 9,
   "metadata": {
    "ExecuteTime": {
     "end_time": "2019-10-03T13:48:51.802840Z",
     "start_time": "2019-10-03T13:48:51.654198Z"
    }
   },
   "outputs": [
    {
     "data": {
      "image/png": "[encoded data removed]",
      "text/plain": [
       "<Figure size 432x288 with 1 Axes>"
      ]
     },
     "metadata": {
      "needs_background": "light"
     },
     "output_type": "display_data"
    }
   ],
   "source": [
    "plt.plot(study_time_lst, score_lst, 'ro')\n",
    "plt.plot(study_time_lst, [s * theta[1] + theta[0] for s in study_time_lst])\n",
    "plt.show()"
   ]
  },
  {
   "cell_type": "code",
   "execution_count": 10,
   "metadata": {
    "ExecuteTime": {
     "end_time": "2019-10-03T13:48:51.969392Z",
     "start_time": "2019-10-03T13:48:51.804801Z"
    }
   },
   "outputs": [
    {
     "data": {
      "image/png": "[encoded data removed]",
      "text/plain": [
       "<Figure size 432x288 with 1 Axes>"
      ]
     },
     "metadata": {
      "needs_background": "light"
     },
     "output_type": "display_data"
    }
   ],
   "source": [
    "predicted = [s * theta[1] + theta[0] for s in study_time_lst]\n",
    "\n",
    "plt.clf()\n",
    "plt.title(\"Linear Regression\")\n",
    "plt.plot(study_time_lst, score_lst, 'ro', label='True data', alpha=0.5)\n",
    "plt.plot(study_time_lst, predicted, '--', label='Predictions', alpha=0.5)\n",
    "plt.legend(loc='best')\n",
    "plt.show()"
   ]
  },
  {
   "cell_type": "markdown",
   "metadata": {},
   "source": [
    "# 데이터를 직접 생성"
   ]
  },
  {
   "cell_type": "code",
   "execution_count": 11,
   "metadata": {
    "ExecuteTime": {
     "end_time": "2019-10-03T13:48:51.980358Z",
     "start_time": "2019-10-03T13:48:51.971349Z"
    }
   },
   "outputs": [],
   "source": [
    "import random\n",
    "import numpy as np\n",
    "import matplotlib.pyplot as plt\n",
    "%matplotlib inline"
   ]
  },
  {
   "cell_type": "code",
   "execution_count": 12,
   "metadata": {
    "ExecuteTime": {
     "end_time": "2019-10-03T13:48:51.990336Z",
     "start_time": "2019-10-03T13:48:51.982319Z"
    }
   },
   "outputs": [],
   "source": [
    "num_points = 1000\n",
    "x_data = []\n",
    "y_data = []"
   ]
  },
  {
   "cell_type": "code",
   "execution_count": 13,
   "metadata": {
    "ExecuteTime": {
     "end_time": "2019-10-03T13:48:52.012239Z",
     "start_time": "2019-10-03T13:48:51.993290Z"
    }
   },
   "outputs": [],
   "source": [
    "for i in range(num_points):\n",
    "    x = np.random.normal(0.0, 0.55)\n",
    "    y = 0.3 + x * 0.1 + np.random.normal(0.0, 0.03)\n",
    "\n",
    "    x_data.append(x)\n",
    "    y_data.append(y)"
   ]
  },
  {
   "cell_type": "code",
   "execution_count": 14,
   "metadata": {
    "ExecuteTime": {
     "end_time": "2019-10-03T13:48:52.178817Z",
     "start_time": "2019-10-03T13:48:52.014234Z"
    }
   },
   "outputs": [
    {
     "name": "stderr",
     "output_type": "stream",
     "text": [
      "C:\\Users\\go2th\\Miniconda3\\envs\\tensorflow\\lib\\site-packages\\matplotlib\\backends\\backend_agg.py:211: RuntimeWarning: Glyph 8722 missing from current font.\n",
      "  font.set_text(s, 0.0, flags=flags)\n",
      "C:\\Users\\go2th\\Miniconda3\\envs\\tensorflow\\lib\\site-packages\\matplotlib\\backends\\backend_agg.py:180: RuntimeWarning: Glyph 8722 missing from current font.\n",
      "  font.set_text(s, 0, flags=flags)\n"
     ]
    },
    {
     "data": {
      "image/png": "[encoded data removed]",
      "text/plain": [
       "<Figure size 432x288 with 1 Axes>"
      ]
     },
     "metadata": {
      "needs_background": "light"
     },
     "output_type": "display_data"
    }
   ],
   "source": [
    "plt.clf()\n",
    "plt.title(\"Linear Regression\")\n",
    "plt.plot(x_data, y_data, 'ro', label='True Data', alpha=0.5)\n",
    "plt.legend(loc='best')\n",
    "plt.show()"
   ]
  },
  {
   "cell_type": "code",
   "execution_count": 15,
   "metadata": {
    "ExecuteTime": {
     "end_time": "2019-10-03T13:48:52.184811Z",
     "start_time": "2019-10-03T13:48:52.180789Z"
    }
   },
   "outputs": [],
   "source": [
    "theta = np.array([random.random(), random.random()])"
   ]
  },
  {
   "cell_type": "code",
   "execution_count": 16,
   "metadata": {
    "ExecuteTime": {
     "end_time": "2019-10-03T13:48:52.195756Z",
     "start_time": "2019-10-03T13:48:52.187770Z"
    }
   },
   "outputs": [
    {
     "name": "stdout",
     "output_type": "stream",
     "text": [
      "1000\n"
     ]
    }
   ],
   "source": [
    "data_cnt = len(x_data)\n",
    "print(data_cnt)"
   ]
  },
  {
   "cell_type": "code",
   "execution_count": 17,
   "metadata": {
    "ExecuteTime": {
     "end_time": "2019-10-03T13:48:52.209712Z",
     "start_time": "2019-10-03T13:48:52.198753Z"
    }
   },
   "outputs": [],
   "source": [
    "lr = 0.03\n",
    "total_epoch = 200"
   ]
  },
  {
   "cell_type": "code",
   "execution_count": 18,
   "metadata": {
    "ExecuteTime": {
     "end_time": "2019-10-03T13:48:52.762263Z",
     "start_time": "2019-10-03T13:48:52.211706Z"
    }
   },
   "outputs": [
    {
     "name": "stdout",
     "output_type": "stream",
     "text": [
      "MSE =  0.11149206073848655\n",
      "MSE =  0.07154924202952784\n",
      "MSE =  0.04732401317968562\n",
      "MSE =  0.031798081744849875\n",
      "MSE =  0.021579488861212717\n",
      "MSE =  0.014772411039318731\n",
      "MSE =  0.010213723525847996\n",
      "MSE =  0.007153699053153015\n",
      "MSE =  0.005097591810346611\n",
      "MSE =  0.0037154425015574577\n",
      "MSE =  0.002786164902664835\n",
      "MSE =  0.002161321680356419\n",
      "MSE =  0.0017411644928179912\n",
      "MSE =  0.0014586380754238214\n",
      "MSE =  0.001268657523515391\n",
      "MSE =  0.001140907660511869\n",
      "MSE =  0.0010550038822699928\n",
      "MSE =  0.0009972389439268227\n",
      "MSE =  0.0009583956134027298\n",
      "MSE =  0.0009322758854895042\n"
     ]
    }
   ],
   "source": [
    "for i in range(total_epoch):\n",
    "    theta_0 = theta[0]\n",
    "    theta_1 = theta[1]\n",
    "    \n",
    "    # cost - loss - MSE\n",
    "    MSE = sum([(y - theta_0 - theta_1 * x ) ** 2 for x,y in zip(x_data, y_data)]) / data_cnt\n",
    "    if (i + 1) % 10 == 0:\n",
    "        print('MSE = ', MSE)\n",
    "    \n",
    "    # theta0 gradient    \n",
    "    err_lst=[]\n",
    "    for x,y in zip(x_data, y_data):\n",
    "        err_lst.append(y - theta_0 - theta_1 * x)\n",
    "    theta_0_grad = (-2 / data_cnt) * sum(err_lst)\n",
    "    err_lst = []\n",
    "    \n",
    "    # theta1 gradient\n",
    "    for x, y in zip(x_data, y_data):\n",
    "        err_lst.append((y - theta_0 - (theta_1 * x)) * x)\n",
    "    theta_1_grad = (-2 / data_cnt) * sum(err_lst)\n",
    "    \n",
    "    # gradient descent\n",
    "    theta[0] = theta[0] - lr * theta_0_grad\n",
    "    theta[1] = theta[1] - lr * theta_1_grad"
   ]
  },
  {
   "cell_type": "code",
   "execution_count": 19,
   "metadata": {
    "ExecuteTime": {
     "end_time": "2019-10-03T13:48:52.938795Z",
     "start_time": "2019-10-03T13:48:52.763261Z"
    }
   },
   "outputs": [
    {
     "data": {
      "image/png": "[encoded data removed]",
      "text/plain": [
       "<Figure size 432x288 with 1 Axes>"
      ]
     },
     "metadata": {
      "needs_background": "light"
     },
     "output_type": "display_data"
    }
   ],
   "source": [
    "predicted = [s * theta[1] + theta[0] for s in x_data]\n",
    "\n",
    "plt.clf()\n",
    "plt.title(\"Linear Regression\")\n",
    "plt.plot(x_data, y_data, 'ro', label='True Data', alpha=0.5)\n",
    "plt.plot(x_data, predicted, '--', label='Predictions', alpha=0.5)\n",
    "plt.legend(loc='best')\n",
    "plt.show()"
   ]
  },
  {
   "cell_type": "code",
   "execution_count": 20,
   "metadata": {
    "ExecuteTime": {
     "end_time": "2019-10-03T13:48:52.947737Z",
     "start_time": "2019-10-03T13:48:52.941792Z"
    }
   },
   "outputs": [
    {
     "name": "stdout",
     "output_type": "stream",
     "text": [
      "theta_0 = 0.30018462663203366, theta_1 = 0.11516806515709684\n",
      "accuracy: theta_0 = 0.9993849564046463, theta_1 = 0.8682962578523258\n"
     ]
    }
   ],
   "source": [
    "print(\"theta_0 = {}, theta_1 = {}\".format(theta[0], theta[1]))\n",
    "print(\"accuracy: theta_0 = {}, theta_1 = {}\".\n",
    "      format( 0.3 / theta[0], 0.1 / theta[1] ))"
   ]
  }
 ],
 "metadata": {
  "hide_input": false,
  "kernelspec": {
   "display_name": "Python 3",
   "language": "python",
   "name": "python3"
  },
  "language_info": {
   "codemirror_mode": {
    "name": "ipython",
    "version": 3
   },
   "file_extension": ".py",
   "mimetype": "text/x-python",
   "name": "python",
   "nbconvert_exporter": "python",
   "pygments_lexer": "ipython3",
   "version": "3.6.9"
  },
  "toc": {
   "base_numbering": 1,
   "nav_menu": {},
   "number_sections": true,
   "sideBar": true,
   "skip_h1_title": false,
   "title_cell": "Table of Contents",
   "title_sidebar": "Contents",
   "toc_cell": false,
   "toc_position": {},
   "toc_section_display": true,
   "toc_window_display": false
  },
  "varInspector": {
   "cols": {
    "lenName": 16,
    "lenType": 16,
    "lenVar": 40
   },
   "kernels_config": {
    "python": {
     "delete_cmd_postfix": "",
     "delete_cmd_prefix": "del ",
     "library": "var_list.py",
     "varRefreshCmd": "print(var_dic_list())"
    },
    "r": {
     "delete_cmd_postfix": ") ",
     "delete_cmd_prefix": "rm(",
     "library": "var_list.r",
     "varRefreshCmd": "cat(var_dic_list()) "
    }
   },
   "types_to_exclude": [
    "module",
    "function",
    "builtin_function_or_method",
    "instance",
    "_Feature"
   ],
   "window_display": false
  }
 },
 "nbformat": 4,
 "nbformat_minor": 2
}
