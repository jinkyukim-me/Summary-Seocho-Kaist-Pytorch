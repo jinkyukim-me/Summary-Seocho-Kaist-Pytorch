{
 "cells": [
  {
   "cell_type": "markdown",
   "metadata": {},
   "source": [
    "**1. 텐서 만들기**\n",
    "\n",
    "        * 리스트 혹은 numpy의 array를 이용하여 만들기\n",
    "        * 랜덤한 값을 가지는 텐서 만들기\n",
    "        * 0 혹은 1 등의 특정한 값으로 구성된 텐서 만들기\n",
    "\n",
    "    1.1 배열 혹은 리스트로 부터 텐서 만들기\n",
    "\n",
    "    1.2 랜덤한 값을 가지는 텐서 만들기\n",
    "\n",
    "    1.3 특정한 값의 텐서 만들기\n",
    "\n",
    "<br>\n",
    "\n",
    "**2. 텐서 차원 변환**\n",
    "\n",
    "    2.1  view(): 텐서의 차원(형상)을 변환\n",
    "    \n",
    "    2.2  squeeze(): 차원의 원소가 1인 차원을 없앰\n",
    "    \n",
    "    2.3  unsqueeze(): 인수로 받은 위치에 새로운 차원을 삽입\n",
    "\n",
    "<br>\n",
    "\n",
    "**3.  텐서 결합 및 분할**\n",
    "\n",
    "    3.1  cat(): 복수의 텐서를 결합\n",
    "\n",
    "    3.2  chunk()와 split()으로 텐서 분할\n",
    "    \n",
    "<br>\n",
    "\n",
    "**4.  텐서 값 가져오기**\n",
    "\n",
    "    4.1  item(): 1개의 원소를 가진 텐서를 python scalar 값으로 만듦\n",
    "\n",
    "<br>\n",
    "\n",
    "**5.  GPU사용**\n",
    "\n",
    "        * GPU (Graphics Processing Unit) - 그래픽 성능에 큰 영향을 미치는 특화 프로세서\n",
    "        * GPU는 병렬 처리 방식으로 대량 계산을 가속화하여 빠른 처리 가능\n",
    "        * PyTorch에서 GPU 연산을 하기 위해서는 텐서를 GPU 연산이 가능한 자료형으로 변환하면 됨\n",
    "        * 현재 환경이 GPU가 사용가능한 환경인지는 torch.cuda.is_available()로 확인 가능\n",
    "\n",
    "<br>\n",
    "\n",
    "**6.  autograd**\n",
    "\n",
    "        * autograd는 PyTorch에서 핵심적인 기능을 담당하는 패키지\n",
    "        * Autograd는 텐서의 연산에 대해 자동으로 미분값을 구해주는 기능을 제공\n",
    "        * 텐서를 생성할 때, requires_grad인수를 True로 설정하거나 requires_grad_(True)로 설정 가능"
   ]
  },
  {
   "cell_type": "markdown",
   "metadata": {},
   "source": [
    "# 텐서 만들기\n",
    "* 리스트 혹은 numpy의 array를 이용하여 만들기\n",
    "* 0 혹은 1 등의 특정한 값으로 구성된 텐서 만들기\n",
    "* 랜덤한 값을 가지는 텐서 만들기"
   ]
  },
  {
   "cell_type": "markdown",
   "metadata": {},
   "source": [
    "## 배열 혹은 리스트로 부터 텐서 만들기"
   ]
  },
  {
   "cell_type": "code",
   "execution_count": 1,
   "metadata": {
    "ExecuteTime": {
     "end_time": "2019-10-03T13:43:58.631534Z",
     "start_time": "2019-10-03T13:43:58.022201Z"
    }
   },
   "outputs": [],
   "source": [
    "import numpy as np\n",
    "import torch"
   ]
  },
  {
   "cell_type": "code",
   "execution_count": 2,
   "metadata": {
    "ExecuteTime": {
     "end_time": "2019-10-03T13:43:58.638516Z",
     "start_time": "2019-10-03T13:43:58.633538Z"
    }
   },
   "outputs": [],
   "source": [
    "data = torch.tensor([1, 2, 3])"
   ]
  },
  {
   "cell_type": "code",
   "execution_count": 3,
   "metadata": {
    "ExecuteTime": {
     "end_time": "2019-10-03T13:43:58.653511Z",
     "start_time": "2019-10-03T13:43:58.641508Z"
    }
   },
   "outputs": [
    {
     "name": "stdout",
     "output_type": "stream",
     "text": [
      "tensor([1, 2, 3])\n"
     ]
    }
   ],
   "source": [
    "print(data)"
   ]
  },
  {
   "cell_type": "code",
   "execution_count": 4,
   "metadata": {
    "ExecuteTime": {
     "end_time": "2019-10-03T13:43:58.663449Z",
     "start_time": "2019-10-03T13:43:58.657465Z"
    }
   },
   "outputs": [],
   "source": [
    "data2 = torch.tensor(np.array([[1, 2], [3, 4]]))"
   ]
  },
  {
   "cell_type": "code",
   "execution_count": 5,
   "metadata": {
    "ExecuteTime": {
     "end_time": "2019-10-03T13:43:58.676415Z",
     "start_time": "2019-10-03T13:43:58.665443Z"
    }
   },
   "outputs": [
    {
     "name": "stdout",
     "output_type": "stream",
     "text": [
      "tensor([[1, 2],\n",
      "        [3, 4]], dtype=torch.int32)\n"
     ]
    }
   ],
   "source": [
    "print(data2)"
   ]
  },
  {
   "cell_type": "markdown",
   "metadata": {},
   "source": [
    "## 랜덤한 값을 가지는 텐서 만들기"
   ]
  },
  {
   "cell_type": "code",
   "execution_count": 6,
   "metadata": {
    "ExecuteTime": {
     "end_time": "2019-10-03T13:43:58.686418Z",
     "start_time": "2019-10-03T13:43:58.678410Z"
    }
   },
   "outputs": [],
   "source": [
    "data3 = torch.rand(5)"
   ]
  },
  {
   "cell_type": "code",
   "execution_count": 7,
   "metadata": {
    "ExecuteTime": {
     "end_time": "2019-10-03T13:43:58.701347Z",
     "start_time": "2019-10-03T13:43:58.688420Z"
    }
   },
   "outputs": [
    {
     "name": "stdout",
     "output_type": "stream",
     "text": [
      "tensor([0.3454, 0.4061, 0.0443, 0.2858, 0.2422])\n"
     ]
    }
   ],
   "source": [
    "print(data3)"
   ]
  },
  {
   "cell_type": "code",
   "execution_count": 8,
   "metadata": {
    "ExecuteTime": {
     "end_time": "2019-10-03T13:43:58.719300Z",
     "start_time": "2019-10-03T13:43:58.704339Z"
    }
   },
   "outputs": [],
   "source": [
    "data4 = torch.rand(10)"
   ]
  },
  {
   "cell_type": "code",
   "execution_count": 9,
   "metadata": {
    "ExecuteTime": {
     "end_time": "2019-10-03T13:43:58.734274Z",
     "start_time": "2019-10-03T13:43:58.721295Z"
    }
   },
   "outputs": [
    {
     "name": "stdout",
     "output_type": "stream",
     "text": [
      "tensor([0.9879, 0.7859, 0.0258, 0.0761, 0.1117, 0.3103, 0.4796, 0.7743, 0.1184,\n",
      "        0.5669])\n"
     ]
    }
   ],
   "source": [
    "print(data4)"
   ]
  },
  {
   "cell_type": "code",
   "execution_count": 10,
   "metadata": {
    "ExecuteTime": {
     "end_time": "2019-10-03T13:43:58.744233Z",
     "start_time": "2019-10-03T13:43:58.737254Z"
    }
   },
   "outputs": [],
   "source": [
    "data5 = torch.randint(10, size=(20, ))"
   ]
  },
  {
   "cell_type": "code",
   "execution_count": 11,
   "metadata": {
    "ExecuteTime": {
     "end_time": "2019-10-03T13:43:58.757201Z",
     "start_time": "2019-10-03T13:43:58.746227Z"
    }
   },
   "outputs": [
    {
     "name": "stdout",
     "output_type": "stream",
     "text": [
      "tensor([0, 5, 5, 8, 4, 6, 7, 1, 9, 4, 3, 1, 9, 0, 9, 8, 8, 3, 8, 9])\n"
     ]
    }
   ],
   "source": [
    "print(data5)"
   ]
  },
  {
   "cell_type": "markdown",
   "metadata": {},
   "source": [
    "## 특정한 값의 텐서 만들기"
   ]
  },
  {
   "cell_type": "code",
   "execution_count": 12,
   "metadata": {
    "ExecuteTime": {
     "end_time": "2019-10-03T13:43:58.773160Z",
     "start_time": "2019-10-03T13:43:58.760203Z"
    }
   },
   "outputs": [],
   "source": [
    "data6 = torch.arange(1, 20)"
   ]
  },
  {
   "cell_type": "code",
   "execution_count": 13,
   "metadata": {
    "ExecuteTime": {
     "end_time": "2019-10-03T13:43:58.790109Z",
     "start_time": "2019-10-03T13:43:58.775155Z"
    }
   },
   "outputs": [
    {
     "name": "stdout",
     "output_type": "stream",
     "text": [
      "tensor([ 1,  2,  3,  4,  5,  6,  7,  8,  9, 10, 11, 12, 13, 14, 15, 16, 17, 18,\n",
      "        19])\n"
     ]
    }
   ],
   "source": [
    "print(data6)"
   ]
  },
  {
   "cell_type": "code",
   "execution_count": 14,
   "metadata": {
    "ExecuteTime": {
     "end_time": "2019-10-03T13:43:58.799138Z",
     "start_time": "2019-10-03T13:43:58.792105Z"
    }
   },
   "outputs": [],
   "source": [
    "data7 = torch.ones([2, 5])"
   ]
  },
  {
   "cell_type": "code",
   "execution_count": 15,
   "metadata": {
    "ExecuteTime": {
     "end_time": "2019-10-03T13:43:58.814045Z",
     "start_time": "2019-10-03T13:43:58.802078Z"
    }
   },
   "outputs": [
    {
     "name": "stdout",
     "output_type": "stream",
     "text": [
      "tensor([[1., 1., 1., 1., 1.],\n",
      "        [1., 1., 1., 1., 1.]])\n"
     ]
    }
   ],
   "source": [
    "print(data7)"
   ]
  },
  {
   "cell_type": "code",
   "execution_count": 16,
   "metadata": {
    "ExecuteTime": {
     "end_time": "2019-10-03T13:43:58.823045Z",
     "start_time": "2019-10-03T13:43:58.816039Z"
    }
   },
   "outputs": [],
   "source": [
    "data8 = torch.zeros([3, 5])"
   ]
  },
  {
   "cell_type": "code",
   "execution_count": 17,
   "metadata": {
    "ExecuteTime": {
     "end_time": "2019-10-03T13:43:58.834989Z",
     "start_time": "2019-10-03T13:43:58.825016Z"
    }
   },
   "outputs": [
    {
     "name": "stdout",
     "output_type": "stream",
     "text": [
      "tensor([[0., 0., 0., 0., 0.],\n",
      "        [0., 0., 0., 0., 0.],\n",
      "        [0., 0., 0., 0., 0.]])\n"
     ]
    }
   ],
   "source": [
    "print(data8)"
   ]
  },
  {
   "cell_type": "markdown",
   "metadata": {},
   "source": [
    "# 텐서 차원 변환"
   ]
  },
  {
   "cell_type": "markdown",
   "metadata": {},
   "source": [
    "## view(): 텐서의 차원(형상)을 변환"
   ]
  },
  {
   "cell_type": "code",
   "execution_count": 18,
   "metadata": {
    "ExecuteTime": {
     "end_time": "2019-10-03T13:43:58.845984Z",
     "start_time": "2019-10-03T13:43:58.836983Z"
    }
   },
   "outputs": [],
   "source": [
    "t1 = torch.ones(3, 8)"
   ]
  },
  {
   "cell_type": "code",
   "execution_count": 19,
   "metadata": {
    "ExecuteTime": {
     "end_time": "2019-10-03T13:43:58.857951Z",
     "start_time": "2019-10-03T13:43:58.847979Z"
    }
   },
   "outputs": [
    {
     "name": "stdout",
     "output_type": "stream",
     "text": [
      "tensor([[1., 1., 1., 1., 1., 1., 1., 1.],\n",
      "        [1., 1., 1., 1., 1., 1., 1., 1.],\n",
      "        [1., 1., 1., 1., 1., 1., 1., 1.]])\n"
     ]
    }
   ],
   "source": [
    "print(t1)"
   ]
  },
  {
   "cell_type": "code",
   "execution_count": 20,
   "metadata": {
    "ExecuteTime": {
     "end_time": "2019-10-03T13:43:58.874907Z",
     "start_time": "2019-10-03T13:43:58.858956Z"
    }
   },
   "outputs": [
    {
     "data": {
      "text/plain": [
       "tensor([[1., 1., 1., 1.],\n",
       "        [1., 1., 1., 1.],\n",
       "        [1., 1., 1., 1.],\n",
       "        [1., 1., 1., 1.],\n",
       "        [1., 1., 1., 1.],\n",
       "        [1., 1., 1., 1.]])"
      ]
     },
     "execution_count": 20,
     "metadata": {},
     "output_type": "execute_result"
    }
   ],
   "source": [
    "t1.view(6, 4)"
   ]
  },
  {
   "cell_type": "code",
   "execution_count": 21,
   "metadata": {
    "ExecuteTime": {
     "end_time": "2019-10-03T13:43:58.883885Z",
     "start_time": "2019-10-03T13:43:58.876901Z"
    }
   },
   "outputs": [
    {
     "data": {
      "text/plain": [
       "tensor([1., 1., 1., 1., 1., 1., 1., 1., 1., 1., 1., 1., 1., 1., 1., 1., 1., 1.,\n",
       "        1., 1., 1., 1., 1., 1.])"
      ]
     },
     "execution_count": 21,
     "metadata": {},
     "output_type": "execute_result"
    }
   ],
   "source": [
    "t1.view(24)"
   ]
  },
  {
   "cell_type": "code",
   "execution_count": 22,
   "metadata": {
    "ExecuteTime": {
     "end_time": "2019-10-03T13:43:58.896833Z",
     "start_time": "2019-10-03T13:43:58.884883Z"
    }
   },
   "outputs": [
    {
     "data": {
      "text/plain": [
       "tensor([[[1., 1., 1., 1., 1., 1., 1., 1.],\n",
       "         [1., 1., 1., 1., 1., 1., 1., 1.],\n",
       "         [1., 1., 1., 1., 1., 1., 1., 1.]]])"
      ]
     },
     "execution_count": 22,
     "metadata": {},
     "output_type": "execute_result"
    }
   ],
   "source": [
    "t1.view(1, 3, 8)"
   ]
  },
  {
   "cell_type": "code",
   "execution_count": 23,
   "metadata": {
    "ExecuteTime": {
     "end_time": "2019-10-03T13:43:58.922785Z",
     "start_time": "2019-10-03T13:43:58.913818Z"
    },
    "scrolled": true
   },
   "outputs": [
    {
     "data": {
      "text/plain": [
       "tensor([[1., 1., 1., 1., 1., 1., 1., 1.],\n",
       "        [1., 1., 1., 1., 1., 1., 1., 1.],\n",
       "        [1., 1., 1., 1., 1., 1., 1., 1.]])"
      ]
     },
     "execution_count": 23,
     "metadata": {},
     "output_type": "execute_result"
    }
   ],
   "source": [
    "t1.view(-1, 8)"
   ]
  },
  {
   "cell_type": "code",
   "execution_count": 24,
   "metadata": {
    "ExecuteTime": {
     "end_time": "2019-10-03T13:43:58.933756Z",
     "start_time": "2019-10-03T13:43:58.926793Z"
    }
   },
   "outputs": [
    {
     "data": {
      "text/plain": [
       "tensor([[1., 1., 1., 1., 1., 1., 1., 1., 1., 1., 1., 1., 1., 1., 1., 1., 1., 1.,\n",
       "         1., 1., 1., 1., 1., 1.]])"
      ]
     },
     "execution_count": 24,
     "metadata": {},
     "output_type": "execute_result"
    }
   ],
   "source": [
    "t1.view(-1, 24)"
   ]
  },
  {
   "cell_type": "markdown",
   "metadata": {},
   "source": [
    "## squeeze(): 차원의 원소가 1인 차원을 없앰"
   ]
  },
  {
   "cell_type": "code",
   "execution_count": 25,
   "metadata": {
    "ExecuteTime": {
     "end_time": "2019-10-03T13:43:58.942732Z",
     "start_time": "2019-10-03T13:43:58.936754Z"
    }
   },
   "outputs": [],
   "source": [
    "t2 = torch.rand(1, 3, 3)"
   ]
  },
  {
   "cell_type": "code",
   "execution_count": 26,
   "metadata": {
    "ExecuteTime": {
     "end_time": "2019-10-03T13:43:58.954692Z",
     "start_time": "2019-10-03T13:43:58.944708Z"
    }
   },
   "outputs": [
    {
     "name": "stdout",
     "output_type": "stream",
     "text": [
      "tensor([[[0.4682, 0.1127, 0.8405],\n",
      "         [0.6597, 0.6338, 0.9878],\n",
      "         [0.9508, 0.2216, 0.1905]]])\n"
     ]
    }
   ],
   "source": [
    "print(t2)"
   ]
  },
  {
   "cell_type": "code",
   "execution_count": 27,
   "metadata": {
    "ExecuteTime": {
     "end_time": "2019-10-03T13:43:58.968634Z",
     "start_time": "2019-10-03T13:43:58.956667Z"
    }
   },
   "outputs": [
    {
     "name": "stdout",
     "output_type": "stream",
     "text": [
      "torch.Size([1, 3, 3])\n"
     ]
    }
   ],
   "source": [
    "print(t2.shape)"
   ]
  },
  {
   "cell_type": "code",
   "execution_count": 28,
   "metadata": {
    "ExecuteTime": {
     "end_time": "2019-10-03T13:43:58.979604Z",
     "start_time": "2019-10-03T13:43:58.971623Z"
    }
   },
   "outputs": [
    {
     "name": "stdout",
     "output_type": "stream",
     "text": [
      "tensor([[0.4682, 0.1127, 0.8405],\n",
      "        [0.6597, 0.6338, 0.9878],\n",
      "        [0.9508, 0.2216, 0.1905]])\n"
     ]
    }
   ],
   "source": [
    "print(t2.squeeze())"
   ]
  },
  {
   "cell_type": "code",
   "execution_count": 29,
   "metadata": {
    "ExecuteTime": {
     "end_time": "2019-10-03T13:43:58.990605Z",
     "start_time": "2019-10-03T13:43:58.981596Z"
    }
   },
   "outputs": [
    {
     "name": "stdout",
     "output_type": "stream",
     "text": [
      "torch.Size([3, 3])\n"
     ]
    }
   ],
   "source": [
    "print(t2.squeeze().shape)"
   ]
  },
  {
   "cell_type": "code",
   "execution_count": 30,
   "metadata": {
    "ExecuteTime": {
     "end_time": "2019-10-03T13:43:59.001550Z",
     "start_time": "2019-10-03T13:43:58.992566Z"
    }
   },
   "outputs": [],
   "source": [
    "t3 = torch.rand(2, 3, 3)"
   ]
  },
  {
   "cell_type": "code",
   "execution_count": 31,
   "metadata": {
    "ExecuteTime": {
     "end_time": "2019-10-03T13:43:59.018523Z",
     "start_time": "2019-10-03T13:43:59.003550Z"
    }
   },
   "outputs": [
    {
     "name": "stdout",
     "output_type": "stream",
     "text": [
      "tensor([[[0.4883, 0.0931, 0.9906],\n",
      "         [0.8274, 0.0673, 0.6985],\n",
      "         [0.2410, 0.0492, 0.5171]],\n",
      "\n",
      "        [[0.2652, 0.2765, 0.3139],\n",
      "         [0.7652, 0.7258, 0.1572],\n",
      "         [0.5252, 0.2779, 0.3013]]])\n",
      "torch.Size([2, 3, 3])\n"
     ]
    }
   ],
   "source": [
    "print(t3)\n",
    "print(t3.shape)"
   ]
  },
  {
   "cell_type": "code",
   "execution_count": 32,
   "metadata": {
    "ExecuteTime": {
     "end_time": "2019-10-03T13:43:59.031465Z",
     "start_time": "2019-10-03T13:43:59.020495Z"
    }
   },
   "outputs": [
    {
     "name": "stdout",
     "output_type": "stream",
     "text": [
      "tensor([[[0.4883, 0.0931, 0.9906],\n",
      "         [0.8274, 0.0673, 0.6985],\n",
      "         [0.2410, 0.0492, 0.5171]],\n",
      "\n",
      "        [[0.2652, 0.2765, 0.3139],\n",
      "         [0.7652, 0.7258, 0.1572],\n",
      "         [0.5252, 0.2779, 0.3013]]])\n",
      "torch.Size([2, 3, 3])\n"
     ]
    }
   ],
   "source": [
    "print(t3.squeeze())\n",
    "print(t3.squeeze().shape)"
   ]
  },
  {
   "cell_type": "markdown",
   "metadata": {},
   "source": [
    "## unsqueeze(): 인수로 받은 위치에 새로운 차원을 삽입"
   ]
  },
  {
   "cell_type": "code",
   "execution_count": 33,
   "metadata": {
    "ExecuteTime": {
     "end_time": "2019-10-03T13:43:59.039443Z",
     "start_time": "2019-10-03T13:43:59.034456Z"
    }
   },
   "outputs": [],
   "source": [
    "t4 = torch.rand(3, 4)"
   ]
  },
  {
   "cell_type": "code",
   "execution_count": 34,
   "metadata": {
    "ExecuteTime": {
     "end_time": "2019-10-03T13:43:59.054403Z",
     "start_time": "2019-10-03T13:43:59.041438Z"
    }
   },
   "outputs": [
    {
     "name": "stdout",
     "output_type": "stream",
     "text": [
      "tensor([[0.0075, 0.8050, 0.2467, 0.7992],\n",
      "        [0.5335, 0.3364, 0.1832, 0.9837],\n",
      "        [0.2206, 0.0664, 0.9104, 0.7102]])\n",
      "torch.Size([3, 4])\n"
     ]
    }
   ],
   "source": [
    "print(t4)\n",
    "print(t4.shape)"
   ]
  },
  {
   "cell_type": "code",
   "execution_count": 35,
   "metadata": {
    "ExecuteTime": {
     "end_time": "2019-10-03T13:43:59.063384Z",
     "start_time": "2019-10-03T13:43:59.056397Z"
    }
   },
   "outputs": [
    {
     "name": "stdout",
     "output_type": "stream",
     "text": [
      "tensor([[[0.0075, 0.8050, 0.2467, 0.7992]],\n",
      "\n",
      "        [[0.5335, 0.3364, 0.1832, 0.9837]],\n",
      "\n",
      "        [[0.2206, 0.0664, 0.9104, 0.7102]]])\n",
      "torch.Size([3, 1, 4])\n"
     ]
    }
   ],
   "source": [
    "print(t4.unsqueeze(1))\n",
    "print(t4.unsqueeze(1).shape)"
   ]
  },
  {
   "cell_type": "code",
   "execution_count": 36,
   "metadata": {
    "ExecuteTime": {
     "end_time": "2019-10-03T13:43:59.076368Z",
     "start_time": "2019-10-03T13:43:59.065373Z"
    }
   },
   "outputs": [
    {
     "name": "stdout",
     "output_type": "stream",
     "text": [
      "tensor([[[0.0075, 0.8050, 0.2467, 0.7992],\n",
      "         [0.5335, 0.3364, 0.1832, 0.9837],\n",
      "         [0.2206, 0.0664, 0.9104, 0.7102]]])\n",
      "torch.Size([1, 3, 4])\n"
     ]
    }
   ],
   "source": [
    "print(t4.unsqueeze(0))\n",
    "print(t4.unsqueeze(0).shape)"
   ]
  },
  {
   "cell_type": "code",
   "execution_count": 37,
   "metadata": {
    "ExecuteTime": {
     "end_time": "2019-10-03T13:43:59.087343Z",
     "start_time": "2019-10-03T13:43:59.078339Z"
    }
   },
   "outputs": [
    {
     "name": "stdout",
     "output_type": "stream",
     "text": [
      "tensor([[[0.0075],\n",
      "         [0.8050],\n",
      "         [0.2467],\n",
      "         [0.7992]],\n",
      "\n",
      "        [[0.5335],\n",
      "         [0.3364],\n",
      "         [0.1832],\n",
      "         [0.9837]],\n",
      "\n",
      "        [[0.2206],\n",
      "         [0.0664],\n",
      "         [0.9104],\n",
      "         [0.7102]]])\n",
      "torch.Size([3, 4, 1])\n"
     ]
    }
   ],
   "source": [
    "print(t4.unsqueeze(2))\n",
    "print(t4.unsqueeze(2).shape)"
   ]
  },
  {
   "cell_type": "markdown",
   "metadata": {},
   "source": [
    "# 텐서 결합 및 분할"
   ]
  },
  {
   "cell_type": "markdown",
   "metadata": {},
   "source": [
    "## cat(): 복수의 텐서를 결합"
   ]
  },
  {
   "cell_type": "code",
   "execution_count": 38,
   "metadata": {
    "ExecuteTime": {
     "end_time": "2019-10-03T13:43:59.095320Z",
     "start_time": "2019-10-03T13:43:59.090306Z"
    }
   },
   "outputs": [],
   "source": [
    "t5 = torch.rand(2, 3)"
   ]
  },
  {
   "cell_type": "code",
   "execution_count": 39,
   "metadata": {
    "ExecuteTime": {
     "end_time": "2019-10-03T13:43:59.112248Z",
     "start_time": "2019-10-03T13:43:59.097311Z"
    }
   },
   "outputs": [
    {
     "name": "stdout",
     "output_type": "stream",
     "text": [
      "tensor([[0.5552, 0.5109, 0.9912],\n",
      "        [0.2504, 0.0122, 0.2838]])\n",
      "torch.Size([2, 3])\n"
     ]
    }
   ],
   "source": [
    "print(t5)\n",
    "print(t5.shape)"
   ]
  },
  {
   "cell_type": "code",
   "execution_count": 40,
   "metadata": {
    "ExecuteTime": {
     "end_time": "2019-10-03T13:43:59.123217Z",
     "start_time": "2019-10-03T13:43:59.115241Z"
    }
   },
   "outputs": [
    {
     "data": {
      "text/plain": [
       "tensor([[0.5552, 0.5109, 0.9912],\n",
       "        [0.2504, 0.0122, 0.2838],\n",
       "        [0.5552, 0.5109, 0.9912],\n",
       "        [0.2504, 0.0122, 0.2838],\n",
       "        [0.5552, 0.5109, 0.9912],\n",
       "        [0.2504, 0.0122, 0.2838]])"
      ]
     },
     "execution_count": 40,
     "metadata": {},
     "output_type": "execute_result"
    }
   ],
   "source": [
    "torch.cat([t5, t5, t5], dim=0)"
   ]
  },
  {
   "cell_type": "code",
   "execution_count": 41,
   "metadata": {
    "ExecuteTime": {
     "end_time": "2019-10-03T13:43:59.132218Z",
     "start_time": "2019-10-03T13:43:59.126241Z"
    }
   },
   "outputs": [
    {
     "data": {
      "text/plain": [
       "torch.Size([6, 3])"
      ]
     },
     "execution_count": 41,
     "metadata": {},
     "output_type": "execute_result"
    }
   ],
   "source": [
    "torch.cat([t5, t5, t5], dim=0).shape"
   ]
  },
  {
   "cell_type": "code",
   "execution_count": 42,
   "metadata": {
    "ExecuteTime": {
     "end_time": "2019-10-03T13:43:59.145159Z",
     "start_time": "2019-10-03T13:43:59.134189Z"
    }
   },
   "outputs": [
    {
     "data": {
      "text/plain": [
       "tensor([[0.5552, 0.5109, 0.9912, 0.5552, 0.5109, 0.9912, 0.5552, 0.5109, 0.9912],\n",
       "        [0.2504, 0.0122, 0.2838, 0.2504, 0.0122, 0.2838, 0.2504, 0.0122, 0.2838]])"
      ]
     },
     "execution_count": 42,
     "metadata": {},
     "output_type": "execute_result"
    }
   ],
   "source": [
    "torch.cat([t5, t5, t5], dim=1)"
   ]
  },
  {
   "cell_type": "code",
   "execution_count": 43,
   "metadata": {
    "ExecuteTime": {
     "end_time": "2019-10-03T13:43:59.155133Z",
     "start_time": "2019-10-03T13:43:59.147154Z"
    },
    "scrolled": true
   },
   "outputs": [
    {
     "data": {
      "text/plain": [
       "torch.Size([2, 9])"
      ]
     },
     "execution_count": 43,
     "metadata": {},
     "output_type": "execute_result"
    }
   ],
   "source": [
    "torch.cat([t5, t5, t5], dim=1).shape"
   ]
  },
  {
   "cell_type": "code",
   "execution_count": 44,
   "metadata": {
    "ExecuteTime": {
     "end_time": "2019-10-03T13:43:59.164109Z",
     "start_time": "2019-10-03T13:43:59.158125Z"
    }
   },
   "outputs": [],
   "source": [
    "t6 = torch.rand(4, 2)"
   ]
  },
  {
   "cell_type": "code",
   "execution_count": 45,
   "metadata": {
    "ExecuteTime": {
     "end_time": "2019-10-03T13:43:59.176101Z",
     "start_time": "2019-10-03T13:43:59.166102Z"
    }
   },
   "outputs": [
    {
     "data": {
      "text/plain": [
       "tensor([[0.2658, 0.6000],\n",
       "        [0.4092, 0.5284],\n",
       "        [0.9357, 0.5590],\n",
       "        [0.8880, 0.9743],\n",
       "        [0.2658, 0.6000],\n",
       "        [0.4092, 0.5284],\n",
       "        [0.9357, 0.5590],\n",
       "        [0.8880, 0.9743],\n",
       "        [0.2658, 0.6000],\n",
       "        [0.4092, 0.5284],\n",
       "        [0.9357, 0.5590],\n",
       "        [0.8880, 0.9743],\n",
       "        [0.2658, 0.6000],\n",
       "        [0.4092, 0.5284],\n",
       "        [0.9357, 0.5590],\n",
       "        [0.8880, 0.9743]])"
      ]
     },
     "execution_count": 45,
     "metadata": {},
     "output_type": "execute_result"
    }
   ],
   "source": [
    "torch.cat([t6, t6, t6, t6], dim=0)"
   ]
  },
  {
   "cell_type": "code",
   "execution_count": 46,
   "metadata": {
    "ExecuteTime": {
     "end_time": "2019-10-03T13:43:59.186086Z",
     "start_time": "2019-10-03T13:43:59.178071Z"
    }
   },
   "outputs": [
    {
     "data": {
      "text/plain": [
       "torch.Size([16, 2])"
      ]
     },
     "execution_count": 46,
     "metadata": {},
     "output_type": "execute_result"
    }
   ],
   "source": [
    "torch.cat([t6, t6, t6, t6], dim=0).shape"
   ]
  },
  {
   "cell_type": "code",
   "execution_count": 47,
   "metadata": {
    "ExecuteTime": {
     "end_time": "2019-10-03T13:43:59.197057Z",
     "start_time": "2019-10-03T13:43:59.188045Z"
    }
   },
   "outputs": [
    {
     "data": {
      "text/plain": [
       "tensor([[0.2658, 0.6000, 0.2658, 0.6000, 0.2658, 0.6000, 0.2658, 0.6000],\n",
       "        [0.4092, 0.5284, 0.4092, 0.5284, 0.4092, 0.5284, 0.4092, 0.5284],\n",
       "        [0.9357, 0.5590, 0.9357, 0.5590, 0.9357, 0.5590, 0.9357, 0.5590],\n",
       "        [0.8880, 0.9743, 0.8880, 0.9743, 0.8880, 0.9743, 0.8880, 0.9743]])"
      ]
     },
     "execution_count": 47,
     "metadata": {},
     "output_type": "execute_result"
    }
   ],
   "source": [
    "torch.cat([t6, t6, t6, t6], dim=1)"
   ]
  },
  {
   "cell_type": "code",
   "execution_count": 48,
   "metadata": {
    "ExecuteTime": {
     "end_time": "2019-10-03T13:43:59.207993Z",
     "start_time": "2019-10-03T13:43:59.199015Z"
    }
   },
   "outputs": [
    {
     "data": {
      "text/plain": [
       "torch.Size([4, 8])"
      ]
     },
     "execution_count": 48,
     "metadata": {},
     "output_type": "execute_result"
    }
   ],
   "source": [
    "torch.cat([t6, t6, t6, t6], dim=1).shape"
   ]
  },
  {
   "cell_type": "markdown",
   "metadata": {},
   "source": [
    "## chunk()와 split()으로 텐서 분할"
   ]
  },
  {
   "cell_type": "code",
   "execution_count": 49,
   "metadata": {
    "ExecuteTime": {
     "end_time": "2019-10-03T13:43:59.216968Z",
     "start_time": "2019-10-03T13:43:59.209988Z"
    }
   },
   "outputs": [],
   "source": [
    "t7 = torch.rand(3, 6)"
   ]
  },
  {
   "cell_type": "code",
   "execution_count": 50,
   "metadata": {
    "ExecuteTime": {
     "end_time": "2019-10-03T13:43:59.230930Z",
     "start_time": "2019-10-03T13:43:59.218963Z"
    }
   },
   "outputs": [
    {
     "name": "stdout",
     "output_type": "stream",
     "text": [
      "tensor([[0.0526, 0.8381, 0.0159, 0.7079, 0.8470, 0.9542],\n",
      "        [0.8943, 0.0811, 0.7221, 0.5396, 0.6060, 0.2614],\n",
      "        [0.9027, 0.5344, 0.5183, 0.9555, 0.5042, 0.4416]])\n",
      "torch.Size([3, 6])\n"
     ]
    }
   ],
   "source": [
    "print(t7)\n",
    "print(t7.shape)"
   ]
  },
  {
   "cell_type": "code",
   "execution_count": 51,
   "metadata": {
    "ExecuteTime": {
     "end_time": "2019-10-03T13:43:59.256890Z",
     "start_time": "2019-10-03T13:43:59.232924Z"
    }
   },
   "outputs": [
    {
     "name": "stdout",
     "output_type": "stream",
     "text": [
      "tensor([[0.0526, 0.8381],\n",
      "        [0.8943, 0.0811],\n",
      "        [0.9027, 0.5344]])\n",
      "torch.Size([3, 2])\n",
      "tensor([[0.0159, 0.7079],\n",
      "        [0.7221, 0.5396],\n",
      "        [0.5183, 0.9555]])\n",
      "torch.Size([3, 2])\n",
      "tensor([[0.8470, 0.9542],\n",
      "        [0.6060, 0.2614],\n",
      "        [0.5042, 0.4416]])\n",
      "torch.Size([3, 2])\n"
     ]
    }
   ],
   "source": [
    "c1, c2, c3 = torch.chunk(t7, 3, dim=1)\n",
    "print(c1)\n",
    "print(c1.shape)\n",
    "print(c2)\n",
    "print(c2.shape)\n",
    "print(c3)\n",
    "print(c3.shape)"
   ]
  },
  {
   "cell_type": "code",
   "execution_count": 52,
   "metadata": {
    "ExecuteTime": {
     "end_time": "2019-10-03T13:43:59.278831Z",
     "start_time": "2019-10-03T13:43:59.258857Z"
    }
   },
   "outputs": [
    {
     "name": "stdout",
     "output_type": "stream",
     "text": [
      "tensor([[0.0526, 0.8381, 0.0159, 0.7079, 0.8470, 0.9542]])\n",
      "torch.Size([1, 6])\n",
      "tensor([[0.8943, 0.0811, 0.7221, 0.5396, 0.6060, 0.2614]])\n",
      "torch.Size([1, 6])\n",
      "tensor([[0.9027, 0.5344, 0.5183, 0.9555, 0.5042, 0.4416]])\n",
      "torch.Size([1, 6])\n"
     ]
    }
   ],
   "source": [
    "c1, c2, c3 = torch.chunk(t7, 3, dim=0)\n",
    "print(c1)\n",
    "print(c1.shape)\n",
    "print(c2)\n",
    "print(c2.shape)\n",
    "print(c3)\n",
    "print(c3.shape)"
   ]
  },
  {
   "cell_type": "code",
   "execution_count": 53,
   "metadata": {
    "ExecuteTime": {
     "end_time": "2019-10-03T13:43:59.285807Z",
     "start_time": "2019-10-03T13:43:59.280797Z"
    }
   },
   "outputs": [],
   "source": [
    "t8 = torch.rand(9, 12)"
   ]
  },
  {
   "cell_type": "code",
   "execution_count": 54,
   "metadata": {
    "ExecuteTime": {
     "end_time": "2019-10-03T13:43:59.302737Z",
     "start_time": "2019-10-03T13:43:59.287776Z"
    }
   },
   "outputs": [
    {
     "name": "stdout",
     "output_type": "stream",
     "text": [
      "tensor([[0.8813, 0.8692, 0.7901, 0.2811, 0.0168, 0.0849, 0.9700, 0.1357, 0.8262,\n",
      "         0.5405, 0.8853, 0.2206],\n",
      "        [0.0548, 0.6575, 0.5224, 0.4822, 0.2125, 0.0982, 0.5424, 0.3809, 0.7159,\n",
      "         0.8768, 0.4504, 0.9379],\n",
      "        [0.3735, 0.0572, 0.3086, 0.3934, 0.3156, 0.0628, 0.7094, 0.3895, 0.7182,\n",
      "         0.4330, 0.2869, 0.9780],\n",
      "        [0.6262, 0.5462, 0.9455, 0.3730, 0.8053, 0.2516, 0.9749, 0.0143, 0.8179,\n",
      "         0.8095, 0.4591, 0.3319],\n",
      "        [0.1069, 0.9884, 0.9160, 0.4542, 0.5296, 0.2106, 0.3951, 0.2395, 0.5017,\n",
      "         0.6107, 0.4212, 0.6845],\n",
      "        [0.6577, 0.8427, 0.3437, 0.4367, 0.2080, 0.3873, 0.6596, 0.6428, 0.2187,\n",
      "         0.2791, 0.5571, 0.7860],\n",
      "        [0.5037, 0.6498, 0.2656, 0.4741, 0.3327, 0.6959, 0.5369, 0.5400, 0.9049,\n",
      "         0.9365, 0.3948, 0.2043],\n",
      "        [0.6135, 0.6849, 0.2634, 0.9022, 0.4883, 0.2582, 0.4165, 0.2973, 0.7522,\n",
      "         0.6948, 0.2141, 0.1159],\n",
      "        [0.0405, 0.7945, 0.2345, 0.0176, 0.6931, 0.9045, 0.6501, 0.9742, 0.3881,\n",
      "         0.2344, 0.9436, 0.5027]])\n",
      "torch.Size([9, 12])\n"
     ]
    }
   ],
   "source": [
    "print(t8)\n",
    "print(t8.shape)"
   ]
  },
  {
   "cell_type": "code",
   "execution_count": 55,
   "metadata": {
    "ExecuteTime": {
     "end_time": "2019-10-03T13:43:59.324680Z",
     "start_time": "2019-10-03T13:43:59.304732Z"
    }
   },
   "outputs": [
    {
     "name": "stdout",
     "output_type": "stream",
     "text": [
      "tensor([[0.8813, 0.8692, 0.7901, 0.2811, 0.0168, 0.0849, 0.9700, 0.1357, 0.8262,\n",
      "         0.5405, 0.8853, 0.2206],\n",
      "        [0.0548, 0.6575, 0.5224, 0.4822, 0.2125, 0.0982, 0.5424, 0.3809, 0.7159,\n",
      "         0.8768, 0.4504, 0.9379],\n",
      "        [0.3735, 0.0572, 0.3086, 0.3934, 0.3156, 0.0628, 0.7094, 0.3895, 0.7182,\n",
      "         0.4330, 0.2869, 0.9780]])\n",
      "torch.Size([3, 12])\n",
      "tensor([[0.6262, 0.5462, 0.9455, 0.3730, 0.8053, 0.2516, 0.9749, 0.0143, 0.8179,\n",
      "         0.8095, 0.4591, 0.3319],\n",
      "        [0.1069, 0.9884, 0.9160, 0.4542, 0.5296, 0.2106, 0.3951, 0.2395, 0.5017,\n",
      "         0.6107, 0.4212, 0.6845],\n",
      "        [0.6577, 0.8427, 0.3437, 0.4367, 0.2080, 0.3873, 0.6596, 0.6428, 0.2187,\n",
      "         0.2791, 0.5571, 0.7860]])\n",
      "torch.Size([3, 12])\n",
      "tensor([[0.5037, 0.6498, 0.2656, 0.4741, 0.3327, 0.6959, 0.5369, 0.5400, 0.9049,\n",
      "         0.9365, 0.3948, 0.2043],\n",
      "        [0.6135, 0.6849, 0.2634, 0.9022, 0.4883, 0.2582, 0.4165, 0.2973, 0.7522,\n",
      "         0.6948, 0.2141, 0.1159],\n",
      "        [0.0405, 0.7945, 0.2345, 0.0176, 0.6931, 0.9045, 0.6501, 0.9742, 0.3881,\n",
      "         0.2344, 0.9436, 0.5027]])\n",
      "torch.Size([3, 12])\n"
     ]
    }
   ],
   "source": [
    "c1, c2, c3 = torch.chunk(t8, 3, dim=0)\n",
    "print(c1)\n",
    "print(c1.shape)\n",
    "print(c2)\n",
    "print(c2.shape)\n",
    "print(c3)\n",
    "print(c3.shape)"
   ]
  },
  {
   "cell_type": "code",
   "execution_count": 56,
   "metadata": {
    "ExecuteTime": {
     "end_time": "2019-10-03T13:43:59.347618Z",
     "start_time": "2019-10-03T13:43:59.326673Z"
    }
   },
   "outputs": [
    {
     "name": "stdout",
     "output_type": "stream",
     "text": [
      "tensor([[0.8813, 0.8692, 0.7901, 0.2811],\n",
      "        [0.0548, 0.6575, 0.5224, 0.4822],\n",
      "        [0.3735, 0.0572, 0.3086, 0.3934],\n",
      "        [0.6262, 0.5462, 0.9455, 0.3730],\n",
      "        [0.1069, 0.9884, 0.9160, 0.4542],\n",
      "        [0.6577, 0.8427, 0.3437, 0.4367],\n",
      "        [0.5037, 0.6498, 0.2656, 0.4741],\n",
      "        [0.6135, 0.6849, 0.2634, 0.9022],\n",
      "        [0.0405, 0.7945, 0.2345, 0.0176]])\n",
      "torch.Size([9, 4])\n",
      "tensor([[0.0168, 0.0849, 0.9700, 0.1357],\n",
      "        [0.2125, 0.0982, 0.5424, 0.3809],\n",
      "        [0.3156, 0.0628, 0.7094, 0.3895],\n",
      "        [0.8053, 0.2516, 0.9749, 0.0143],\n",
      "        [0.5296, 0.2106, 0.3951, 0.2395],\n",
      "        [0.2080, 0.3873, 0.6596, 0.6428],\n",
      "        [0.3327, 0.6959, 0.5369, 0.5400],\n",
      "        [0.4883, 0.2582, 0.4165, 0.2973],\n",
      "        [0.6931, 0.9045, 0.6501, 0.9742]])\n",
      "torch.Size([9, 4])\n",
      "tensor([[0.8262, 0.5405, 0.8853, 0.2206],\n",
      "        [0.7159, 0.8768, 0.4504, 0.9379],\n",
      "        [0.7182, 0.4330, 0.2869, 0.9780],\n",
      "        [0.8179, 0.8095, 0.4591, 0.3319],\n",
      "        [0.5017, 0.6107, 0.4212, 0.6845],\n",
      "        [0.2187, 0.2791, 0.5571, 0.7860],\n",
      "        [0.9049, 0.9365, 0.3948, 0.2043],\n",
      "        [0.7522, 0.6948, 0.2141, 0.1159],\n",
      "        [0.3881, 0.2344, 0.9436, 0.5027]])\n",
      "torch.Size([9, 4])\n"
     ]
    }
   ],
   "source": [
    "c1, c2, c3 = torch.chunk(t8, 3, dim=1)\n",
    "print(c1)\n",
    "print(c1.shape)\n",
    "print(c2)\n",
    "print(c2.shape)\n",
    "print(c3)\n",
    "print(c3.shape)"
   ]
  },
  {
   "cell_type": "code",
   "execution_count": 57,
   "metadata": {
    "ExecuteTime": {
     "end_time": "2019-10-03T13:43:59.370592Z",
     "start_time": "2019-10-03T13:43:59.349613Z"
    }
   },
   "outputs": [
    {
     "name": "stdout",
     "output_type": "stream",
     "text": [
      "tensor([[0.8813, 0.8692, 0.7901, 0.2811, 0.0168, 0.0849, 0.9700, 0.1357, 0.8262,\n",
      "         0.5405, 0.8853, 0.2206],\n",
      "        [0.0548, 0.6575, 0.5224, 0.4822, 0.2125, 0.0982, 0.5424, 0.3809, 0.7159,\n",
      "         0.8768, 0.4504, 0.9379],\n",
      "        [0.3735, 0.0572, 0.3086, 0.3934, 0.3156, 0.0628, 0.7094, 0.3895, 0.7182,\n",
      "         0.4330, 0.2869, 0.9780],\n",
      "        [0.6262, 0.5462, 0.9455, 0.3730, 0.8053, 0.2516, 0.9749, 0.0143, 0.8179,\n",
      "         0.8095, 0.4591, 0.3319]])\n",
      "torch.Size([4, 12])\n",
      "tensor([[0.1069, 0.9884, 0.9160, 0.4542, 0.5296, 0.2106, 0.3951, 0.2395, 0.5017,\n",
      "         0.6107, 0.4212, 0.6845],\n",
      "        [0.6577, 0.8427, 0.3437, 0.4367, 0.2080, 0.3873, 0.6596, 0.6428, 0.2187,\n",
      "         0.2791, 0.5571, 0.7860],\n",
      "        [0.5037, 0.6498, 0.2656, 0.4741, 0.3327, 0.6959, 0.5369, 0.5400, 0.9049,\n",
      "         0.9365, 0.3948, 0.2043],\n",
      "        [0.6135, 0.6849, 0.2634, 0.9022, 0.4883, 0.2582, 0.4165, 0.2973, 0.7522,\n",
      "         0.6948, 0.2141, 0.1159]])\n",
      "torch.Size([4, 12])\n",
      "tensor([[0.0405, 0.7945, 0.2345, 0.0176, 0.6931, 0.9045, 0.6501, 0.9742, 0.3881,\n",
      "         0.2344, 0.9436, 0.5027]])\n",
      "torch.Size([1, 12])\n"
     ]
    }
   ],
   "source": [
    "c1, c2, c3 = torch.split(t8, 4, dim=0)\n",
    "print(c1)\n",
    "print(c1.shape)\n",
    "print(c2)\n",
    "print(c2.shape)\n",
    "print(c3)\n",
    "print(c3.shape)"
   ]
  },
  {
   "cell_type": "code",
   "execution_count": 58,
   "metadata": {
    "ExecuteTime": {
     "end_time": "2019-10-03T13:43:59.394492Z",
     "start_time": "2019-10-03T13:43:59.372550Z"
    }
   },
   "outputs": [
    {
     "name": "stdout",
     "output_type": "stream",
     "text": [
      "tensor([[0.8813, 0.8692, 0.7901, 0.2811],\n",
      "        [0.0548, 0.6575, 0.5224, 0.4822],\n",
      "        [0.3735, 0.0572, 0.3086, 0.3934],\n",
      "        [0.6262, 0.5462, 0.9455, 0.3730],\n",
      "        [0.1069, 0.9884, 0.9160, 0.4542],\n",
      "        [0.6577, 0.8427, 0.3437, 0.4367],\n",
      "        [0.5037, 0.6498, 0.2656, 0.4741],\n",
      "        [0.6135, 0.6849, 0.2634, 0.9022],\n",
      "        [0.0405, 0.7945, 0.2345, 0.0176]])\n",
      "torch.Size([9, 4])\n",
      "tensor([[0.0168, 0.0849, 0.9700, 0.1357],\n",
      "        [0.2125, 0.0982, 0.5424, 0.3809],\n",
      "        [0.3156, 0.0628, 0.7094, 0.3895],\n",
      "        [0.8053, 0.2516, 0.9749, 0.0143],\n",
      "        [0.5296, 0.2106, 0.3951, 0.2395],\n",
      "        [0.2080, 0.3873, 0.6596, 0.6428],\n",
      "        [0.3327, 0.6959, 0.5369, 0.5400],\n",
      "        [0.4883, 0.2582, 0.4165, 0.2973],\n",
      "        [0.6931, 0.9045, 0.6501, 0.9742]])\n",
      "torch.Size([9, 4])\n",
      "tensor([[0.8262, 0.5405, 0.8853, 0.2206],\n",
      "        [0.7159, 0.8768, 0.4504, 0.9379],\n",
      "        [0.7182, 0.4330, 0.2869, 0.9780],\n",
      "        [0.8179, 0.8095, 0.4591, 0.3319],\n",
      "        [0.5017, 0.6107, 0.4212, 0.6845],\n",
      "        [0.2187, 0.2791, 0.5571, 0.7860],\n",
      "        [0.9049, 0.9365, 0.3948, 0.2043],\n",
      "        [0.7522, 0.6948, 0.2141, 0.1159],\n",
      "        [0.3881, 0.2344, 0.9436, 0.5027]])\n",
      "torch.Size([9, 4])\n"
     ]
    }
   ],
   "source": [
    "c1, c2, c3 = torch.split(t8, 4, dim=1)\n",
    "print(c1)\n",
    "print(c1.shape)\n",
    "print(c2)\n",
    "print(c2.shape)\n",
    "print(c3)\n",
    "print(c3.shape)"
   ]
  },
  {
   "cell_type": "code",
   "execution_count": 59,
   "metadata": {
    "ExecuteTime": {
     "end_time": "2019-10-03T13:43:59.419425Z",
     "start_time": "2019-10-03T13:43:59.396487Z"
    }
   },
   "outputs": [
    {
     "name": "stdout",
     "output_type": "stream",
     "text": [
      "tensor([[0.8813, 0.8692, 0.7901, 0.2811, 0.0168],\n",
      "        [0.0548, 0.6575, 0.5224, 0.4822, 0.2125],\n",
      "        [0.3735, 0.0572, 0.3086, 0.3934, 0.3156],\n",
      "        [0.6262, 0.5462, 0.9455, 0.3730, 0.8053],\n",
      "        [0.1069, 0.9884, 0.9160, 0.4542, 0.5296],\n",
      "        [0.6577, 0.8427, 0.3437, 0.4367, 0.2080],\n",
      "        [0.5037, 0.6498, 0.2656, 0.4741, 0.3327],\n",
      "        [0.6135, 0.6849, 0.2634, 0.9022, 0.4883],\n",
      "        [0.0405, 0.7945, 0.2345, 0.0176, 0.6931]])\n",
      "torch.Size([9, 5])\n",
      "tensor([[0.0849, 0.9700, 0.1357, 0.8262, 0.5405],\n",
      "        [0.0982, 0.5424, 0.3809, 0.7159, 0.8768],\n",
      "        [0.0628, 0.7094, 0.3895, 0.7182, 0.4330],\n",
      "        [0.2516, 0.9749, 0.0143, 0.8179, 0.8095],\n",
      "        [0.2106, 0.3951, 0.2395, 0.5017, 0.6107],\n",
      "        [0.3873, 0.6596, 0.6428, 0.2187, 0.2791],\n",
      "        [0.6959, 0.5369, 0.5400, 0.9049, 0.9365],\n",
      "        [0.2582, 0.4165, 0.2973, 0.7522, 0.6948],\n",
      "        [0.9045, 0.6501, 0.9742, 0.3881, 0.2344]])\n",
      "torch.Size([9, 5])\n",
      "tensor([[0.8853, 0.2206],\n",
      "        [0.4504, 0.9379],\n",
      "        [0.2869, 0.9780],\n",
      "        [0.4591, 0.3319],\n",
      "        [0.4212, 0.6845],\n",
      "        [0.5571, 0.7860],\n",
      "        [0.3948, 0.2043],\n",
      "        [0.2141, 0.1159],\n",
      "        [0.9436, 0.5027]])\n",
      "torch.Size([9, 2])\n"
     ]
    }
   ],
   "source": [
    "c1, c2, c3 = torch.split(t8, 5, dim=1)\n",
    "print(c1)\n",
    "print(c1.shape)\n",
    "print(c2)\n",
    "print(c2.shape)\n",
    "print(c3)\n",
    "print(c3.shape)"
   ]
  },
  {
   "cell_type": "markdown",
   "metadata": {},
   "source": [
    "# 텐서 값 가져오기"
   ]
  },
  {
   "cell_type": "markdown",
   "metadata": {},
   "source": [
    "## item(): 1개의 원소를 가진 텐서를 python scalar 값으로 만듦"
   ]
  },
  {
   "cell_type": "code",
   "execution_count": 60,
   "metadata": {
    "ExecuteTime": {
     "end_time": "2019-10-03T13:43:59.435384Z",
     "start_time": "2019-10-03T13:43:59.421420Z"
    }
   },
   "outputs": [],
   "source": [
    "t9 = torch.tensor(1)"
   ]
  },
  {
   "cell_type": "code",
   "execution_count": 61,
   "metadata": {
    "ExecuteTime": {
     "end_time": "2019-10-03T13:43:59.448348Z",
     "start_time": "2019-10-03T13:43:59.438375Z"
    }
   },
   "outputs": [
    {
     "name": "stdout",
     "output_type": "stream",
     "text": [
      "tensor(1)\n"
     ]
    }
   ],
   "source": [
    "print(t9)"
   ]
  },
  {
   "cell_type": "code",
   "execution_count": 62,
   "metadata": {
    "ExecuteTime": {
     "end_time": "2019-10-03T13:43:59.458322Z",
     "start_time": "2019-10-03T13:43:59.451340Z"
    }
   },
   "outputs": [
    {
     "name": "stdout",
     "output_type": "stream",
     "text": [
      "1\n"
     ]
    }
   ],
   "source": [
    "print(t9.item())"
   ]
  },
  {
   "cell_type": "markdown",
   "metadata": {},
   "source": [
    "# GPU사용"
   ]
  },
  {
   "cell_type": "code",
   "execution_count": 63,
   "metadata": {
    "ExecuteTime": {
     "end_time": "2019-10-03T13:43:59.467296Z",
     "start_time": "2019-10-03T13:43:59.461313Z"
    }
   },
   "outputs": [],
   "source": [
    "device = torch.device(\"cuda:0\")"
   ]
  },
  {
   "cell_type": "code",
   "execution_count": 64,
   "metadata": {
    "ExecuteTime": {
     "end_time": "2019-10-03T13:43:59.480262Z",
     "start_time": "2019-10-03T13:43:59.469292Z"
    }
   },
   "outputs": [
    {
     "data": {
      "text/plain": [
       "device(type='cuda', index=0)"
      ]
     },
     "execution_count": 64,
     "metadata": {},
     "output_type": "execute_result"
    }
   ],
   "source": [
    "device"
   ]
  },
  {
   "cell_type": "code",
   "execution_count": 65,
   "metadata": {
    "ExecuteTime": {
     "end_time": "2019-10-03T13:44:02.274826Z",
     "start_time": "2019-10-03T13:43:59.482257Z"
    }
   },
   "outputs": [],
   "source": [
    "t1 = torch.rand(3,3, device=device)"
   ]
  },
  {
   "cell_type": "code",
   "execution_count": 66,
   "metadata": {
    "ExecuteTime": {
     "end_time": "2019-10-03T13:44:02.289753Z",
     "start_time": "2019-10-03T13:44:02.276778Z"
    }
   },
   "outputs": [
    {
     "name": "stdout",
     "output_type": "stream",
     "text": [
      "tensor([[0.5658, 0.5156, 0.3690],\n",
      "        [0.9915, 0.5002, 0.8934],\n",
      "        [0.8736, 0.2236, 0.2068]], device='cuda:0')\n"
     ]
    }
   ],
   "source": [
    "print(t1)"
   ]
  },
  {
   "cell_type": "code",
   "execution_count": 67,
   "metadata": {
    "ExecuteTime": {
     "end_time": "2019-10-03T13:44:02.296760Z",
     "start_time": "2019-10-03T13:44:02.291739Z"
    }
   },
   "outputs": [],
   "source": [
    "t2 = torch.rand(3,3)"
   ]
  },
  {
   "cell_type": "code",
   "execution_count": 68,
   "metadata": {
    "ExecuteTime": {
     "end_time": "2019-10-03T13:44:02.318711Z",
     "start_time": "2019-10-03T13:44:02.308692Z"
    }
   },
   "outputs": [
    {
     "name": "stdout",
     "output_type": "stream",
     "text": [
      "tensor([[0.3127, 0.7069, 0.0057],\n",
      "        [0.3268, 0.0381, 0.3807],\n",
      "        [0.7559, 0.9789, 0.2212]], device='cuda:0')\n"
     ]
    }
   ],
   "source": [
    "print(t2.cuda())"
   ]
  },
  {
   "cell_type": "code",
   "execution_count": 69,
   "metadata": {
    "ExecuteTime": {
     "end_time": "2019-10-03T13:44:02.339631Z",
     "start_time": "2019-10-03T13:44:02.324652Z"
    }
   },
   "outputs": [
    {
     "name": "stdout",
     "output_type": "stream",
     "text": [
      "tensor([[0.3127, 0.7069, 0.0057],\n",
      "        [0.3268, 0.0381, 0.3807],\n",
      "        [0.7559, 0.9789, 0.2212]], device='cuda:0')\n"
     ]
    }
   ],
   "source": [
    "print(t2.to(device))"
   ]
  },
  {
   "cell_type": "markdown",
   "metadata": {},
   "source": [
    "# autograd"
   ]
  },
  {
   "cell_type": "code",
   "execution_count": 70,
   "metadata": {
    "ExecuteTime": {
     "end_time": "2019-10-03T13:44:02.347606Z",
     "start_time": "2019-10-03T13:44:02.343623Z"
    }
   },
   "outputs": [],
   "source": [
    "x = torch.ones(2,2, requires_grad=True)"
   ]
  },
  {
   "cell_type": "code",
   "execution_count": 71,
   "metadata": {
    "ExecuteTime": {
     "end_time": "2019-10-03T13:44:02.363571Z",
     "start_time": "2019-10-03T13:44:02.349583Z"
    }
   },
   "outputs": [
    {
     "name": "stdout",
     "output_type": "stream",
     "text": [
      "tensor([[1., 1.],\n",
      "        [1., 1.]], requires_grad=True)\n"
     ]
    }
   ],
   "source": [
    "print(x)"
   ]
  },
  {
   "cell_type": "code",
   "execution_count": 72,
   "metadata": {
    "ExecuteTime": {
     "end_time": "2019-10-03T13:44:02.372521Z",
     "start_time": "2019-10-03T13:44:02.365540Z"
    }
   },
   "outputs": [],
   "source": [
    "y = 3 * x + 2"
   ]
  },
  {
   "cell_type": "code",
   "execution_count": 73,
   "metadata": {
    "ExecuteTime": {
     "end_time": "2019-10-03T13:44:02.384489Z",
     "start_time": "2019-10-03T13:44:02.374516Z"
    }
   },
   "outputs": [
    {
     "name": "stdout",
     "output_type": "stream",
     "text": [
      "tensor([[5., 5.],\n",
      "        [5., 5.]], grad_fn=<AddBackward0>)\n"
     ]
    }
   ],
   "source": [
    "print(y)"
   ]
  },
  {
   "cell_type": "code",
   "execution_count": 74,
   "metadata": {
    "ExecuteTime": {
     "end_time": "2019-10-03T13:44:02.393465Z",
     "start_time": "2019-10-03T13:44:02.386484Z"
    }
   },
   "outputs": [],
   "source": [
    "z = (y * y).sum()"
   ]
  },
  {
   "cell_type": "code",
   "execution_count": 75,
   "metadata": {
    "ExecuteTime": {
     "end_time": "2019-10-03T13:44:02.407428Z",
     "start_time": "2019-10-03T13:44:02.395466Z"
    }
   },
   "outputs": [
    {
     "name": "stdout",
     "output_type": "stream",
     "text": [
      "tensor(100., grad_fn=<SumBackward0>)\n"
     ]
    }
   ],
   "source": [
    "print(z)"
   ]
  },
  {
   "cell_type": "code",
   "execution_count": 76,
   "metadata": {
    "ExecuteTime": {
     "end_time": "2019-10-03T13:44:02.417401Z",
     "start_time": "2019-10-03T13:44:02.409423Z"
    }
   },
   "outputs": [],
   "source": [
    "z.backward()"
   ]
  },
  {
   "cell_type": "code",
   "execution_count": 77,
   "metadata": {
    "ExecuteTime": {
     "end_time": "2019-10-03T13:44:02.430367Z",
     "start_time": "2019-10-03T13:44:02.420394Z"
    }
   },
   "outputs": [
    {
     "data": {
      "text/plain": [
       "tensor([[30., 30.],\n",
       "        [30., 30.]])"
      ]
     },
     "execution_count": 77,
     "metadata": {},
     "output_type": "execute_result"
    }
   ],
   "source": [
    "x.grad"
   ]
  },
  {
   "cell_type": "code",
   "execution_count": 78,
   "metadata": {
    "ExecuteTime": {
     "end_time": "2019-10-03T13:44:02.440341Z",
     "start_time": "2019-10-03T13:44:02.432362Z"
    }
   },
   "outputs": [],
   "source": [
    "x = torch.ones(2,2, requires_grad=True)\n",
    "y = torch.ones(2,2, requires_grad=True)"
   ]
  },
  {
   "cell_type": "code",
   "execution_count": 79,
   "metadata": {
    "ExecuteTime": {
     "end_time": "2019-10-03T13:44:02.453305Z",
     "start_time": "2019-10-03T13:44:02.442334Z"
    }
   },
   "outputs": [
    {
     "name": "stdout",
     "output_type": "stream",
     "text": [
      "tensor([[1., 1.],\n",
      "        [1., 1.]], requires_grad=True)\n"
     ]
    }
   ],
   "source": [
    "print(x)"
   ]
  },
  {
   "cell_type": "code",
   "execution_count": 80,
   "metadata": {
    "ExecuteTime": {
     "end_time": "2019-10-03T13:44:02.465273Z",
     "start_time": "2019-10-03T13:44:02.456297Z"
    }
   },
   "outputs": [
    {
     "name": "stdout",
     "output_type": "stream",
     "text": [
      "tensor([[1., 1.],\n",
      "        [1., 1.]], requires_grad=True)\n"
     ]
    }
   ],
   "source": [
    "print(y)"
   ]
  },
  {
   "cell_type": "code",
   "execution_count": 81,
   "metadata": {
    "ExecuteTime": {
     "end_time": "2019-10-03T13:44:02.473273Z",
     "start_time": "2019-10-03T13:44:02.467269Z"
    }
   },
   "outputs": [],
   "source": [
    "z = (x * x + 4 * y).sum()"
   ]
  },
  {
   "cell_type": "code",
   "execution_count": 82,
   "metadata": {
    "ExecuteTime": {
     "end_time": "2019-10-03T13:44:02.486218Z",
     "start_time": "2019-10-03T13:44:02.476244Z"
    }
   },
   "outputs": [],
   "source": [
    "z.backward()"
   ]
  },
  {
   "cell_type": "code",
   "execution_count": 83,
   "metadata": {
    "ExecuteTime": {
     "end_time": "2019-10-03T13:44:02.499182Z",
     "start_time": "2019-10-03T13:44:02.489212Z"
    }
   },
   "outputs": [
    {
     "data": {
      "text/plain": [
       "tensor([[2., 2.],\n",
       "        [2., 2.]])"
      ]
     },
     "execution_count": 83,
     "metadata": {},
     "output_type": "execute_result"
    }
   ],
   "source": [
    "x.grad"
   ]
  },
  {
   "cell_type": "code",
   "execution_count": 84,
   "metadata": {
    "ExecuteTime": {
     "end_time": "2019-10-03T13:44:02.510161Z",
     "start_time": "2019-10-03T13:44:02.502175Z"
    }
   },
   "outputs": [
    {
     "data": {
      "text/plain": [
       "tensor([[4., 4.],\n",
       "        [4., 4.]])"
      ]
     },
     "execution_count": 84,
     "metadata": {},
     "output_type": "execute_result"
    }
   ],
   "source": [
    "y.grad"
   ]
  }
 ],
 "metadata": {
  "hide_input": false,
  "kernelspec": {
   "display_name": "Python 3",
   "language": "python",
   "name": "python3"
  },
  "language_info": {
   "codemirror_mode": {
    "name": "ipython",
    "version": 3
   },
   "file_extension": ".py",
   "mimetype": "text/x-python",
   "name": "python",
   "nbconvert_exporter": "python",
   "pygments_lexer": "ipython3",
   "version": "3.6.9"
  },
  "toc": {
   "base_numbering": 1,
   "nav_menu": {},
   "number_sections": true,
   "sideBar": true,
   "skip_h1_title": false,
   "title_cell": "Table of Contents",
   "title_sidebar": "Contents",
   "toc_cell": false,
   "toc_position": {},
   "toc_section_display": true,
   "toc_window_display": false
  },
  "varInspector": {
   "cols": {
    "lenName": 16,
    "lenType": 16,
    "lenVar": 40
   },
   "kernels_config": {
    "python": {
     "delete_cmd_postfix": "",
     "delete_cmd_prefix": "del ",
     "library": "var_list.py",
     "varRefreshCmd": "print(var_dic_list())"
    },
    "r": {
     "delete_cmd_postfix": ") ",
     "delete_cmd_prefix": "rm(",
     "library": "var_list.r",
     "varRefreshCmd": "cat(var_dic_list()) "
    }
   },
   "types_to_exclude": [
    "module",
    "function",
    "builtin_function_or_method",
    "instance",
    "_Feature"
   ],
   "window_display": false
  }
 },
 "nbformat": 4,
 "nbformat_minor": 2
}
