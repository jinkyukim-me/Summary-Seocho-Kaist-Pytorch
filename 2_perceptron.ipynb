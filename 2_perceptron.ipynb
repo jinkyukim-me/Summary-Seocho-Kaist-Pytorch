{
 "cells": [
  {
   "cell_type": "markdown",
   "metadata": {},
   "source": [
    "# 논리회로\n",
    "    * AND\n",
    "    * NAND\n",
    "    * OR\n",
    "    * XOR"
   ]
  },
  {
   "cell_type": "code",
   "execution_count": 1,
   "metadata": {
    "ExecuteTime": {
     "end_time": "2019-10-03T16:04:38.418442Z",
     "start_time": "2019-10-03T16:04:38.414452Z"
    }
   },
   "outputs": [],
   "source": [
    "# 퍼셉트론을 이용한 논리 회로 AND\n",
    "def AND(x1, x2):\n",
    "    w1, w2, theta = 0.5, 0.5, 0.7\n",
    "    tmp = x1 * w1 + x2 * w2\n",
    "    if tmp <= theta:\n",
    "        return 0\n",
    "    elif tmp > theta:\n",
    "        return 1"
   ]
  },
  {
   "cell_type": "code",
   "execution_count": 2,
   "metadata": {
    "ExecuteTime": {
     "end_time": "2019-10-03T16:04:44.739496Z",
     "start_time": "2019-10-03T16:04:44.732508Z"
    }
   },
   "outputs": [
    {
     "name": "stdout",
     "output_type": "stream",
     "text": [
      "AND\n",
      "(0, 0) -> 0\n",
      "(1, 0) -> 0\n",
      "(0, 1) -> 0\n",
      "(1, 1) -> 1\n"
     ]
    }
   ],
   "source": [
    "inputs = [(0,0), (1,0), (0,1), (1,1)]\n",
    "print(\"AND\")\n",
    "for x1, x2 in inputs:\n",
    "    y = AND(x1, x2)\n",
    "    print('({x1}, {x2}) -> {y}'.format(x1=x1, x2=x2, y=y))"
   ]
  },
  {
   "cell_type": "code",
   "execution_count": 3,
   "metadata": {
    "ExecuteTime": {
     "end_time": "2019-10-03T16:04:59.710430Z",
     "start_time": "2019-10-03T16:04:59.706435Z"
    }
   },
   "outputs": [],
   "source": [
    "# 퍼셉트론을 이용한 논리 회로 NAND\n",
    "def NAND(x1, x2):\n",
    "    w1, w2, theta = -0.5, -0.5, -0.7\n",
    "    tmp = x1 * w1 + x2 * w2\n",
    "    if tmp <= theta:\n",
    "        return 0\n",
    "    elif tmp > theta:\n",
    "        return 1"
   ]
  },
  {
   "cell_type": "code",
   "execution_count": 4,
   "metadata": {
    "ExecuteTime": {
     "end_time": "2019-10-03T16:05:05.784328Z",
     "start_time": "2019-10-03T16:05:05.778301Z"
    }
   },
   "outputs": [
    {
     "name": "stdout",
     "output_type": "stream",
     "text": [
      "NAND\n",
      "(0, 0) -> 1\n",
      "(1, 0) -> 1\n",
      "(0, 1) -> 1\n",
      "(1, 1) -> 0\n"
     ]
    }
   ],
   "source": [
    "inputs = [(0,0), (1,0), (0,1), (1,1)]\n",
    "print(\"NAND\")\n",
    "for x1, x2 in inputs:\n",
    "    y = NAND(x1, x2)\n",
    "    print('({x1}, {x2}) -> {y}'.format(x1=x1, x2=x2, y=y))"
   ]
  },
  {
   "cell_type": "code",
   "execution_count": 5,
   "metadata": {
    "ExecuteTime": {
     "end_time": "2019-10-03T16:05:14.268579Z",
     "start_time": "2019-10-03T16:05:14.262594Z"
    }
   },
   "outputs": [],
   "source": [
    "# 퍼셉트론을 이용한 논리 회로 OR\n",
    "def OR(x1, x2):\n",
    "    w1, w2, theta = 0.5, 0.5, 0.2\n",
    "    tmp = x1 * w1 + x2 * w2\n",
    "    if tmp <= theta:\n",
    "        return 0\n",
    "    elif tmp > theta:\n",
    "        return 1"
   ]
  },
  {
   "cell_type": "code",
   "execution_count": 6,
   "metadata": {
    "ExecuteTime": {
     "end_time": "2019-10-03T16:05:19.430802Z",
     "start_time": "2019-10-03T16:05:19.425784Z"
    }
   },
   "outputs": [
    {
     "name": "stdout",
     "output_type": "stream",
     "text": [
      "OR\n",
      "(0, 0) -> 0\n",
      "(1, 0) -> 1\n",
      "(0, 1) -> 1\n",
      "(1, 1) -> 1\n"
     ]
    }
   ],
   "source": [
    "inputs = [(0,0), (1,0), (0,1), (1,1)]\n",
    "print(\"OR\")\n",
    "for x1, x2 in inputs:\n",
    "    y = OR(x1, x2)\n",
    "    print('({x1}, {x2}) -> {y}'.format(x1=x1, x2=x2, y=y))"
   ]
  },
  {
   "cell_type": "code",
   "execution_count": 7,
   "metadata": {
    "ExecuteTime": {
     "end_time": "2019-10-03T16:05:26.326500Z",
     "start_time": "2019-10-03T16:05:26.321515Z"
    }
   },
   "outputs": [],
   "source": [
    "# 퍼셉트론을 이용한 논리 회로 XOR\n",
    "def XOR(x1, x2):\n",
    "    s1 = NAND(x1, x2)\n",
    "    s2 = OR(x1, x2)\n",
    "    y = AND(s1, s2)\n",
    "    return y"
   ]
  },
  {
   "cell_type": "code",
   "execution_count": 8,
   "metadata": {
    "ExecuteTime": {
     "end_time": "2019-10-03T16:05:32.126980Z",
     "start_time": "2019-10-03T16:05:32.119999Z"
    }
   },
   "outputs": [
    {
     "name": "stdout",
     "output_type": "stream",
     "text": [
      "XOR\n",
      "(0, 0) -> 0\n",
      "(1, 0) -> 1\n",
      "(0, 1) -> 1\n",
      "(1, 1) -> 0\n"
     ]
    }
   ],
   "source": [
    "inputs = [(0,0), (1,0), (0,1), (1,1)]\n",
    "print(\"XOR\")\n",
    "for x1, x2 in inputs:\n",
    "    y = XOR(x1, x2)\n",
    "    print('({x1}, {x2}) -> {y}'.format(x1=x1, x2=x2, y=y))"
   ]
  },
  {
   "cell_type": "code",
   "execution_count": null,
   "metadata": {},
   "outputs": [],
   "source": []
  }
 ],
 "metadata": {
  "hide_input": false,
  "kernelspec": {
   "display_name": "Python 3",
   "language": "python",
   "name": "python3"
  },
  "language_info": {
   "codemirror_mode": {
    "name": "ipython",
    "version": 3
   },
   "file_extension": ".py",
   "mimetype": "text/x-python",
   "name": "python",
   "nbconvert_exporter": "python",
   "pygments_lexer": "ipython3",
   "version": "3.6.9"
  },
  "toc": {
   "base_numbering": 1,
   "nav_menu": {},
   "number_sections": true,
   "sideBar": true,
   "skip_h1_title": false,
   "title_cell": "Table of Contents",
   "title_sidebar": "Contents",
   "toc_cell": false,
   "toc_position": {},
   "toc_section_display": true,
   "toc_window_display": false
  },
  "varInspector": {
   "cols": {
    "lenName": 16,
    "lenType": 16,
    "lenVar": 40
   },
   "kernels_config": {
    "python": {
     "delete_cmd_postfix": "",
     "delete_cmd_prefix": "del ",
     "library": "var_list.py",
     "varRefreshCmd": "print(var_dic_list())"
    },
    "r": {
     "delete_cmd_postfix": ") ",
     "delete_cmd_prefix": "rm(",
     "library": "var_list.r",
     "varRefreshCmd": "cat(var_dic_list()) "
    }
   },
   "types_to_exclude": [
    "module",
    "function",
    "builtin_function_or_method",
    "instance",
    "_Feature"
   ],
   "window_display": false
  }
 },
 "nbformat": 4,
 "nbformat_minor": 2
}
