{
  "nbformat": 4,
  "nbformat_minor": 0,
  "metadata": {
    "colab": {
      "name": "model for seocho(SGD momentum, weight_decay, dropout)++.ipynb",
      "provenance": [],
      "collapsed_sections": [],
      "include_colab_link": true
    },
    "kernelspec": {
      "name": "python3",
      "display_name": "Python 3"
    },
    "accelerator": "GPU"
  },
  "cells": [
    {
      "cell_type": "markdown",
      "metadata": {
        "id": "view-in-github",
        "colab_type": "text"
      },
      "source": [
        "<a href=\"https://colab.research.google.com/github/jinkyukim-me/Summary-Seocho-Pytorch/blob/master/model_for_seocho(SGD_momentum%2C_weight_decay%2C_dropout)%2B%2B.ipynb\" target=\"_parent\"><img src=\"https://colab.research.google.com/assets/colab-badge.svg\" alt=\"Open In Colab\"/></a>"
      ]
    },
    {
      "cell_type": "code",
      "metadata": {
        "id": "RpuvGNqEGg2U",
        "colab_type": "code",
        "colab": {}
      },
      "source": [
        "import torch\n",
        "import torch.nn as nn\n",
        "import torchvision.datasets as dsets\n",
        "import torchvision.transforms as transforms\n",
        "import torch.nn.functional as F\n",
        "import torch.optim as optim\n",
        "from torchsummary import summary"
      ],
      "execution_count": 0,
      "outputs": []
    },
    {
      "cell_type": "code",
      "metadata": {
        "id": "hVZ0idiiGuU8",
        "colab_type": "code",
        "colab": {}
      },
      "source": [
        "batch_size = 100\n",
        "total_epoch = 50\n",
        "learning_rate = 0.0001\n",
        "device = torch.device('cuda' if torch.cuda.is_available() else 'cpu')\n",
        "use_cuda = torch.cuda.is_available()\n",
        "criterion = nn.CrossEntropyLoss().to(device)"
      ],
      "execution_count": 0,
      "outputs": []
    },
    {
      "cell_type": "code",
      "metadata": {
        "id": "N-6HQ89iGvox",
        "colab_type": "code",
        "outputId": "3d84ea2c-3e8e-41e9-96c2-45fa086521cd",
        "colab": {
          "base_uri": "https://localhost:8080/",
          "height": 35
        }
      },
      "source": [
        "train_dataset = dsets.CIFAR10(root='./data',\n",
        "                              train=True,\n",
        "                              transform=transforms.ToTensor(),\n",
        "                              download=True)\n",
        "test_dataset = dsets.CIFAR10(root='./data',\n",
        "                              train=True,\n",
        "                              transform=transforms.ToTensor(),)\n",
        "train_loader = torch.utils.data.DataLoader(dataset=train_dataset,\n",
        "                                           batch_size=batch_size,\n",
        "                                           shuffle=True)\n",
        "test_loader = torch.utils.data.DataLoader(dataset=test_dataset,\n",
        "                                           batch_size=batch_size,\n",
        "                                           shuffle=False)"
      ],
      "execution_count": 0,
      "outputs": [
        {
          "output_type": "stream",
          "text": [
            "Files already downloaded and verified\n"
          ],
          "name": "stdout"
        }
      ]
    },
    {
      "cell_type": "code",
      "metadata": {
        "id": "TgpW0Mw-G4I1",
        "colab_type": "code",
        "colab": {}
      },
      "source": [
        "class SimpleCNN(nn.Module):\n",
        "    def __init__(self, dropout):\n",
        "        super(SimpleCNN, self).__init__()\n",
        "        #convolution layer\n",
        "        self.conv1 = nn.Conv2d(3, 64, kernel_size=3, stride=2, padding=1)\n",
        "        self.conv1_bn = nn.BatchNorm2d(64)\n",
        "        self.act1 = nn.ReLU()\n",
        "        self.pool1 = nn.MaxPool2d(kernel_size=2)\n",
        "        \n",
        "\n",
        "        self.conv2 = nn.Conv2d(64, 192, kernel_size=3, padding=1)\n",
        "        self.conv2_bn = nn.BatchNorm2d(192)\n",
        "        self.act2 = nn.ReLU()\n",
        "        self.pool2 = nn.MaxPool2d(kernel_size=2)\n",
        "\n",
        "        self.conv3 = nn.Conv2d(192, 384, kernel_size=3, padding=1)\n",
        "        self.conv3_bn = nn.BatchNorm2d(384)\n",
        "        self.act3 = nn.ReLU()\n",
        "\n",
        "        self.conv4 = nn.Conv2d(384, 256, kernel_size=3, padding=1)\n",
        "        self.conv4_bn = nn.BatchNorm2d(256)\n",
        "        self.act4 = nn.ReLU()\n",
        "        self.pool3 = nn.MaxPool2d(kernel_size=2)\n",
        "\n",
        "        #fully-connected layer\n",
        "        self.fc1 = nn.Linear(256*2*2, 1000)\n",
        "        self.fc1_bn = nn.BatchNorm1d(1000)\n",
        "        self.dropout = nn.Dropout(dropout)\n",
        "        self.act5 = nn.ReLU()\n",
        "        self.output = nn.Linear(1000, 10)\n",
        "\n",
        "        \n",
        "\n",
        "    def forward(self, x):\n",
        "        x = self.pool1(self.act1(self.conv1_bn(self.conv1(x))))\n",
        "        x = self.pool2(self.act2(self.conv2_bn(self.conv2(x))))\n",
        "        x = self.act3(self.conv3_bn(self.conv3(x)))\n",
        "        x = self.act4(self.conv4_bn(self.conv4(x)))\n",
        "        x = self.pool3(x)\n",
        "\n",
        "        x = x.view(-1, 256*2*2)\n",
        "\n",
        "        x = self.act5(self.fc1_bn(self.fc1(x)))\n",
        "        output = self.dropout(x)\n",
        "        out = self.output(x)\n",
        "        return out"
      ],
      "execution_count": 0,
      "outputs": []
    },
    {
      "cell_type": "code",
      "metadata": {
        "id": "vabAM-PBG6lO",
        "colab_type": "code",
        "colab": {}
      },
      "source": [
        "dropout = 0.5\n",
        "cnn_model = SimpleCNN(dropout).to(device)\n",
        "optimizer = optim.Adam(cnn_model.parameters(), weight_decay=1e-4, lr=learning_rate)\n"
      ],
      "execution_count": 0,
      "outputs": []
    },
    {
      "cell_type": "code",
      "metadata": {
        "id": "Ujtb_OdDG9C9",
        "colab_type": "code",
        "colab": {}
      },
      "source": [
        "def train(model, train_loader):\n",
        "    model.train()\n",
        "\n",
        "    losses = []\n",
        "    for i, (image, label) in enumerate(train_loader):\n",
        "        if use_cuda:\n",
        "            image = image.cuda()\n",
        "            label = label.cuda()\n",
        "\n",
        "        pred_label = model(image)\n",
        "        loss = criterion(pred_label, label)\n",
        "        losses.append(loss.item())\n",
        "\n",
        "        optimizer.zero_grad()\n",
        "        loss.backward()\n",
        "        optimizer.step()\n",
        "    avg_loss = sum(losses) / len(losses)\n",
        "    return avg_loss"
      ],
      "execution_count": 0,
      "outputs": []
    },
    {
      "cell_type": "code",
      "metadata": {
        "id": "I5F7Rk_xG_1Y",
        "colab_type": "code",
        "colab": {}
      },
      "source": [
        "def eval(model, test_loader):\n",
        "    model.eval()\n",
        "    device = next(model.parameters()).device.index\n",
        "\n",
        "    total_cnt = 0\n",
        "    correct_cnt = 0\n",
        "\n",
        "    for i , (image, label) in enumerate(test_loader):\n",
        "        if use_cuda:\n",
        "            image = image.cuda()\n",
        "            label = label.cuda()\n",
        "\n",
        "            out = model(image)\n",
        "            _, pred_label = torch.max(out.data, 1)\n",
        "            total_cnt += image.data.size()[0]\n",
        "            correct_cnt += (pred_label == label.data).sum().item()\n",
        "        return correct_cnt / total_cnt"
      ],
      "execution_count": 0,
      "outputs": []
    },
    {
      "cell_type": "code",
      "metadata": {
        "id": "8qj7B-wtHCL_",
        "colab_type": "code",
        "outputId": "e2855806-94c5-402a-e679-e1ef3b4d51d5",
        "colab": {
          "base_uri": "https://localhost:8080/",
          "height": 903
        }
      },
      "source": [
        "sgd_train_loss_lst = []\n",
        "sgd_test_accuracy_lst = []\n",
        "for epoch in range(total_epoch):\n",
        "    train_loss = train(cnn_model, train_loader)\n",
        "    sgd_train_loss_lst.append(train_loss)\n",
        "    test_accuracy = eval(cnn_model, test_loader)\n",
        "    sgd_test_accuracy_lst.append(test_accuracy)\n",
        "\n",
        "    print(test_accuracy)"
      ],
      "execution_count": 0,
      "outputs": [
        {
          "output_type": "stream",
          "text": [
            "0.66\n",
            "0.71\n",
            "0.85\n",
            "0.89\n",
            "0.95\n",
            "0.96\n",
            "0.99\n",
            "0.99\n",
            "0.99\n",
            "0.98\n",
            "0.99\n",
            "0.97\n",
            "0.96\n",
            "0.97\n",
            "0.96\n",
            "1.0\n",
            "0.98\n",
            "1.0\n",
            "0.98\n",
            "0.99\n",
            "1.0\n",
            "0.99\n",
            "0.98\n",
            "0.97\n",
            "1.0\n",
            "0.99\n",
            "1.0\n",
            "1.0\n",
            "1.0\n",
            "1.0\n",
            "0.98\n",
            "1.0\n",
            "0.99\n",
            "1.0\n",
            "1.0\n",
            "0.98\n",
            "0.99\n",
            "1.0\n",
            "1.0\n",
            "0.98\n",
            "0.98\n",
            "1.0\n",
            "0.99\n",
            "1.0\n",
            "1.0\n",
            "1.0\n",
            "1.0\n",
            "0.98\n",
            "0.98\n",
            "1.0\n"
          ],
          "name": "stdout"
        }
      ]
    },
    {
      "cell_type": "code",
      "metadata": {
        "id": "junRCM5Cx9D8",
        "colab_type": "code",
        "outputId": "6c943315-5bbd-40a3-d299-fc203eeb71fc",
        "colab": {
          "base_uri": "https://localhost:8080/",
          "height": 35
        }
      },
      "source": [
        "%ls"
      ],
      "execution_count": 0,
      "outputs": [
        {
          "output_type": "stream",
          "text": [
            "\u001b[0m\u001b[01;34mdata\u001b[0m/  \u001b[01;34msample_data\u001b[0m/\n"
          ],
          "name": "stdout"
        }
      ]
    },
    {
      "cell_type": "code",
      "metadata": {
        "id": "LPSb5aqQ3Io6",
        "colab_type": "code",
        "colab": {}
      },
      "source": [
        ""
      ],
      "execution_count": 0,
      "outputs": []
    }
  ]
}